{
  "cells": [
    {
      "cell_type": "markdown",
      "metadata": {
        "id": "view-in-github",
        "colab_type": "text"
      },
      "source": [
        "<a href=\"https://colab.research.google.com/github/BabiiIn/NLP/blob/main/%D0%A7%D0%B0%D1%81%D1%82%D1%8C_1_(%D0%B7%D0%B0%D0%B4%D0%B0%D1%87%D0%B8_1_%D0%B8_2).ipynb\" target=\"_parent\"><img src=\"https://colab.research.google.com/assets/colab-badge.svg\" alt=\"Open In Colab\"/></a>"
      ]
    },
    {
      "cell_type": "markdown",
      "id": "aace3123",
      "metadata": {
        "id": "aace3123"
      },
      "source": [
        "Часть 1\n",
        "\n",
        "Задача:\n",
        "1. Сделать EDA\n",
        "2. Придумать эвристику для предсказания целевого класса. На данном этапе нельзя использовать ML, допускаются исключительно наивные методы, посчитать метрику"
      ]
    },
    {
      "cell_type": "markdown",
      "source": [
        "#Импорт библиотек"
      ],
      "metadata": {
        "id": "tSI_PWjPOMLt"
      },
      "id": "tSI_PWjPOMLt"
    },
    {
      "cell_type": "code",
      "source": [
        "!pip install spacy\n",
        "!pip install spacy_langdetect\n",
        "!python3 -m spacy download en"
      ],
      "metadata": {
        "colab": {
          "base_uri": "https://localhost:8080/"
        },
        "id": "KuYx1WXhI7dI",
        "outputId": "27d0c9ac-610d-47d7-e718-11fbb6718480"
      },
      "id": "KuYx1WXhI7dI",
      "execution_count": null,
      "outputs": [
        {
          "output_type": "stream",
          "name": "stdout",
          "text": [
            "Looking in indexes: https://pypi.org/simple, https://us-python.pkg.dev/colab-wheels/public/simple/\n",
            "Requirement already satisfied: spacy in /usr/local/lib/python3.8/dist-packages (3.4.4)\n",
            "Requirement already satisfied: wasabi<1.1.0,>=0.9.1 in /usr/local/lib/python3.8/dist-packages (from spacy) (0.10.1)\n",
            "Requirement already satisfied: cymem<2.1.0,>=2.0.2 in /usr/local/lib/python3.8/dist-packages (from spacy) (2.0.7)\n",
            "Requirement already satisfied: packaging>=20.0 in /usr/local/lib/python3.8/dist-packages (from spacy) (21.3)\n",
            "Requirement already satisfied: thinc<8.2.0,>=8.1.0 in /usr/local/lib/python3.8/dist-packages (from spacy) (8.1.6)\n",
            "Requirement already satisfied: pydantic!=1.8,!=1.8.1,<1.11.0,>=1.7.4 in /usr/local/lib/python3.8/dist-packages (from spacy) (1.10.4)\n",
            "Requirement already satisfied: jinja2 in /usr/local/lib/python3.8/dist-packages (from spacy) (2.11.3)\n",
            "Requirement already satisfied: langcodes<4.0.0,>=3.2.0 in /usr/local/lib/python3.8/dist-packages (from spacy) (3.3.0)\n",
            "Requirement already satisfied: typer<0.8.0,>=0.3.0 in /usr/local/lib/python3.8/dist-packages (from spacy) (0.7.0)\n",
            "Requirement already satisfied: preshed<3.1.0,>=3.0.2 in /usr/local/lib/python3.8/dist-packages (from spacy) (3.0.8)\n",
            "Requirement already satisfied: spacy-loggers<2.0.0,>=1.0.0 in /usr/local/lib/python3.8/dist-packages (from spacy) (1.0.4)\n",
            "Requirement already satisfied: catalogue<2.1.0,>=2.0.6 in /usr/local/lib/python3.8/dist-packages (from spacy) (2.0.8)\n",
            "Requirement already satisfied: murmurhash<1.1.0,>=0.28.0 in /usr/local/lib/python3.8/dist-packages (from spacy) (1.0.9)\n",
            "Requirement already satisfied: requests<3.0.0,>=2.13.0 in /usr/local/lib/python3.8/dist-packages (from spacy) (2.25.1)\n",
            "Requirement already satisfied: pathy>=0.3.5 in /usr/local/lib/python3.8/dist-packages (from spacy) (0.10.1)\n",
            "Requirement already satisfied: numpy>=1.15.0 in /usr/local/lib/python3.8/dist-packages (from spacy) (1.21.6)\n",
            "Requirement already satisfied: smart-open<7.0.0,>=5.2.1 in /usr/local/lib/python3.8/dist-packages (from spacy) (6.3.0)\n",
            "Requirement already satisfied: tqdm<5.0.0,>=4.38.0 in /usr/local/lib/python3.8/dist-packages (from spacy) (4.64.1)\n",
            "Requirement already satisfied: srsly<3.0.0,>=2.4.3 in /usr/local/lib/python3.8/dist-packages (from spacy) (2.4.5)\n",
            "Requirement already satisfied: setuptools in /usr/local/lib/python3.8/dist-packages (from spacy) (57.4.0)\n",
            "Requirement already satisfied: spacy-legacy<3.1.0,>=3.0.10 in /usr/local/lib/python3.8/dist-packages (from spacy) (3.0.11)\n",
            "Requirement already satisfied: pyparsing!=3.0.5,>=2.0.2 in /usr/local/lib/python3.8/dist-packages (from packaging>=20.0->spacy) (3.0.9)\n",
            "Requirement already satisfied: typing-extensions>=4.2.0 in /usr/local/lib/python3.8/dist-packages (from pydantic!=1.8,!=1.8.1,<1.11.0,>=1.7.4->spacy) (4.4.0)\n",
            "Requirement already satisfied: urllib3<1.27,>=1.21.1 in /usr/local/lib/python3.8/dist-packages (from requests<3.0.0,>=2.13.0->spacy) (1.24.3)\n",
            "Requirement already satisfied: idna<3,>=2.5 in /usr/local/lib/python3.8/dist-packages (from requests<3.0.0,>=2.13.0->spacy) (2.10)\n",
            "Requirement already satisfied: certifi>=2017.4.17 in /usr/local/lib/python3.8/dist-packages (from requests<3.0.0,>=2.13.0->spacy) (2022.12.7)\n",
            "Requirement already satisfied: chardet<5,>=3.0.2 in /usr/local/lib/python3.8/dist-packages (from requests<3.0.0,>=2.13.0->spacy) (4.0.0)\n",
            "Requirement already satisfied: blis<0.8.0,>=0.7.8 in /usr/local/lib/python3.8/dist-packages (from thinc<8.2.0,>=8.1.0->spacy) (0.7.9)\n",
            "Requirement already satisfied: confection<1.0.0,>=0.0.1 in /usr/local/lib/python3.8/dist-packages (from thinc<8.2.0,>=8.1.0->spacy) (0.0.3)\n",
            "Requirement already satisfied: click<9.0.0,>=7.1.1 in /usr/local/lib/python3.8/dist-packages (from typer<0.8.0,>=0.3.0->spacy) (7.1.2)\n",
            "Requirement already satisfied: MarkupSafe>=0.23 in /usr/local/lib/python3.8/dist-packages (from jinja2->spacy) (2.0.1)\n",
            "Looking in indexes: https://pypi.org/simple, https://us-python.pkg.dev/colab-wheels/public/simple/\n",
            "Collecting spacy_langdetect\n",
            "  Downloading spacy_langdetect-0.1.2-py3-none-any.whl (5.0 kB)\n",
            "Collecting langdetect==1.0.7\n",
            "  Downloading langdetect-1.0.7.zip (998 kB)\n",
            "\u001b[2K     \u001b[90m━━━━━━━━━━━━━━━━━━━━━━━━━━━━━━━━━━━━━━\u001b[0m \u001b[32m998.1/998.1 KB\u001b[0m \u001b[31m15.0 MB/s\u001b[0m eta \u001b[36m0:00:00\u001b[0m\n",
            "\u001b[?25h  Preparing metadata (setup.py) ... \u001b[?25l\u001b[?25hdone\n",
            "Requirement already satisfied: pytest in /usr/local/lib/python3.8/dist-packages (from spacy_langdetect) (3.6.4)\n",
            "Requirement already satisfied: six in /usr/local/lib/python3.8/dist-packages (from langdetect==1.0.7->spacy_langdetect) (1.15.0)\n",
            "Requirement already satisfied: pluggy<0.8,>=0.5 in /usr/local/lib/python3.8/dist-packages (from pytest->spacy_langdetect) (0.7.1)\n",
            "Requirement already satisfied: more-itertools>=4.0.0 in /usr/local/lib/python3.8/dist-packages (from pytest->spacy_langdetect) (9.0.0)\n",
            "Requirement already satisfied: py>=1.5.0 in /usr/local/lib/python3.8/dist-packages (from pytest->spacy_langdetect) (1.11.0)\n",
            "Requirement already satisfied: setuptools in /usr/local/lib/python3.8/dist-packages (from pytest->spacy_langdetect) (57.4.0)\n",
            "Requirement already satisfied: attrs>=17.4.0 in /usr/local/lib/python3.8/dist-packages (from pytest->spacy_langdetect) (22.2.0)\n",
            "Requirement already satisfied: atomicwrites>=1.0 in /usr/local/lib/python3.8/dist-packages (from pytest->spacy_langdetect) (1.4.1)\n",
            "Building wheels for collected packages: langdetect\n",
            "  Building wheel for langdetect (setup.py) ... \u001b[?25l\u001b[?25hdone\n",
            "  Created wheel for langdetect: filename=langdetect-1.0.7-py3-none-any.whl size=993429 sha256=60ba83b696eef17502522ed6976bbf1466b1c48c9bba6b81f265c567ebf782ee\n",
            "  Stored in directory: /root/.cache/pip/wheels/c1/6d/ab/bf9ecd1ab14dd236da586dfd0d4b008e2e803e571cf2229c26\n",
            "Successfully built langdetect\n",
            "Installing collected packages: langdetect, spacy_langdetect\n",
            "Successfully installed langdetect-1.0.7 spacy_langdetect-0.1.2\n",
            "/usr/local/lib/python3.8/dist-packages/torch/cuda/__init__.py:497: UserWarning: Can't initialize NVML\n",
            "  warnings.warn(\"Can't initialize NVML\")\n",
            "2023-01-25 18:15:10.689819: E tensorflow/stream_executor/cuda/cuda_driver.cc:271] failed call to cuInit: CUDA_ERROR_NO_DEVICE: no CUDA-capable device is detected\n",
            "\u001b[38;5;3m⚠ As of spaCy v3.0, shortcuts like 'en' are deprecated. Please use the\n",
            "full pipeline package name 'en_core_web_sm' instead.\u001b[0m\n",
            "Looking in indexes: https://pypi.org/simple, https://us-python.pkg.dev/colab-wheels/public/simple/\n",
            "Collecting en-core-web-sm==3.4.1\n",
            "  Downloading https://github.com/explosion/spacy-models/releases/download/en_core_web_sm-3.4.1/en_core_web_sm-3.4.1-py3-none-any.whl (12.8 MB)\n",
            "\u001b[2K     \u001b[90m━━━━━━━━━━━━━━━━━━━━━━━━━━━━━━━━━━━━━━━━\u001b[0m \u001b[32m12.8/12.8 MB\u001b[0m \u001b[31m72.6 MB/s\u001b[0m eta \u001b[36m0:00:00\u001b[0m\n",
            "\u001b[?25hRequirement already satisfied: spacy<3.5.0,>=3.4.0 in /usr/local/lib/python3.8/dist-packages (from en-core-web-sm==3.4.1) (3.4.4)\n",
            "Requirement already satisfied: jinja2 in /usr/local/lib/python3.8/dist-packages (from spacy<3.5.0,>=3.4.0->en-core-web-sm==3.4.1) (2.11.3)\n",
            "Requirement already satisfied: requests<3.0.0,>=2.13.0 in /usr/local/lib/python3.8/dist-packages (from spacy<3.5.0,>=3.4.0->en-core-web-sm==3.4.1) (2.25.1)\n",
            "Requirement already satisfied: cymem<2.1.0,>=2.0.2 in /usr/local/lib/python3.8/dist-packages (from spacy<3.5.0,>=3.4.0->en-core-web-sm==3.4.1) (2.0.7)\n",
            "Requirement already satisfied: pydantic!=1.8,!=1.8.1,<1.11.0,>=1.7.4 in /usr/local/lib/python3.8/dist-packages (from spacy<3.5.0,>=3.4.0->en-core-web-sm==3.4.1) (1.10.4)\n",
            "Requirement already satisfied: tqdm<5.0.0,>=4.38.0 in /usr/local/lib/python3.8/dist-packages (from spacy<3.5.0,>=3.4.0->en-core-web-sm==3.4.1) (4.64.1)\n",
            "Requirement already satisfied: langcodes<4.0.0,>=3.2.0 in /usr/local/lib/python3.8/dist-packages (from spacy<3.5.0,>=3.4.0->en-core-web-sm==3.4.1) (3.3.0)\n",
            "Requirement already satisfied: srsly<3.0.0,>=2.4.3 in /usr/local/lib/python3.8/dist-packages (from spacy<3.5.0,>=3.4.0->en-core-web-sm==3.4.1) (2.4.5)\n",
            "Requirement already satisfied: smart-open<7.0.0,>=5.2.1 in /usr/local/lib/python3.8/dist-packages (from spacy<3.5.0,>=3.4.0->en-core-web-sm==3.4.1) (6.3.0)\n",
            "Requirement already satisfied: typer<0.8.0,>=0.3.0 in /usr/local/lib/python3.8/dist-packages (from spacy<3.5.0,>=3.4.0->en-core-web-sm==3.4.1) (0.7.0)\n",
            "Requirement already satisfied: wasabi<1.1.0,>=0.9.1 in /usr/local/lib/python3.8/dist-packages (from spacy<3.5.0,>=3.4.0->en-core-web-sm==3.4.1) (0.10.1)\n",
            "Requirement already satisfied: preshed<3.1.0,>=3.0.2 in /usr/local/lib/python3.8/dist-packages (from spacy<3.5.0,>=3.4.0->en-core-web-sm==3.4.1) (3.0.8)\n",
            "Requirement already satisfied: pathy>=0.3.5 in /usr/local/lib/python3.8/dist-packages (from spacy<3.5.0,>=3.4.0->en-core-web-sm==3.4.1) (0.10.1)\n",
            "Requirement already satisfied: murmurhash<1.1.0,>=0.28.0 in /usr/local/lib/python3.8/dist-packages (from spacy<3.5.0,>=3.4.0->en-core-web-sm==3.4.1) (1.0.9)\n",
            "Requirement already satisfied: spacy-legacy<3.1.0,>=3.0.10 in /usr/local/lib/python3.8/dist-packages (from spacy<3.5.0,>=3.4.0->en-core-web-sm==3.4.1) (3.0.11)\n",
            "Requirement already satisfied: numpy>=1.15.0 in /usr/local/lib/python3.8/dist-packages (from spacy<3.5.0,>=3.4.0->en-core-web-sm==3.4.1) (1.21.6)\n",
            "Requirement already satisfied: spacy-loggers<2.0.0,>=1.0.0 in /usr/local/lib/python3.8/dist-packages (from spacy<3.5.0,>=3.4.0->en-core-web-sm==3.4.1) (1.0.4)\n",
            "Requirement already satisfied: catalogue<2.1.0,>=2.0.6 in /usr/local/lib/python3.8/dist-packages (from spacy<3.5.0,>=3.4.0->en-core-web-sm==3.4.1) (2.0.8)\n",
            "Requirement already satisfied: setuptools in /usr/local/lib/python3.8/dist-packages (from spacy<3.5.0,>=3.4.0->en-core-web-sm==3.4.1) (57.4.0)\n",
            "Requirement already satisfied: packaging>=20.0 in /usr/local/lib/python3.8/dist-packages (from spacy<3.5.0,>=3.4.0->en-core-web-sm==3.4.1) (21.3)\n",
            "Requirement already satisfied: thinc<8.2.0,>=8.1.0 in /usr/local/lib/python3.8/dist-packages (from spacy<3.5.0,>=3.4.0->en-core-web-sm==3.4.1) (8.1.6)\n",
            "Requirement already satisfied: pyparsing!=3.0.5,>=2.0.2 in /usr/local/lib/python3.8/dist-packages (from packaging>=20.0->spacy<3.5.0,>=3.4.0->en-core-web-sm==3.4.1) (3.0.9)\n",
            "Requirement already satisfied: typing-extensions>=4.2.0 in /usr/local/lib/python3.8/dist-packages (from pydantic!=1.8,!=1.8.1,<1.11.0,>=1.7.4->spacy<3.5.0,>=3.4.0->en-core-web-sm==3.4.1) (4.4.0)\n",
            "Requirement already satisfied: idna<3,>=2.5 in /usr/local/lib/python3.8/dist-packages (from requests<3.0.0,>=2.13.0->spacy<3.5.0,>=3.4.0->en-core-web-sm==3.4.1) (2.10)\n",
            "Requirement already satisfied: urllib3<1.27,>=1.21.1 in /usr/local/lib/python3.8/dist-packages (from requests<3.0.0,>=2.13.0->spacy<3.5.0,>=3.4.0->en-core-web-sm==3.4.1) (1.24.3)\n",
            "Requirement already satisfied: certifi>=2017.4.17 in /usr/local/lib/python3.8/dist-packages (from requests<3.0.0,>=2.13.0->spacy<3.5.0,>=3.4.0->en-core-web-sm==3.4.1) (2022.12.7)\n",
            "Requirement already satisfied: chardet<5,>=3.0.2 in /usr/local/lib/python3.8/dist-packages (from requests<3.0.0,>=2.13.0->spacy<3.5.0,>=3.4.0->en-core-web-sm==3.4.1) (4.0.0)\n",
            "Requirement already satisfied: confection<1.0.0,>=0.0.1 in /usr/local/lib/python3.8/dist-packages (from thinc<8.2.0,>=8.1.0->spacy<3.5.0,>=3.4.0->en-core-web-sm==3.4.1) (0.0.3)\n",
            "Requirement already satisfied: blis<0.8.0,>=0.7.8 in /usr/local/lib/python3.8/dist-packages (from thinc<8.2.0,>=8.1.0->spacy<3.5.0,>=3.4.0->en-core-web-sm==3.4.1) (0.7.9)\n",
            "Requirement already satisfied: click<9.0.0,>=7.1.1 in /usr/local/lib/python3.8/dist-packages (from typer<0.8.0,>=0.3.0->spacy<3.5.0,>=3.4.0->en-core-web-sm==3.4.1) (7.1.2)\n",
            "Requirement already satisfied: MarkupSafe>=0.23 in /usr/local/lib/python3.8/dist-packages (from jinja2->spacy<3.5.0,>=3.4.0->en-core-web-sm==3.4.1) (2.0.1)\n",
            "\u001b[38;5;2m✔ Download and installation successful\u001b[0m\n",
            "You can now load the package via spacy.load('en_core_web_sm')\n"
          ]
        }
      ]
    },
    {
      "cell_type": "code",
      "execution_count": null,
      "id": "da8fd09f",
      "metadata": {
        "id": "da8fd09f"
      },
      "outputs": [],
      "source": [
        "import pandas as pd\n",
        "import numpy as np\n",
        "import re\n",
        "import matplotlib\n",
        "import matplotlib.pyplot as plt\n",
        "import seaborn as sns\n",
        "import warnings\n",
        "import string\n",
        "import string\n",
        "import spacy\n",
        "\n",
        "from spacy.language import Language\n",
        "from spacy_langdetect import LanguageDetector\n",
        "from bs4 import BeautifulSoup\n",
        "from collections import Counter\n",
        "from sklearn import metrics\n",
        "from string import punctuation\n",
        "from collections import Counter\n",
        "from sklearn.feature_extraction.text import CountVectorizer\n",
        "from tqdm import tqdm\n",
        "\n",
        "warnings.filterwarnings('ignore')\n",
        "%matplotlib inline"
      ]
    },
    {
      "cell_type": "markdown",
      "id": "04ef2e15",
      "metadata": {
        "id": "04ef2e15"
      },
      "source": [
        "#Загрузка и чтение данных"
      ]
    },
    {
      "cell_type": "code",
      "source": [
        "!unzip train.csv.zip"
      ],
      "metadata": {
        "colab": {
          "base_uri": "https://localhost:8080/"
        },
        "id": "xd8ShIIFPMkn",
        "outputId": "08d720e9-c173-4c67-d991-3bc28ca68751"
      },
      "id": "xd8ShIIFPMkn",
      "execution_count": null,
      "outputs": [
        {
          "output_type": "stream",
          "name": "stdout",
          "text": [
            "Archive:  train.csv.zip\n",
            "  inflating: train.csv               \n"
          ]
        }
      ]
    },
    {
      "cell_type": "code",
      "execution_count": null,
      "id": "37cef0f7",
      "metadata": {
        "colab": {
          "base_uri": "https://localhost:8080/",
          "height": 423
        },
        "id": "37cef0f7",
        "outputId": "25f5f70f-3d5e-4f63-8da5-7a26a8b2a331"
      },
      "outputs": [
        {
          "output_type": "execute_result",
          "data": {
            "text/plain": [
              "                                                    text               label\n",
              "0      @MeNyrbie @Phil_Gahan @Chrisitv https://t.co/i...             Neutral\n",
              "1      advice Talk to your neighbours family to excha...            Positive\n",
              "2      Coronavirus Australia: Woolworths to give elde...            Positive\n",
              "3      My food stock is not the only one which is emp...            Positive\n",
              "4      Me, ready to go at supermarket during the #COV...  Extremely Negative\n",
              "...                                                  ...                 ...\n",
              "41154  Airline pilots offering to stock supermarket s...             Neutral\n",
              "41155  Response to complaint not provided citing COVI...  Extremely Negative\n",
              "41156  You know itÂs getting tough when @KameronWild...            Positive\n",
              "41157  Is it wrong that the smell of hand sanitizer i...             Neutral\n",
              "41158  @TartiiCat Well new/used Rift S are going for ...            Negative\n",
              "\n",
              "[41155 rows x 2 columns]"
            ],
            "text/html": [
              "\n",
              "  <div id=\"df-c0bec745-4cb7-4ff7-b310-ea86125226f4\">\n",
              "    <div class=\"colab-df-container\">\n",
              "      <div>\n",
              "<style scoped>\n",
              "    .dataframe tbody tr th:only-of-type {\n",
              "        vertical-align: middle;\n",
              "    }\n",
              "\n",
              "    .dataframe tbody tr th {\n",
              "        vertical-align: top;\n",
              "    }\n",
              "\n",
              "    .dataframe thead th {\n",
              "        text-align: right;\n",
              "    }\n",
              "</style>\n",
              "<table border=\"1\" class=\"dataframe\">\n",
              "  <thead>\n",
              "    <tr style=\"text-align: right;\">\n",
              "      <th></th>\n",
              "      <th>text</th>\n",
              "      <th>label</th>\n",
              "    </tr>\n",
              "  </thead>\n",
              "  <tbody>\n",
              "    <tr>\n",
              "      <th>0</th>\n",
              "      <td>@MeNyrbie @Phil_Gahan @Chrisitv https://t.co/i...</td>\n",
              "      <td>Neutral</td>\n",
              "    </tr>\n",
              "    <tr>\n",
              "      <th>1</th>\n",
              "      <td>advice Talk to your neighbours family to excha...</td>\n",
              "      <td>Positive</td>\n",
              "    </tr>\n",
              "    <tr>\n",
              "      <th>2</th>\n",
              "      <td>Coronavirus Australia: Woolworths to give elde...</td>\n",
              "      <td>Positive</td>\n",
              "    </tr>\n",
              "    <tr>\n",
              "      <th>3</th>\n",
              "      <td>My food stock is not the only one which is emp...</td>\n",
              "      <td>Positive</td>\n",
              "    </tr>\n",
              "    <tr>\n",
              "      <th>4</th>\n",
              "      <td>Me, ready to go at supermarket during the #COV...</td>\n",
              "      <td>Extremely Negative</td>\n",
              "    </tr>\n",
              "    <tr>\n",
              "      <th>...</th>\n",
              "      <td>...</td>\n",
              "      <td>...</td>\n",
              "    </tr>\n",
              "    <tr>\n",
              "      <th>41154</th>\n",
              "      <td>Airline pilots offering to stock supermarket s...</td>\n",
              "      <td>Neutral</td>\n",
              "    </tr>\n",
              "    <tr>\n",
              "      <th>41155</th>\n",
              "      <td>Response to complaint not provided citing COVI...</td>\n",
              "      <td>Extremely Negative</td>\n",
              "    </tr>\n",
              "    <tr>\n",
              "      <th>41156</th>\n",
              "      <td>You know itÂs getting tough when @KameronWild...</td>\n",
              "      <td>Positive</td>\n",
              "    </tr>\n",
              "    <tr>\n",
              "      <th>41157</th>\n",
              "      <td>Is it wrong that the smell of hand sanitizer i...</td>\n",
              "      <td>Neutral</td>\n",
              "    </tr>\n",
              "    <tr>\n",
              "      <th>41158</th>\n",
              "      <td>@TartiiCat Well new/used Rift S are going for ...</td>\n",
              "      <td>Negative</td>\n",
              "    </tr>\n",
              "  </tbody>\n",
              "</table>\n",
              "<p>41155 rows × 2 columns</p>\n",
              "</div>\n",
              "      <button class=\"colab-df-convert\" onclick=\"convertToInteractive('df-c0bec745-4cb7-4ff7-b310-ea86125226f4')\"\n",
              "              title=\"Convert this dataframe to an interactive table.\"\n",
              "              style=\"display:none;\">\n",
              "        \n",
              "  <svg xmlns=\"http://www.w3.org/2000/svg\" height=\"24px\"viewBox=\"0 0 24 24\"\n",
              "       width=\"24px\">\n",
              "    <path d=\"M0 0h24v24H0V0z\" fill=\"none\"/>\n",
              "    <path d=\"M18.56 5.44l.94 2.06.94-2.06 2.06-.94-2.06-.94-.94-2.06-.94 2.06-2.06.94zm-11 1L8.5 8.5l.94-2.06 2.06-.94-2.06-.94L8.5 2.5l-.94 2.06-2.06.94zm10 10l.94 2.06.94-2.06 2.06-.94-2.06-.94-.94-2.06-.94 2.06-2.06.94z\"/><path d=\"M17.41 7.96l-1.37-1.37c-.4-.4-.92-.59-1.43-.59-.52 0-1.04.2-1.43.59L10.3 9.45l-7.72 7.72c-.78.78-.78 2.05 0 2.83L4 21.41c.39.39.9.59 1.41.59.51 0 1.02-.2 1.41-.59l7.78-7.78 2.81-2.81c.8-.78.8-2.07 0-2.86zM5.41 20L4 18.59l7.72-7.72 1.47 1.35L5.41 20z\"/>\n",
              "  </svg>\n",
              "      </button>\n",
              "      \n",
              "  <style>\n",
              "    .colab-df-container {\n",
              "      display:flex;\n",
              "      flex-wrap:wrap;\n",
              "      gap: 12px;\n",
              "    }\n",
              "\n",
              "    .colab-df-convert {\n",
              "      background-color: #E8F0FE;\n",
              "      border: none;\n",
              "      border-radius: 50%;\n",
              "      cursor: pointer;\n",
              "      display: none;\n",
              "      fill: #1967D2;\n",
              "      height: 32px;\n",
              "      padding: 0 0 0 0;\n",
              "      width: 32px;\n",
              "    }\n",
              "\n",
              "    .colab-df-convert:hover {\n",
              "      background-color: #E2EBFA;\n",
              "      box-shadow: 0px 1px 2px rgba(60, 64, 67, 0.3), 0px 1px 3px 1px rgba(60, 64, 67, 0.15);\n",
              "      fill: #174EA6;\n",
              "    }\n",
              "\n",
              "    [theme=dark] .colab-df-convert {\n",
              "      background-color: #3B4455;\n",
              "      fill: #D2E3FC;\n",
              "    }\n",
              "\n",
              "    [theme=dark] .colab-df-convert:hover {\n",
              "      background-color: #434B5C;\n",
              "      box-shadow: 0px 1px 3px 1px rgba(0, 0, 0, 0.15);\n",
              "      filter: drop-shadow(0px 1px 2px rgba(0, 0, 0, 0.3));\n",
              "      fill: #FFFFFF;\n",
              "    }\n",
              "  </style>\n",
              "\n",
              "      <script>\n",
              "        const buttonEl =\n",
              "          document.querySelector('#df-c0bec745-4cb7-4ff7-b310-ea86125226f4 button.colab-df-convert');\n",
              "        buttonEl.style.display =\n",
              "          google.colab.kernel.accessAllowed ? 'block' : 'none';\n",
              "\n",
              "        async function convertToInteractive(key) {\n",
              "          const element = document.querySelector('#df-c0bec745-4cb7-4ff7-b310-ea86125226f4');\n",
              "          const dataTable =\n",
              "            await google.colab.kernel.invokeFunction('convertToInteractive',\n",
              "                                                     [key], {});\n",
              "          if (!dataTable) return;\n",
              "\n",
              "          const docLinkHtml = 'Like what you see? Visit the ' +\n",
              "            '<a target=\"_blank\" href=https://colab.research.google.com/notebooks/data_table.ipynb>data table notebook</a>'\n",
              "            + ' to learn more about interactive tables.';\n",
              "          element.innerHTML = '';\n",
              "          dataTable['output_type'] = 'display_data';\n",
              "          await google.colab.output.renderOutput(dataTable, element);\n",
              "          const docLink = document.createElement('div');\n",
              "          docLink.innerHTML = docLinkHtml;\n",
              "          element.appendChild(docLink);\n",
              "        }\n",
              "      </script>\n",
              "    </div>\n",
              "  </div>\n",
              "  "
            ]
          },
          "metadata": {},
          "execution_count": 6
        }
      ],
      "source": [
        "#  Читаем данные, удаляем id -колонку, меняем названия колонок\n",
        "train = pd.read_csv('/content/train.csv', encoding=\"utf8\").dropna()\n",
        "train.drop(train.columns[0], axis=1, inplace=True)\n",
        "train.rename(columns={'Text': 'text', 'Sentiment': 'label'},\n",
        "            inplace=True)\n",
        "train"
      ]
    },
    {
      "cell_type": "markdown",
      "source": [
        "# EDA"
      ],
      "metadata": {
        "id": "VsSCmTsUQhPS"
      },
      "id": "VsSCmTsUQhPS"
    },
    {
      "cell_type": "markdown",
      "source": [
        "## Пропуски, дубликаты, размерность и тип данных"
      ],
      "metadata": {
        "id": "lE3w76HTQ2sp"
      },
      "id": "lE3w76HTQ2sp"
    },
    {
      "cell_type": "code",
      "execution_count": null,
      "id": "cfc6bd0b",
      "metadata": {
        "colab": {
          "base_uri": "https://localhost:8080/"
        },
        "id": "cfc6bd0b",
        "outputId": "2d8822a9-3618-41b8-8a75-508f7ecae7aa"
      },
      "outputs": [
        {
          "output_type": "execute_result",
          "data": {
            "text/plain": [
              "text     0\n",
              "label    0\n",
              "dtype: int64"
            ]
          },
          "metadata": {},
          "execution_count": 24
        }
      ],
      "source": [
        "# Проверяем наличие пропущенных значений - их нет\n",
        "train.isnull().sum()"
      ]
    },
    {
      "cell_type": "code",
      "execution_count": null,
      "id": "6d8f607b",
      "metadata": {
        "colab": {
          "base_uri": "https://localhost:8080/"
        },
        "id": "6d8f607b",
        "outputId": "670bd4fc-67c9-44b0-b5c1-33b68f5857ae"
      },
      "outputs": [
        {
          "output_type": "execute_result",
          "data": {
            "text/plain": [
              "(41155, 2)"
            ]
          },
          "metadata": {},
          "execution_count": 25
        }
      ],
      "source": [
        "# Смотрим размерность данных - массив из 41155 строк и 2-х колонок\n",
        "train.shape"
      ]
    },
    {
      "cell_type": "code",
      "execution_count": null,
      "id": "c30d8307",
      "metadata": {
        "colab": {
          "base_uri": "https://localhost:8080/"
        },
        "id": "c30d8307",
        "outputId": "22b70560-c0ae-4f31-8782-b0af96809eaf"
      },
      "outputs": [
        {
          "output_type": "execute_result",
          "data": {
            "text/plain": [
              "(41155, 2)"
            ]
          },
          "metadata": {},
          "execution_count": 26
        }
      ],
      "source": [
        "# Проверяем на дубликаты - их нет\n",
        "train = train.drop_duplicates()\n",
        "train.shape\n"
      ]
    },
    {
      "cell_type": "code",
      "execution_count": null,
      "id": "a21bb739",
      "metadata": {
        "colab": {
          "base_uri": "https://localhost:8080/"
        },
        "id": "a21bb739",
        "outputId": "39ef51da-0425-4c0b-ba77-3dc8c316e9a1"
      },
      "outputs": [
        {
          "output_type": "stream",
          "name": "stdout",
          "text": [
            "<class 'pandas.core.frame.DataFrame'>\n",
            "Int64Index: 41155 entries, 0 to 41158\n",
            "Data columns (total 2 columns):\n",
            " #   Column  Non-Null Count  Dtype \n",
            "---  ------  --------------  ----- \n",
            " 0   text    41155 non-null  object\n",
            " 1   label   41155 non-null  object\n",
            "dtypes: object(2)\n",
            "memory usage: 964.6+ KB\n"
          ]
        }
      ],
      "source": [
        "# Данные включают только строковые столбцы\n",
        "train.info()"
      ]
    },
    {
      "cell_type": "code",
      "execution_count": null,
      "id": "9ecf22c8",
      "metadata": {
        "colab": {
          "base_uri": "https://localhost:8080/",
          "height": 174
        },
        "id": "9ecf22c8",
        "outputId": "cad1b335-6899-4c21-83ea-b03cfb62f9b9"
      },
      "outputs": [
        {
          "output_type": "execute_result",
          "data": {
            "text/plain": [
              "                                                     text     label\n",
              "count                                               41155     41155\n",
              "unique                                              41155         5\n",
              "top     @MeNyrbie @Phil_Gahan @Chrisitv https://t.co/i...  Positive\n",
              "freq                                                    1     11422"
            ],
            "text/html": [
              "\n",
              "  <div id=\"df-f2961fc2-5826-4e6f-99d3-abc40699c922\">\n",
              "    <div class=\"colab-df-container\">\n",
              "      <div>\n",
              "<style scoped>\n",
              "    .dataframe tbody tr th:only-of-type {\n",
              "        vertical-align: middle;\n",
              "    }\n",
              "\n",
              "    .dataframe tbody tr th {\n",
              "        vertical-align: top;\n",
              "    }\n",
              "\n",
              "    .dataframe thead th {\n",
              "        text-align: right;\n",
              "    }\n",
              "</style>\n",
              "<table border=\"1\" class=\"dataframe\">\n",
              "  <thead>\n",
              "    <tr style=\"text-align: right;\">\n",
              "      <th></th>\n",
              "      <th>text</th>\n",
              "      <th>label</th>\n",
              "    </tr>\n",
              "  </thead>\n",
              "  <tbody>\n",
              "    <tr>\n",
              "      <th>count</th>\n",
              "      <td>41155</td>\n",
              "      <td>41155</td>\n",
              "    </tr>\n",
              "    <tr>\n",
              "      <th>unique</th>\n",
              "      <td>41155</td>\n",
              "      <td>5</td>\n",
              "    </tr>\n",
              "    <tr>\n",
              "      <th>top</th>\n",
              "      <td>@MeNyrbie @Phil_Gahan @Chrisitv https://t.co/i...</td>\n",
              "      <td>Positive</td>\n",
              "    </tr>\n",
              "    <tr>\n",
              "      <th>freq</th>\n",
              "      <td>1</td>\n",
              "      <td>11422</td>\n",
              "    </tr>\n",
              "  </tbody>\n",
              "</table>\n",
              "</div>\n",
              "      <button class=\"colab-df-convert\" onclick=\"convertToInteractive('df-f2961fc2-5826-4e6f-99d3-abc40699c922')\"\n",
              "              title=\"Convert this dataframe to an interactive table.\"\n",
              "              style=\"display:none;\">\n",
              "        \n",
              "  <svg xmlns=\"http://www.w3.org/2000/svg\" height=\"24px\"viewBox=\"0 0 24 24\"\n",
              "       width=\"24px\">\n",
              "    <path d=\"M0 0h24v24H0V0z\" fill=\"none\"/>\n",
              "    <path d=\"M18.56 5.44l.94 2.06.94-2.06 2.06-.94-2.06-.94-.94-2.06-.94 2.06-2.06.94zm-11 1L8.5 8.5l.94-2.06 2.06-.94-2.06-.94L8.5 2.5l-.94 2.06-2.06.94zm10 10l.94 2.06.94-2.06 2.06-.94-2.06-.94-.94-2.06-.94 2.06-2.06.94z\"/><path d=\"M17.41 7.96l-1.37-1.37c-.4-.4-.92-.59-1.43-.59-.52 0-1.04.2-1.43.59L10.3 9.45l-7.72 7.72c-.78.78-.78 2.05 0 2.83L4 21.41c.39.39.9.59 1.41.59.51 0 1.02-.2 1.41-.59l7.78-7.78 2.81-2.81c.8-.78.8-2.07 0-2.86zM5.41 20L4 18.59l7.72-7.72 1.47 1.35L5.41 20z\"/>\n",
              "  </svg>\n",
              "      </button>\n",
              "      \n",
              "  <style>\n",
              "    .colab-df-container {\n",
              "      display:flex;\n",
              "      flex-wrap:wrap;\n",
              "      gap: 12px;\n",
              "    }\n",
              "\n",
              "    .colab-df-convert {\n",
              "      background-color: #E8F0FE;\n",
              "      border: none;\n",
              "      border-radius: 50%;\n",
              "      cursor: pointer;\n",
              "      display: none;\n",
              "      fill: #1967D2;\n",
              "      height: 32px;\n",
              "      padding: 0 0 0 0;\n",
              "      width: 32px;\n",
              "    }\n",
              "\n",
              "    .colab-df-convert:hover {\n",
              "      background-color: #E2EBFA;\n",
              "      box-shadow: 0px 1px 2px rgba(60, 64, 67, 0.3), 0px 1px 3px 1px rgba(60, 64, 67, 0.15);\n",
              "      fill: #174EA6;\n",
              "    }\n",
              "\n",
              "    [theme=dark] .colab-df-convert {\n",
              "      background-color: #3B4455;\n",
              "      fill: #D2E3FC;\n",
              "    }\n",
              "\n",
              "    [theme=dark] .colab-df-convert:hover {\n",
              "      background-color: #434B5C;\n",
              "      box-shadow: 0px 1px 3px 1px rgba(0, 0, 0, 0.15);\n",
              "      filter: drop-shadow(0px 1px 2px rgba(0, 0, 0, 0.3));\n",
              "      fill: #FFFFFF;\n",
              "    }\n",
              "  </style>\n",
              "\n",
              "      <script>\n",
              "        const buttonEl =\n",
              "          document.querySelector('#df-f2961fc2-5826-4e6f-99d3-abc40699c922 button.colab-df-convert');\n",
              "        buttonEl.style.display =\n",
              "          google.colab.kernel.accessAllowed ? 'block' : 'none';\n",
              "\n",
              "        async function convertToInteractive(key) {\n",
              "          const element = document.querySelector('#df-f2961fc2-5826-4e6f-99d3-abc40699c922');\n",
              "          const dataTable =\n",
              "            await google.colab.kernel.invokeFunction('convertToInteractive',\n",
              "                                                     [key], {});\n",
              "          if (!dataTable) return;\n",
              "\n",
              "          const docLinkHtml = 'Like what you see? Visit the ' +\n",
              "            '<a target=\"_blank\" href=https://colab.research.google.com/notebooks/data_table.ipynb>data table notebook</a>'\n",
              "            + ' to learn more about interactive tables.';\n",
              "          element.innerHTML = '';\n",
              "          dataTable['output_type'] = 'display_data';\n",
              "          await google.colab.output.renderOutput(dataTable, element);\n",
              "          const docLink = document.createElement('div');\n",
              "          docLink.innerHTML = docLinkHtml;\n",
              "          element.appendChild(docLink);\n",
              "        }\n",
              "      </script>\n",
              "    </div>\n",
              "  </div>\n",
              "  "
            ]
          },
          "metadata": {},
          "execution_count": 28
        }
      ],
      "source": [
        "train.describe()"
      ]
    },
    {
      "cell_type": "markdown",
      "source": [
        "## Распределение классов"
      ],
      "metadata": {
        "id": "gys4gmlIRB7y"
      },
      "id": "gys4gmlIRB7y"
    },
    {
      "cell_type": "code",
      "execution_count": null,
      "id": "1d9cd9a5",
      "metadata": {
        "colab": {
          "base_uri": "https://localhost:8080/"
        },
        "id": "1d9cd9a5",
        "outputId": "41f3fd24-aa78-4466-8997-cf0b986b5436"
      },
      "outputs": [
        {
          "output_type": "execute_result",
          "data": {
            "text/plain": [
              "5"
            ]
          },
          "metadata": {},
          "execution_count": 29
        }
      ],
      "source": [
        "# Посмотрим количество классов - их 5\n",
        "train['label'].nunique()"
      ]
    },
    {
      "cell_type": "code",
      "execution_count": null,
      "id": "9b1ecc26",
      "metadata": {
        "colab": {
          "base_uri": "https://localhost:8080/"
        },
        "id": "9b1ecc26",
        "outputId": "536f1654-6a94-4455-9fa6-328008b8e01c"
      },
      "outputs": [
        {
          "output_type": "execute_result",
          "data": {
            "text/plain": [
              "Positive              11422\n",
              "Negative               9917\n",
              "Neutral                7711\n",
              "Extremely Positive     6624\n",
              "Extremely Negative     5481\n",
              "Name: label, dtype: int64"
            ]
          },
          "metadata": {},
          "execution_count": 30
        }
      ],
      "source": [
        "# Посмотрим распределение классов в абсолютном значении\n",
        "train.label.value_counts()"
      ]
    },
    {
      "cell_type": "code",
      "execution_count": null,
      "id": "bc2e3c9f",
      "metadata": {
        "colab": {
          "base_uri": "https://localhost:8080/"
        },
        "id": "bc2e3c9f",
        "outputId": "e723c012-5a96-4044-c7e1-65c54c3805db"
      },
      "outputs": [
        {
          "output_type": "execute_result",
          "data": {
            "text/plain": [
              "Positive              0.277536\n",
              "Negative              0.240967\n",
              "Neutral               0.187365\n",
              "Extremely Positive    0.160952\n",
              "Extremely Negative    0.133179\n",
              "Name: label, dtype: float64"
            ]
          },
          "metadata": {},
          "execution_count": 31
        }
      ],
      "source": [
        "# Посмотрим %-ное распределение классов\n",
        "train.label.value_counts(normalize = True)"
      ]
    },
    {
      "cell_type": "code",
      "execution_count": null,
      "id": "66070698",
      "metadata": {
        "colab": {
          "base_uri": "https://localhost:8080/",
          "height": 466
        },
        "id": "66070698",
        "outputId": "60e23d08-432c-4b33-ecdc-5761dc5bb052"
      },
      "outputs": [
        {
          "output_type": "stream",
          "name": "stdout",
          "text": [
            "Positive              0.277536\n",
            "Negative              0.240967\n",
            "Neutral               0.187365\n",
            "Extremely Positive    0.160952\n",
            "Extremely Negative    0.133179\n",
            "Name: label, dtype: float64\n"
          ]
        },
        {
          "output_type": "display_data",
          "data": {
            "text/plain": [
              "<Figure size 1008x360 with 2 Axes>"
            ],
            "image/png": "[encoded data removed]"
          },
          "metadata": {
            "needs_background": "light"
          }
        }
      ],
      "source": [
        "# Построим распределение классов\n",
        "\n",
        "stats_target = train['label'].value_counts(normalize=True)\n",
        "print(stats_target)\n",
        "\n",
        "plt.figure(figsize=(14,5))\n",
        "plt.subplot(1,2,1)\n",
        "sns.countplot(data=train,y='label')\n",
        "plt.subplot(1,2,2)\n",
        "stats_target.plot.bar(rot=25)\n",
        "plt.ylabel('%')\n",
        "plt.xlabel('% distribution per category')\n",
        "plt.tight_layout()\n",
        "plt.show()"
      ]
    },
    {
      "cell_type": "markdown",
      "source": [
        "Видим, что у нас 5 классов - Extremely Negative, Negative, Neutral, Positive, Extremely Positive. Классы несбалансированы - минимальное значение отличается от максимального в 2 раза"
      ],
      "metadata": {
        "id": "SRx9gdJFROwG"
      },
      "id": "SRx9gdJFROwG"
    },
    {
      "cell_type": "markdown",
      "id": "8d7dcca1",
      "metadata": {
        "id": "8d7dcca1"
      },
      "source": [
        "## Текстовые данные"
      ]
    },
    {
      "cell_type": "code",
      "execution_count": null,
      "id": "4b8efd8a",
      "metadata": {
        "colab": {
          "base_uri": "https://localhost:8080/"
        },
        "id": "4b8efd8a",
        "outputId": "91524f55-6cc0-4de9-b81f-4aeadc4b3688"
      },
      "outputs": [
        {
          "output_type": "stream",
          "name": "stdout",
          "text": [
            "1\n",
            "@MeNyrbie @Phil_Gahan @Chrisitv https://t.co/iFz9FAn2Pa and https://t.co/xX6ghGFzCC and https://t.co/I2NlzdxNo8\n",
            "Neutral\n",
            "2\n",
            "advice Talk to your neighbours family to exchange phone numbers create contact list with phone numbers of neighbours schools employer chemist GP set up online shopping accounts if poss adequate supplies of regular meds but not over order\n",
            "Positive\n",
            "3\n",
            "Coronavirus Australia: Woolworths to give elderly, disabled dedicated shopping hours amid COVID-19 outbreak https://t.co/bInCA9Vp8P\n",
            "Positive\n",
            "4\n",
            "My food stock is not the only one which is empty...\r\r\n",
            "\r\r\n",
            "PLEASE, don't panic, THERE WILL BE ENOUGH FOOD FOR EVERYONE if you do not take more than you need. \r\r\n",
            "Stay calm, stay safe.\r\r\n",
            "\r\r\n",
            "#COVID19france #COVID_19 #COVID19 #coronavirus #confinement #Confinementotal #ConfinementGeneral https://t.co/zrlG0Z520j\n",
            "Positive\n",
            "5\n",
            "Me, ready to go at supermarket during the #COVID19 outbreak.\r\r\n",
            "\r\r\n",
            "Not because I'm paranoid, but because my food stock is litteraly empty. The #coronavirus is a serious thing, but please, don't panic. It causes shortage...\r\r\n",
            "\r\r\n",
            "#CoronavirusFrance #restezchezvous #StayAtHome #confinement https://t.co/usmuaLq72n\n",
            "Extremely Negative\n"
          ]
        }
      ],
      "source": [
        "# Посмотрим, что из себя представляю тексты\n",
        "for i in range(0, 5):\n",
        "    print(i+1)\n",
        "    print(train['text'][i])\n",
        "    print(train['label'][i])"
      ]
    },
    {
      "cell_type": "code",
      "execution_count": null,
      "id": "5fa5cb93",
      "metadata": {
        "colab": {
          "base_uri": "https://localhost:8080/"
        },
        "id": "5fa5cb93",
        "outputId": "70a09488-4672-4dc6-9e58-505c93d29660"
      },
      "outputs": [
        {
          "output_type": "stream",
          "name": "stdout",
          "text": [
            "5 random texts with Extremely Negative sentiment: \n",
            "\n",
            "1\n",
            "Stop panic buying. \r\r\n",
            "\r\r\n",
            "I know many of you are tense and nervous. \r\r\n",
            "\r\r\n",
            "But it has real consequences for vulnerable people. \r\r\n",
            "\r\r\n",
            "Just think. And stop it.\n",
            "\n",
            "2\n",
            "Hoarding. Empty shelves. Supermarket fights. Strict limits on packaged goods. Finally some v good excuses for my crappy lunchboxes! #COVID19au #coronavirus\r\r\n",
            "https://t.co/8Ts1Ja4AAC\n",
            "\n",
            "3\n",
            "ItÂs so bad that people are selling their food box for cash...this covid 19 is getting people in a Panic mode. @TheView\n",
            "\n",
            "4\n",
            "@realDonaldTrump Supermarket shelves empty in America, whilst it's govt is busy conducting military games with UAE in the desert right now against an imaginary enemy IRAN  #COVID?19 #coronavirus #Coronavid19 #CoronaCrisis\r\r\n",
            "\r\r\n",
            ".@SnoopDogg .@BBCNormanS .@F\n",
            "\n",
            "5\n",
            "To all the shops, stores, supermarkets and people  hiking the fuck out of prices and making profit off people that are in need and sick this is for you ??? go fuck yourself. \r\r\n",
            "\r\r\n",
            "I'm sick myself and people and businesses like you are scumbags #coronavirus #covid19UK\n",
            "\n"
          ]
        }
      ],
      "source": [
        "# Выведем несколько образцов текстов класса Extremely Negative\n",
        "\n",
        "print('5 random texts with Extremely Negative sentiment: \\n')\n",
        "cl = train.loc[train.label == 'Extremely Negative', ['text']].sample(5).values\n",
        "i = 1\n",
        "for c in cl:\n",
        "    print(i)\n",
        "    print(c[0])\n",
        "    print()\n",
        "    i += 1"
      ]
    },
    {
      "cell_type": "code",
      "execution_count": null,
      "id": "5789878e",
      "metadata": {
        "colab": {
          "base_uri": "https://localhost:8080/"
        },
        "id": "5789878e",
        "outputId": "51d8b9d7-15ed-4d90-e1a6-474f0d314d72"
      },
      "outputs": [
        {
          "output_type": "stream",
          "name": "stdout",
          "text": [
            "5 random texts with Negative sentiment: \n",
            "\n",
            "1\n",
            "Will the epidemic harm UK prices\n",
            "\n",
            "2\n",
            "@CBSNews Anecdotal evidence would indicate a spike in demand for food and essential items across Gaza since the announcement of the two COVID-19 cases.\r\r\n",
            "#coronavirus #Palestinians #Palestinian\n",
            "\n",
            "3\n",
            "This piece was written in January 2008 by a few months before a massive financial crisis unravelled across the world A good time to revisit this\n",
            "\n",
            "4\n",
            "#indialockdown scenario..\r\r\n",
            "After @PMOIndia speech,\r\r\n",
            "Everyone searching for food getting panic..\r\r\n",
            "\r\r\n",
            "Le couples: Babu ye long distance relationship tikegi na???\r\r\n",
            "\r\r\n",
            "#Covid_19india #Sarcasm #coronavirus #StayAtHomeSaveLives\n",
            "\n",
            "5\n",
            "Does any 1 else thinks DT n d GOP r responsible 4 these deaths cused by Covid 19? They failed d USA drastically may they all RIP who lost their lives https://t.co/HUY6719lWa\n",
            "\n"
          ]
        }
      ],
      "source": [
        "# Выведем несколько образцов текстов класса Negative\n",
        "\n",
        "print('5 random texts with Negative sentiment: \\n')\n",
        "cl = train.loc[train.label == 'Negative', ['text']].sample(5).values\n",
        "i = 1\n",
        "for c in cl:\n",
        "    print(i)\n",
        "    print(c[0])\n",
        "    print()\n",
        "    i += 1"
      ]
    },
    {
      "cell_type": "code",
      "execution_count": null,
      "id": "e3f46993",
      "metadata": {
        "colab": {
          "base_uri": "https://localhost:8080/"
        },
        "id": "e3f46993",
        "outputId": "ce330b74-60a7-4571-94b5-b4ee18b074f1"
      },
      "outputs": [
        {
          "output_type": "stream",
          "name": "stdout",
          "text": [
            "5 random texts with Neutral sentiment: \n",
            "\n",
            "1\n",
            "Kroger swaps Cincy-area store to pickup only. $KR https://t.co/hloracjOEV\n",
            "\n",
            "2\n",
            "If I think I will be contacted about #shielding do I go to work tomorrow ? I work in a supermarket , close proximity to many people for 9 hours #RareDisease #COVID?19 #coronavirus\n",
            "\n",
            "3\n",
            "The biggest flex right now would be to go toilet paper your neighbors house. #toiletpaper #toiletpapercrisis #toiletpapergate #COVID2019 #coronavirus #CoronavirusPandemic\n",
            "\n",
            "4\n",
            "\"The poorest families... would see smaller benefits....\r\r\n",
            "\r\r\n",
            "\"About 22 million people earning under $40,000 a year would see no benefit under the GOP plan.\"\r\r\n",
            "\r\r\n",
            "https://t.co/8kx0iWnuux\n",
            "\n",
            "5\n",
            "Now that fewer people are in the stores, once-common #ToiletPaper species have begun to return to their native aisle landsÂsome in groups and some all by their shelves. #CoronaVirus https://t.co/GbJnBvyWA7\n",
            "\n"
          ]
        }
      ],
      "source": [
        "# Выведем несколько образцов текстов класса Neutral\n",
        "print('5 random texts with Neutral sentiment: \\n')\n",
        "cl = train.loc[train.label == 'Neutral', ['text']].sample(5).values\n",
        "i = 1\n",
        "for c in cl:\n",
        "    print(i)\n",
        "    print(c[0])\n",
        "    print()\n",
        "    i += 1"
      ]
    },
    {
      "cell_type": "code",
      "execution_count": null,
      "id": "271c0b12",
      "metadata": {
        "colab": {
          "base_uri": "https://localhost:8080/"
        },
        "id": "271c0b12",
        "outputId": "33e5008a-5c0d-42e9-a9b1-d09ebff7eb53"
      },
      "outputs": [
        {
          "output_type": "stream",
          "name": "stdout",
          "text": [
            "5 random texts with Positive sentiment: \n",
            "\n",
            "1\n",
            "@lidl @iceland and @nationwide have announced special opening times for the vulnerable, share with your patients. Just need @morrisons @sainsburys @asda @tesco and all the supermarket to follow #COVID2019 #kindness #StopPanicBuying\n",
            "\n",
            "2\n",
            "#Ausgangssperren #COVID2019 I think its very interesting to see people go grocery shopping with the WHOLE FAMILY... can you not? Whats the point of bringing 5 people to the supermarket. (I work there) and this only highers the risks of infections!\n",
            "\n",
            "3\n",
            "The E-Commerce industry flourishes due to the massive change in consumer behavior making brands like IKEA Âtemporarily shutter their stores due to COVID-19 containment.Â https://t.co/zZhQhndvHk\n",
            "\n",
            "4\n",
            "Chief Stawinski was out with of Community of Hope AME getting food out to those in need and the two community leaders  message to everyone is please don t panic Hear from them on at 11p\n",
            "\n",
            "5\n",
            "My son is working in the front line making sure everyone abides by the social distancing and zero tolerance to panic buying in the local supermarket,he's doing an essential job and he's certainly NOT low skilled... proud of him right now. #SocialDistancing #COVID2019\n",
            "\n"
          ]
        }
      ],
      "source": [
        "# Выведем несколько образцов текстов класса Positive\n",
        "\n",
        "print('5 random texts with Positive sentiment: \\n')\n",
        "cl = train.loc[train.label == 'Positive', ['text']].sample(5).values\n",
        "i = 1\n",
        "for c in cl:\n",
        "    print(i)\n",
        "    print(c[0])\n",
        "    print()\n",
        "    i += 1"
      ]
    },
    {
      "cell_type": "code",
      "execution_count": null,
      "id": "5641666c",
      "metadata": {
        "colab": {
          "base_uri": "https://localhost:8080/"
        },
        "id": "5641666c",
        "outputId": "51e0433f-5f35-4274-ff9f-eb42de55727a"
      },
      "outputs": [
        {
          "output_type": "stream",
          "name": "stdout",
          "text": [
            "5 random texts with Extremely Positive sentiment: \n",
            "\n",
            "1\n",
            "The little neighbourhood I live in is culturally vibrant - just dense with cool shops, markets, and restaurants. A lot of them are closed now and I wonder what percentage will open post #coronavirus.\r\r\n",
            "\r\r\n",
            "Truly regret just going to my closest Starbucks and supermarket all the time.\n",
            "\n",
            "2\n",
            "@NextRevFNC @SteveHiltonx IÂd like to see small businesses keep their 2019 federal taxes. I own a retail store and keeping even a portion of my taxes would be a huge help. I donÂt want a loan. Debt is not the answer. #coronavirus #cuttaxes #Social_Dista\n",
            "\n",
            "3\n",
            "Thank you doctors nurses hospital staff paramedics EMTs firemen and women police officers grocery store workers delivery drivers restaurant workers and all of our hero essential workers Sending you all much love Art by artist Sara Paglia\n",
            "\n",
            "4\n",
            "Dear genius countrymen and women. Soap works better than hand sanitizer. Toilet paper isn't necessary when you're at home. And there's plenty of food to go around if you'd stop going to the fucking grocery store for a few days. #coronavirus\n",
            "\n",
            "5\n",
            "During COVID 19 ALL prices on my ecopies are 0 99 Paperbacks Paths of Righteousness 9 50 There Abideth Hope 9 50 A Very Present Help 8 99 His Perfect Love 8 50 amp Icicles to Moonbeams 4 50 Read stay safe amp busy Christian Romance Suspense\n",
            "\n"
          ]
        }
      ],
      "source": [
        "# Выведем несколько образцов текстов класса Extremely Positive\n",
        "\n",
        "print('5 random texts with Extremely Positive sentiment: \\n')\n",
        "cl = train.loc[train.label == 'Extremely Positive', ['text']].sample(5).values\n",
        "i = 1\n",
        "for c in cl:\n",
        "    print(i)\n",
        "    print(c[0])\n",
        "    print()\n",
        "    i += 1"
      ]
    },
    {
      "cell_type": "markdown",
      "id": "866c4d6b",
      "metadata": {
        "id": "866c4d6b"
      },
      "source": [
        "Видим, что текты, вероятно, на английском языке, содержат  разнообразные знаки препинания, многочисленные символы @,# и т.д., ссылки - https://t.co/iFz9FAn2Pa, а также есть слова с апострофами. Тексты сильно \"замусорены\"."
      ]
    },
    {
      "cell_type": "markdown",
      "source": [
        "##Анализ знаков препинания"
      ],
      "metadata": {
        "id": "QXJowz0xTKso"
      },
      "id": "QXJowz0xTKso"
    },
    {
      "cell_type": "code",
      "execution_count": null,
      "id": "e17b293a",
      "metadata": {
        "colab": {
          "base_uri": "https://localhost:8080/"
        },
        "id": "e17b293a",
        "outputId": "ba0b90a7-7d6b-4b8f-d1cc-d6a97491e62c"
      },
      "outputs": [
        {
          "output_type": "stream",
          "name": "stdout",
          "text": [
            "Counter({'#': 81506, '.': 76491, '/': 74272, ',': 70285, '\"': 51374, ':': 30515, '?': 23337, '@': 17841, '-': 16718, \"'\": 9497, '!': 7598, '_': 5607, ';': 4741, '&': 4195, ')': 2647, '(': 2447, '$': 1538, '%': 1227, '*': 695, '|': 554, '+': 469, '=': 139, ']': 131, '[': 129, '~': 97, '^': 10, '}': 6, '`': 6, '\\\\': 5, '{': 5})\n"
          ]
        }
      ],
      "source": [
        "# Посмотрим какие и сколько знаков и символов содержат наши данные\n",
        "\n",
        "train.text.to_csv('count_punct.csv')\n",
        "with open('count_punct.csv', encoding=\"utf8\") as f:\n",
        "    c = Counter(c for line in f for c in line if c in punctuation)\n",
        "print(c)"
      ]
    },
    {
      "cell_type": "code",
      "execution_count": null,
      "id": "fbdf0bc3",
      "metadata": {
        "colab": {
          "base_uri": "https://localhost:8080/"
        },
        "id": "fbdf0bc3",
        "outputId": "94e2c532-4a2a-44e6-94dc-1589861ae5b7"
      },
      "outputs": [
        {
          "output_type": "stream",
          "name": "stdout",
          "text": [
            "Counter({',': 15569, '.': 10504, '#': 8742, '/': 7901, '\"': 7264, ':': 3358, '-': 2352, '?': 2306, '@': 2050, \"'\": 1610, '!': 1205, ';': 765, '_': 675, '&': 652, ')': 378, '(': 350, '$': 218, '%': 160, '*': 135, '+': 75, '|': 60, '=': 28, ']': 15, '[': 14, '~': 11, '^': 2, '\\\\': 1})\n"
          ]
        }
      ],
      "source": [
        "# Посмотрим знаки данных класса Extremely Negative\n",
        "\n",
        "Extremely_Negative = train[(train.label == 'Extremely Negative')]\n",
        "Extremely_Negative.to_csv('EN_count_punct.csv')\n",
        "with open('EN_count_punct.csv', encoding=\"utf8\") as f:\n",
        "    c = Counter(c for line in f for c in line if c in punctuation)\n",
        "print(c)"
      ]
    },
    {
      "cell_type": "code",
      "execution_count": null,
      "id": "57b186fc",
      "metadata": {
        "colab": {
          "base_uri": "https://localhost:8080/"
        },
        "id": "57b186fc",
        "outputId": "7ea142f5-c87f-465e-8b69-0707f39cc75a"
      },
      "outputs": [
        {
          "output_type": "stream",
          "name": "stdout",
          "text": [
            "Counter({',': 26610, '#': 18245, '.': 18194, '/': 16898, '\"': 12314, ':': 6988, '?': 4695, '@': 4283, '-': 4117, \"'\": 2320, '!': 1622, '_': 1323, ';': 1023, '&': 870, ')': 595, '(': 548, '$': 349, '%': 322, '*': 193, '|': 141, '+': 107, '[': 38, ']': 38, '=': 35, '~': 35, '`': 5, '}': 1})\n"
          ]
        }
      ],
      "source": [
        "# Посмотрим знаки данных класса Negative\n",
        "\n",
        "Negative = train[(train.label == 'Negative')]\n",
        "Negative.to_csv('N_count_punct.csv')\n",
        "with open('N_count_punct.csv', encoding=\"utf8\") as f:\n",
        "    c = Counter(c for line in f for c in line if c in punctuation)\n",
        "print(c)"
      ]
    },
    {
      "cell_type": "code",
      "execution_count": null,
      "id": "339698d1",
      "metadata": {
        "colab": {
          "base_uri": "https://localhost:8080/"
        },
        "id": "339698d1",
        "outputId": "2ab2552e-f51f-4ab9-eb03-3c900c2d7a1a"
      },
      "outputs": [
        {
          "output_type": "stream",
          "name": "stdout",
          "text": [
            "Counter({',': 19050, '.': 13508, '#': 12579, '/': 11423, '\"': 8868, ':': 4591, '?': 3398, '@': 3058, '-': 2689, '!': 1822, \"'\": 1698, ';': 1111, '&': 1037, '_': 940, ')': 504, '(': 440, '$': 221, '%': 196, '*': 113, '+': 95, '|': 70, '=': 33, '~': 21, ']': 17, '[': 16, '^': 6, '{': 4, '}': 4, '`': 1})\n"
          ]
        }
      ],
      "source": [
        "# Посмотрим знаки данных класса Extremely Positive\n",
        "\n",
        "Extremely_Positive = train[(train.label == 'Extremely Positive')]\n",
        "Extremely_Positive.to_csv('EP_count_punct.csv')\n",
        "with open('EP_count_punct.csv', encoding=\"utf8\") as f:\n",
        "    c = Counter(c for line in f for c in line if c in punctuation)\n",
        "print(c)"
      ]
    },
    {
      "cell_type": "code",
      "execution_count": null,
      "id": "fa44a031",
      "metadata": {
        "colab": {
          "base_uri": "https://localhost:8080/"
        },
        "id": "fa44a031",
        "outputId": "d68a5738-235b-4e71-de6a-dfc05b639f18"
      },
      "outputs": [
        {
          "output_type": "stream",
          "name": "stdout",
          "text": [
            "Counter({',': 31213, '#': 22137, '.': 21443, '/': 21069, '\"': 14506, ':': 8657, '?': 5576, '@': 5104, '-': 4666, \"'\": 2683, '!': 1971, '_': 1498, ';': 1321, '&': 1192, ')': 747, '(': 711, '$': 452, '%': 335, '*': 154, '|': 154, '+': 132, '[': 35, ']': 35, '=': 25, '~': 17, '\\\\': 3, '^': 1})\n"
          ]
        }
      ],
      "source": [
        "# Посмотрим знаки данных класса Positive\n",
        "\n",
        "Positive = train[(train.label == 'Positive')]\n",
        "Positive.to_csv('P_count_punct.csv')\n",
        "with open('P_count_punct.csv', encoding=\"utf8\") as f:\n",
        "    c = Counter(c for line in f for c in line if c in punctuation)\n",
        "print(c)"
      ]
    },
    {
      "cell_type": "code",
      "execution_count": null,
      "id": "10c1e8d2",
      "metadata": {
        "colab": {
          "base_uri": "https://localhost:8080/"
        },
        "id": "10c1e8d2",
        "outputId": "fab09e83-2099-4d99-f0e9-9d61d08203aa"
      },
      "outputs": [
        {
          "output_type": "stream",
          "name": "stdout",
          "text": [
            "Counter({'#': 19803, ',': 19007, '/': 16981, '.': 12842, '\"': 8422, '?': 7362, ':': 6921, '@': 3346, '-': 2894, \"'\": 1186, '_': 1171, '!': 978, ';': 521, '&': 444, ')': 423, '(': 398, '$': 298, '%': 214, '|': 129, '*': 100, '+': 60, '[': 26, ']': 26, '=': 18, '~': 13, '{': 1, '}': 1, '\\\\': 1, '^': 1})\n"
          ]
        }
      ],
      "source": [
        "# Посмотрим знаки данных класса Neutral\n",
        "\n",
        "Neutral = train[(train.label == 'Neutral')]\n",
        "Neutral.to_csv('N_count_punct.csv')\n",
        "with open('N_count_punct.csv', encoding=\"utf8\") as f:\n",
        "    c = Counter(c for line in f for c in line if c in punctuation)\n",
        "print(c)"
      ]
    },
    {
      "cell_type": "markdown",
      "source": [
        "Наиболее часто в тексте встречаются следующие знаки: # . / , \"\n",
        "\n",
        "\n",
        "\n",
        "\n",
        "\n",
        "\n",
        "*   При этом, в классе Extremely Negative наиболее популярные: , . # / \"\n",
        "\n",
        "\n",
        "\n",
        "*   В классе Extremely Positive: , . # / \"\n",
        "*   В классе Positive: , # . / \"\n",
        "\n",
        "\n",
        "\n",
        "*   В классе Neutral: # , / . \"\n",
        "\n",
        "*   В классе Negative: , # . / \"\n",
        "\n",
        "\n",
        "Мы видим, что в каждом классе наиболее часто встречающими знаками препинания является один и тот же набор символов.\n",
        "Он характере и для всего набора в целом.\n",
        "Поэтому выстроить классификации на основе наличия определенных знаков не получится."
      ],
      "metadata": {
        "id": "NRfKAwgQWdnC"
      },
      "id": "NRfKAwgQWdnC"
    },
    {
      "cell_type": "markdown",
      "source": [
        "##Очистка текста"
      ],
      "metadata": {
        "id": "INQWiSeeYZRI"
      },
      "id": "INQWiSeeYZRI"
    },
    {
      "cell_type": "markdown",
      "source": [
        "Удалим из текста знаки препинания, служебные слова и символы, цифры, а также раскроем слова с апострофами"
      ],
      "metadata": {
        "id": "DDzqXFuwYkKT"
      },
      "id": "DDzqXFuwYkKT"
    },
    {
      "cell_type": "code",
      "execution_count": null,
      "id": "69f080b6",
      "metadata": {
        "id": "69f080b6"
      },
      "outputs": [],
      "source": [
        "# Раскроем словосочетания с апострофами\n",
        "\n",
        "# Список словосочетаний с апострофами\n",
        "contraction_dict = {\"ain't\": \"is not\",\n",
        "                    \"aren't\": \"are not\",\n",
        "                    \"can't\": \"cannot\",\n",
        "                    \"'cause\": \"because\",\n",
        "                    \"could've\": \"could have\",\n",
        "                    \"couldn't\": \"could not\",\n",
        "                    \"didn't\": \"did not\",\n",
        "                    \"doesn't\": \"does not\",\n",
        "                    \"don't\": \"do not\",\n",
        "                    \"hadn't\": \"had not\",\n",
        "                    \"hasn't\": \"has not\",\n",
        "                    \"haven't\": \"have not\",\n",
        "                    \"he'd\": \"he would\",\n",
        "                    \"he'll\": \"he will\",\n",
        "                    \"he's\": \"he is\",\n",
        "                    \"how'd\": \"how did\",\n",
        "                    \"how'd'y\": \"how do you\",\n",
        "                    \"how'll\": \"how will\",\n",
        "                    \"how's\": \"how is\",\n",
        "                    \"I'd\": \"I would\",\n",
        "                    \"I'd've\": \"I would have\",\n",
        "                    \"I'll\": \"I will\",\n",
        "                    \"I'll've\": \"I will have\",\n",
        "                    \"I'm\": \"I am\",\n",
        "                    \"I've\": \"I have\",\n",
        "                    \"i'd\": \"i would\",\n",
        "                    \"i'd've\": \"i would have\",\n",
        "                    \"i'll\": \"i will\",\n",
        "                    \"i'll've\": \"i will have\",\n",
        "                    \"i'm\": \"i am\",\n",
        "                    \"i've\": \"i have\",\n",
        "                    \"isn't\": \"is not\",\n",
        "                    \"it'd\": \"it would\",\n",
        "                    \"it'd've\": \"it would have\",\n",
        "                    \"it'll\": \"it will\",\n",
        "                    \"it'll've\": \"it will have\",\n",
        "                    \"it's\": \"it is\",\n",
        "                    \"let's\": \"let us\",\n",
        "                    \"ma'am\": \"madam\",\n",
        "                    \"mayn't\": \"may not\",\n",
        "                    \"might've\": \"might have\",\n",
        "                    \"mightn't\": \"might not\",\n",
        "                    \"mightn't've\": \"might not have\",\n",
        "                    \"must've\": \"must have\",\n",
        "                    \"mustn't\": \"must not\",\n",
        "                    \"mustn't've\": \"must not have\",\n",
        "                    \"needn't\": \"need not\",\n",
        "                    \"needn't've\": \"need not have\",\n",
        "                    \"o'clock\": \"of the clock\",\n",
        "                    \"oughtn't\": \"ought not\",\n",
        "                    \"oughtn't've\": \"ought not have\",\n",
        "                    \"shan't\": \"shall not\",\n",
        "                    \"sha'n't\": \"shall not\",\n",
        "                    \"shan't've\": \"shall not have\",\n",
        "                    \"she'd\": \"she would\",\n",
        "                    \"she'd've\": \"she would have\",\n",
        "                    \"she'll\": \"she will\",\n",
        "                    \"she'll've\": \"she will have\",\n",
        "                    \"she's\": \"she is\",\n",
        "                    \"should've\": \"should have\",\n",
        "                    \"shouldn't\": \"should not\",\n",
        "                    \"shouldn't've\": \"should not have\",\n",
        "                    \"so've\": \"so have\",\n",
        "                    \"so's\": \"so as\",\n",
        "                    \"this's\": \"this is\",\n",
        "                    \"that'd\": \"that would\",\n",
        "                    \"that'd've\": \"that would have\",\n",
        "                    \"that's\": \"that is\",\n",
        "                    \"there'd\": \"there would\",\n",
        "                    \"there'd've\": \"there would have\",\n",
        "                    \"there's\": \"there is\",\n",
        "                    \"here's\": \"here is\",\n",
        "                    \"they'd\": \"they would\",\n",
        "                    \"they'd've\": \"they would have\",\n",
        "                    \"they'll\": \"they will\",\n",
        "                    \"they'll've\": \"they will have\",\n",
        "                    \"they're\": \"they are\",\n",
        "                    \"they've\": \"they have\",\n",
        "                    \"to've\": \"to have\",\n",
        "                    \"wasn't\": \"was not\",\n",
        "                    \"we'd\": \"we would\",\n",
        "                    \"we'd've\": \"we would have\",\n",
        "                    \"we'll\": \"we will\",\n",
        "                    \"we'll've\": \"we will have\",\n",
        "                    \"we're\": \"we are\",\n",
        "                    \"we've\": \"we have\",\n",
        "                    \"weren't\": \"were not\",\n",
        "                    \"what'll\": \"what will\",\n",
        "                    \"what'll've\": \"what will have\",\n",
        "                    \"what're\": \"what are\",\n",
        "                    \"what's\": \"what is\",\n",
        "                    \"what've\": \"what have\",\n",
        "                    \"when's\": \"when is\",\n",
        "                    \"when've\": \"when have\",\n",
        "                    \"where'd\": \"where did\",\n",
        "                    \"where's\": \"where is\",\n",
        "                    \"where've\": \"where have\",\n",
        "                    \"who'll\": \"who will\",\n",
        "                    \"who'll've\": \"who will have\",\n",
        "                    \"who's\": \"who is\",\n",
        "                    \"who've\": \"who have\",\n",
        "                    \"why's\": \"why is\",\n",
        "                    \"why've\": \"why have\",\n",
        "                    \"will've\": \"will have\",\n",
        "                    \"won't\": \"will not\",\n",
        "                    \"won't've\": \"will not have\",\n",
        "                    \"would've\": \"would have\",\n",
        "                    \"wouldn't\": \"would not\",\n",
        "                    \"wouldn't've\": \"would not have\",\n",
        "                    \"y'all\": \"you all\",\n",
        "                    \"y'all'd\": \"you all would\",\n",
        "                    \"y'all'd've\": \"you all would have\",\n",
        "                    \"y'all're\": \"you all are\",\n",
        "                    \"y'all've\": \"you all have\",\n",
        "                    \"you'd\": \"you would\",\n",
        "                    \"you'd've\": \"you would have\",\n",
        "                    \"you'll\": \"you will\",\n",
        "                    \"you'll've\": \"you will have\",\n",
        "                    \"you're\": \"you are\",\n",
        "                    \"you've\": \"you have\"}\n",
        "\n",
        "# Создадим функции, раскрывающие словосочетания с апострофами\n",
        "\n",
        "def _get_contractions(contraction_dict):\n",
        "    contraction_re = re.compile('(%s)' % '|'.join(contraction_dict.keys()))\n",
        "\n",
        "    return contraction_dict, contraction_re\n",
        "\n",
        "contractions, contractions_re = _get_contractions(contraction_dict)\n",
        "\n",
        "def replace_contractions(text):\n",
        "    def replace(match):\n",
        "        return contractions[match.group(0)]\n",
        "\n",
        "    return contractions_re.sub(replace, text)\n",
        "\n",
        "# Применим функцию, раскрывающую словосочетания с апострофами\n",
        "\n",
        "train.text = train.text.apply(lambda x: replace_contractions(x))"
      ]
    },
    {
      "cell_type": "code",
      "execution_count": null,
      "id": "575c962d",
      "metadata": {
        "id": "575c962d"
      },
      "outputs": [],
      "source": [
        "# Создадим функцию для очистки теста\n",
        "def clean(text: str):\n",
        "    emojis = r'[\\U0001F600-\\U0001F64F'\\\n",
        "           + r'\\U0001F300-\\U0001F5FF'\\\n",
        "           + r'\\U0001F680-\\U0001F6FF'\\\n",
        "           + r'\\U0001F1E0-\\U0001F1FF'\\\n",
        "           + r'\\U00002702-\\U000027B0'\\\n",
        "           + r'\\U000024C2-\\U0001F251]+'\n",
        "    non_ASCII = r'[^\\x00-\\x7F]+'\n",
        "    mentions = r'@[A-Za-z0-9_-]+'\n",
        "    urls = r'https?://[A-Za-z0-9./]+'\n",
        "    punctuation = r'[.,#!$%\\^&\\*;:{}=\\-_`~()]'\n",
        "    punctuation_space = r'[\\/\\\\]'\n",
        "    whitespace = r'\\s+'\n",
        "\n",
        "    # The text sometimes contains html elements, clean it up\n",
        "    soup = BeautifulSoup(text, 'lxml')\n",
        "    text = soup.get_text()\n",
        "\n",
        "    # Replace all non-ASCII characters with space\n",
        "    text = re.sub(non_ASCII, ' ', text)\n",
        "    # Replace all emojis with space\n",
        "    text = re.sub(emojis, ' ', text)\n",
        "    # Remove Twitter mentions with usernames\n",
        "    text = re.sub(mentions, '', text)\n",
        "    # Remove all urls\n",
        "    text = re.sub(urls, '', text)\n",
        "    # Remove the punctuation marks\n",
        "    text = re.sub(punctuation, '', text)\n",
        "    # Removing some punctuation marks will fuse the words,\n",
        "    # replace them with space instead\n",
        "    text = re.sub(punctuation_space, ' ', text)\n",
        "    # Remove multiple spaces, tabs and other whitespaces with one space\n",
        "    text = re.sub(whitespace, ' ', text)\n",
        "\n",
        "    # Convert text to lower case\n",
        "    text = text.lower()\n",
        "\n",
        "    return text"
      ]
    },
    {
      "cell_type": "code",
      "execution_count": null,
      "id": "3bcb1764",
      "metadata": {
        "colab": {
          "base_uri": "https://localhost:8080/",
          "height": 423
        },
        "id": "3bcb1764",
        "outputId": "b05e01bf-29a7-44cb-9dd4-2fcb44b2db01"
      },
      "outputs": [
        {
          "output_type": "execute_result",
          "data": {
            "text/plain": [
              "                                                    text               label\n",
              "0                                               and and              Neutral\n",
              "1      advice talk to your neighbours family to excha...            Positive\n",
              "2      coronavirus australia woolworths to give elder...            Positive\n",
              "3      my food stock is not the only one which is emp...            Positive\n",
              "4      me ready to go at supermarket during the covid...  Extremely Negative\n",
              "...                                                  ...                 ...\n",
              "41154  airline pilots offering to stock supermarket s...             Neutral\n",
              "41155  response to complaint not provided citing covi...  Extremely Negative\n",
              "41156  you know it s getting tough when is rationing ...            Positive\n",
              "41157  is it wrong that the smell of hand sanitizer i...             Neutral\n",
              "41158   well new used rift s are going for 70000 on a...            Negative\n",
              "\n",
              "[41155 rows x 2 columns]"
            ],
            "text/html": [
              "\n",
              "  <div id=\"df-f4c468d4-5d5c-402a-b5b5-05c8f82b12d4\">\n",
              "    <div class=\"colab-df-container\">\n",
              "      <div>\n",
              "<style scoped>\n",
              "    .dataframe tbody tr th:only-of-type {\n",
              "        vertical-align: middle;\n",
              "    }\n",
              "\n",
              "    .dataframe tbody tr th {\n",
              "        vertical-align: top;\n",
              "    }\n",
              "\n",
              "    .dataframe thead th {\n",
              "        text-align: right;\n",
              "    }\n",
              "</style>\n",
              "<table border=\"1\" class=\"dataframe\">\n",
              "  <thead>\n",
              "    <tr style=\"text-align: right;\">\n",
              "      <th></th>\n",
              "      <th>text</th>\n",
              "      <th>label</th>\n",
              "    </tr>\n",
              "  </thead>\n",
              "  <tbody>\n",
              "    <tr>\n",
              "      <th>0</th>\n",
              "      <td>and and</td>\n",
              "      <td>Neutral</td>\n",
              "    </tr>\n",
              "    <tr>\n",
              "      <th>1</th>\n",
              "      <td>advice talk to your neighbours family to excha...</td>\n",
              "      <td>Positive</td>\n",
              "    </tr>\n",
              "    <tr>\n",
              "      <th>2</th>\n",
              "      <td>coronavirus australia woolworths to give elder...</td>\n",
              "      <td>Positive</td>\n",
              "    </tr>\n",
              "    <tr>\n",
              "      <th>3</th>\n",
              "      <td>my food stock is not the only one which is emp...</td>\n",
              "      <td>Positive</td>\n",
              "    </tr>\n",
              "    <tr>\n",
              "      <th>4</th>\n",
              "      <td>me ready to go at supermarket during the covid...</td>\n",
              "      <td>Extremely Negative</td>\n",
              "    </tr>\n",
              "    <tr>\n",
              "      <th>...</th>\n",
              "      <td>...</td>\n",
              "      <td>...</td>\n",
              "    </tr>\n",
              "    <tr>\n",
              "      <th>41154</th>\n",
              "      <td>airline pilots offering to stock supermarket s...</td>\n",
              "      <td>Neutral</td>\n",
              "    </tr>\n",
              "    <tr>\n",
              "      <th>41155</th>\n",
              "      <td>response to complaint not provided citing covi...</td>\n",
              "      <td>Extremely Negative</td>\n",
              "    </tr>\n",
              "    <tr>\n",
              "      <th>41156</th>\n",
              "      <td>you know it s getting tough when is rationing ...</td>\n",
              "      <td>Positive</td>\n",
              "    </tr>\n",
              "    <tr>\n",
              "      <th>41157</th>\n",
              "      <td>is it wrong that the smell of hand sanitizer i...</td>\n",
              "      <td>Neutral</td>\n",
              "    </tr>\n",
              "    <tr>\n",
              "      <th>41158</th>\n",
              "      <td>well new used rift s are going for 70000 on a...</td>\n",
              "      <td>Negative</td>\n",
              "    </tr>\n",
              "  </tbody>\n",
              "</table>\n",
              "<p>41155 rows × 2 columns</p>\n",
              "</div>\n",
              "      <button class=\"colab-df-convert\" onclick=\"convertToInteractive('df-f4c468d4-5d5c-402a-b5b5-05c8f82b12d4')\"\n",
              "              title=\"Convert this dataframe to an interactive table.\"\n",
              "              style=\"display:none;\">\n",
              "        \n",
              "  <svg xmlns=\"http://www.w3.org/2000/svg\" height=\"24px\"viewBox=\"0 0 24 24\"\n",
              "       width=\"24px\">\n",
              "    <path d=\"M0 0h24v24H0V0z\" fill=\"none\"/>\n",
              "    <path d=\"M18.56 5.44l.94 2.06.94-2.06 2.06-.94-2.06-.94-.94-2.06-.94 2.06-2.06.94zm-11 1L8.5 8.5l.94-2.06 2.06-.94-2.06-.94L8.5 2.5l-.94 2.06-2.06.94zm10 10l.94 2.06.94-2.06 2.06-.94-2.06-.94-.94-2.06-.94 2.06-2.06.94z\"/><path d=\"M17.41 7.96l-1.37-1.37c-.4-.4-.92-.59-1.43-.59-.52 0-1.04.2-1.43.59L10.3 9.45l-7.72 7.72c-.78.78-.78 2.05 0 2.83L4 21.41c.39.39.9.59 1.41.59.51 0 1.02-.2 1.41-.59l7.78-7.78 2.81-2.81c.8-.78.8-2.07 0-2.86zM5.41 20L4 18.59l7.72-7.72 1.47 1.35L5.41 20z\"/>\n",
              "  </svg>\n",
              "      </button>\n",
              "      \n",
              "  <style>\n",
              "    .colab-df-container {\n",
              "      display:flex;\n",
              "      flex-wrap:wrap;\n",
              "      gap: 12px;\n",
              "    }\n",
              "\n",
              "    .colab-df-convert {\n",
              "      background-color: #E8F0FE;\n",
              "      border: none;\n",
              "      border-radius: 50%;\n",
              "      cursor: pointer;\n",
              "      display: none;\n",
              "      fill: #1967D2;\n",
              "      height: 32px;\n",
              "      padding: 0 0 0 0;\n",
              "      width: 32px;\n",
              "    }\n",
              "\n",
              "    .colab-df-convert:hover {\n",
              "      background-color: #E2EBFA;\n",
              "      box-shadow: 0px 1px 2px rgba(60, 64, 67, 0.3), 0px 1px 3px 1px rgba(60, 64, 67, 0.15);\n",
              "      fill: #174EA6;\n",
              "    }\n",
              "\n",
              "    [theme=dark] .colab-df-convert {\n",
              "      background-color: #3B4455;\n",
              "      fill: #D2E3FC;\n",
              "    }\n",
              "\n",
              "    [theme=dark] .colab-df-convert:hover {\n",
              "      background-color: #434B5C;\n",
              "      box-shadow: 0px 1px 3px 1px rgba(0, 0, 0, 0.15);\n",
              "      filter: drop-shadow(0px 1px 2px rgba(0, 0, 0, 0.3));\n",
              "      fill: #FFFFFF;\n",
              "    }\n",
              "  </style>\n",
              "\n",
              "      <script>\n",
              "        const buttonEl =\n",
              "          document.querySelector('#df-f4c468d4-5d5c-402a-b5b5-05c8f82b12d4 button.colab-df-convert');\n",
              "        buttonEl.style.display =\n",
              "          google.colab.kernel.accessAllowed ? 'block' : 'none';\n",
              "\n",
              "        async function convertToInteractive(key) {\n",
              "          const element = document.querySelector('#df-f4c468d4-5d5c-402a-b5b5-05c8f82b12d4');\n",
              "          const dataTable =\n",
              "            await google.colab.kernel.invokeFunction('convertToInteractive',\n",
              "                                                     [key], {});\n",
              "          if (!dataTable) return;\n",
              "\n",
              "          const docLinkHtml = 'Like what you see? Visit the ' +\n",
              "            '<a target=\"_blank\" href=https://colab.research.google.com/notebooks/data_table.ipynb>data table notebook</a>'\n",
              "            + ' to learn more about interactive tables.';\n",
              "          element.innerHTML = '';\n",
              "          dataTable['output_type'] = 'display_data';\n",
              "          await google.colab.output.renderOutput(dataTable, element);\n",
              "          const docLink = document.createElement('div');\n",
              "          docLink.innerHTML = docLinkHtml;\n",
              "          element.appendChild(docLink);\n",
              "        }\n",
              "      </script>\n",
              "    </div>\n",
              "  </div>\n",
              "  "
            ]
          },
          "metadata": {},
          "execution_count": 9
        }
      ],
      "source": [
        "# Применим функцию\n",
        "train['text'] = train['text'].apply(clean)\n",
        "train"
      ]
    },
    {
      "cell_type": "code",
      "execution_count": null,
      "id": "6a14a4d8",
      "metadata": {
        "id": "6a14a4d8"
      },
      "outputs": [],
      "source": [
        "# Доочистим то, что не очистилось\n",
        "\n",
        "def clear_text(text: str) -> str:\n",
        "\n",
        "    mentions = r'@[A-Za-z0-9_-]+'\n",
        "    urls = r'https?://[A-Za-z0-9./]+'\n",
        "    punct = r'[.,#!/Â\"?$%\\^&\\*;:{}=\\-_`~()]'\n",
        "    pattern = r'[^a-zA-z0-9@\\$\\s]'\n",
        "\n",
        "    for regx in [mentions, urls, punct, pattern]:\n",
        "        text = re.sub(regx, ' ', text)\n",
        "\n",
        "    for regx in [pattern]:\n",
        "        text = re.sub(pattern, '', text)\n",
        "\n",
        "    text = re.sub('\\s+',' ', text)\n",
        "    text = re.sub('[0-9]', '', text)\n",
        "\n",
        "    return text"
      ]
    },
    {
      "cell_type": "code",
      "execution_count": null,
      "id": "0192b599",
      "metadata": {
        "colab": {
          "base_uri": "https://localhost:8080/",
          "height": 423
        },
        "id": "0192b599",
        "outputId": "2a84b0c5-fc7f-4f27-8312-6c68d8f4d442"
      },
      "outputs": [
        {
          "output_type": "execute_result",
          "data": {
            "text/plain": [
              "                                                    text               label\n",
              "0                                               and and              Neutral\n",
              "1      advice talk to your neighbours family to excha...            Positive\n",
              "2      coronavirus australia woolworths to give elder...            Positive\n",
              "3      my food stock is not the only one which is emp...            Positive\n",
              "4      me ready to go at supermarket during the covid...  Extremely Negative\n",
              "...                                                  ...                 ...\n",
              "41154  airline pilots offering to stock supermarket s...             Neutral\n",
              "41155  response to complaint not provided citing covi...  Extremely Negative\n",
              "41156  you know it s getting tough when is rationing ...            Positive\n",
              "41157  is it wrong that the smell of hand sanitizer i...             Neutral\n",
              "41158   well new used rift s are going for  on amazon...            Negative\n",
              "\n",
              "[41155 rows x 2 columns]"
            ],
            "text/html": [
              "\n",
              "  <div id=\"df-e6d19d63-ef8a-4d26-85d9-411a013b7516\">\n",
              "    <div class=\"colab-df-container\">\n",
              "      <div>\n",
              "<style scoped>\n",
              "    .dataframe tbody tr th:only-of-type {\n",
              "        vertical-align: middle;\n",
              "    }\n",
              "\n",
              "    .dataframe tbody tr th {\n",
              "        vertical-align: top;\n",
              "    }\n",
              "\n",
              "    .dataframe thead th {\n",
              "        text-align: right;\n",
              "    }\n",
              "</style>\n",
              "<table border=\"1\" class=\"dataframe\">\n",
              "  <thead>\n",
              "    <tr style=\"text-align: right;\">\n",
              "      <th></th>\n",
              "      <th>text</th>\n",
              "      <th>label</th>\n",
              "    </tr>\n",
              "  </thead>\n",
              "  <tbody>\n",
              "    <tr>\n",
              "      <th>0</th>\n",
              "      <td>and and</td>\n",
              "      <td>Neutral</td>\n",
              "    </tr>\n",
              "    <tr>\n",
              "      <th>1</th>\n",
              "      <td>advice talk to your neighbours family to excha...</td>\n",
              "      <td>Positive</td>\n",
              "    </tr>\n",
              "    <tr>\n",
              "      <th>2</th>\n",
              "      <td>coronavirus australia woolworths to give elder...</td>\n",
              "      <td>Positive</td>\n",
              "    </tr>\n",
              "    <tr>\n",
              "      <th>3</th>\n",
              "      <td>my food stock is not the only one which is emp...</td>\n",
              "      <td>Positive</td>\n",
              "    </tr>\n",
              "    <tr>\n",
              "      <th>4</th>\n",
              "      <td>me ready to go at supermarket during the covid...</td>\n",
              "      <td>Extremely Negative</td>\n",
              "    </tr>\n",
              "    <tr>\n",
              "      <th>...</th>\n",
              "      <td>...</td>\n",
              "      <td>...</td>\n",
              "    </tr>\n",
              "    <tr>\n",
              "      <th>41154</th>\n",
              "      <td>airline pilots offering to stock supermarket s...</td>\n",
              "      <td>Neutral</td>\n",
              "    </tr>\n",
              "    <tr>\n",
              "      <th>41155</th>\n",
              "      <td>response to complaint not provided citing covi...</td>\n",
              "      <td>Extremely Negative</td>\n",
              "    </tr>\n",
              "    <tr>\n",
              "      <th>41156</th>\n",
              "      <td>you know it s getting tough when is rationing ...</td>\n",
              "      <td>Positive</td>\n",
              "    </tr>\n",
              "    <tr>\n",
              "      <th>41157</th>\n",
              "      <td>is it wrong that the smell of hand sanitizer i...</td>\n",
              "      <td>Neutral</td>\n",
              "    </tr>\n",
              "    <tr>\n",
              "      <th>41158</th>\n",
              "      <td>well new used rift s are going for  on amazon...</td>\n",
              "      <td>Negative</td>\n",
              "    </tr>\n",
              "  </tbody>\n",
              "</table>\n",
              "<p>41155 rows × 2 columns</p>\n",
              "</div>\n",
              "      <button class=\"colab-df-convert\" onclick=\"convertToInteractive('df-e6d19d63-ef8a-4d26-85d9-411a013b7516')\"\n",
              "              title=\"Convert this dataframe to an interactive table.\"\n",
              "              style=\"display:none;\">\n",
              "        \n",
              "  <svg xmlns=\"http://www.w3.org/2000/svg\" height=\"24px\"viewBox=\"0 0 24 24\"\n",
              "       width=\"24px\">\n",
              "    <path d=\"M0 0h24v24H0V0z\" fill=\"none\"/>\n",
              "    <path d=\"M18.56 5.44l.94 2.06.94-2.06 2.06-.94-2.06-.94-.94-2.06-.94 2.06-2.06.94zm-11 1L8.5 8.5l.94-2.06 2.06-.94-2.06-.94L8.5 2.5l-.94 2.06-2.06.94zm10 10l.94 2.06.94-2.06 2.06-.94-2.06-.94-.94-2.06-.94 2.06-2.06.94z\"/><path d=\"M17.41 7.96l-1.37-1.37c-.4-.4-.92-.59-1.43-.59-.52 0-1.04.2-1.43.59L10.3 9.45l-7.72 7.72c-.78.78-.78 2.05 0 2.83L4 21.41c.39.39.9.59 1.41.59.51 0 1.02-.2 1.41-.59l7.78-7.78 2.81-2.81c.8-.78.8-2.07 0-2.86zM5.41 20L4 18.59l7.72-7.72 1.47 1.35L5.41 20z\"/>\n",
              "  </svg>\n",
              "      </button>\n",
              "      \n",
              "  <style>\n",
              "    .colab-df-container {\n",
              "      display:flex;\n",
              "      flex-wrap:wrap;\n",
              "      gap: 12px;\n",
              "    }\n",
              "\n",
              "    .colab-df-convert {\n",
              "      background-color: #E8F0FE;\n",
              "      border: none;\n",
              "      border-radius: 50%;\n",
              "      cursor: pointer;\n",
              "      display: none;\n",
              "      fill: #1967D2;\n",
              "      height: 32px;\n",
              "      padding: 0 0 0 0;\n",
              "      width: 32px;\n",
              "    }\n",
              "\n",
              "    .colab-df-convert:hover {\n",
              "      background-color: #E2EBFA;\n",
              "      box-shadow: 0px 1px 2px rgba(60, 64, 67, 0.3), 0px 1px 3px 1px rgba(60, 64, 67, 0.15);\n",
              "      fill: #174EA6;\n",
              "    }\n",
              "\n",
              "    [theme=dark] .colab-df-convert {\n",
              "      background-color: #3B4455;\n",
              "      fill: #D2E3FC;\n",
              "    }\n",
              "\n",
              "    [theme=dark] .colab-df-convert:hover {\n",
              "      background-color: #434B5C;\n",
              "      box-shadow: 0px 1px 3px 1px rgba(0, 0, 0, 0.15);\n",
              "      filter: drop-shadow(0px 1px 2px rgba(0, 0, 0, 0.3));\n",
              "      fill: #FFFFFF;\n",
              "    }\n",
              "  </style>\n",
              "\n",
              "      <script>\n",
              "        const buttonEl =\n",
              "          document.querySelector('#df-e6d19d63-ef8a-4d26-85d9-411a013b7516 button.colab-df-convert');\n",
              "        buttonEl.style.display =\n",
              "          google.colab.kernel.accessAllowed ? 'block' : 'none';\n",
              "\n",
              "        async function convertToInteractive(key) {\n",
              "          const element = document.querySelector('#df-e6d19d63-ef8a-4d26-85d9-411a013b7516');\n",
              "          const dataTable =\n",
              "            await google.colab.kernel.invokeFunction('convertToInteractive',\n",
              "                                                     [key], {});\n",
              "          if (!dataTable) return;\n",
              "\n",
              "          const docLinkHtml = 'Like what you see? Visit the ' +\n",
              "            '<a target=\"_blank\" href=https://colab.research.google.com/notebooks/data_table.ipynb>data table notebook</a>'\n",
              "            + ' to learn more about interactive tables.';\n",
              "          element.innerHTML = '';\n",
              "          dataTable['output_type'] = 'display_data';\n",
              "          await google.colab.output.renderOutput(dataTable, element);\n",
              "          const docLink = document.createElement('div');\n",
              "          docLink.innerHTML = docLinkHtml;\n",
              "          element.appendChild(docLink);\n",
              "        }\n",
              "      </script>\n",
              "    </div>\n",
              "  </div>\n",
              "  "
            ]
          },
          "metadata": {},
          "execution_count": 11
        }
      ],
      "source": [
        "# Применим функцию по очистке текста\n",
        "\n",
        "train['text'] = train['text'].apply(clear_text)\n",
        "train"
      ]
    },
    {
      "cell_type": "code",
      "execution_count": null,
      "id": "8bf4bd05",
      "metadata": {
        "colab": {
          "base_uri": "https://localhost:8080/"
        },
        "id": "8bf4bd05",
        "outputId": "6011f748-1d65-489d-c1cb-d196bcaa54ea"
      },
      "outputs": [
        {
          "output_type": "stream",
          "name": "stdout",
          "text": [
            "that string contains no punctuation\n"
          ]
        }
      ],
      "source": [
        "# Поиск знаков препинания\n",
        "if any(x in string.punctuation for x in train.text):\n",
        "    print(\"that string contains punctuation\")\n",
        "else:\n",
        "    print(\"that string contains no punctuation\")"
      ]
    },
    {
      "cell_type": "markdown",
      "source": [
        "Очистим текст от не английских слов"
      ],
      "metadata": {
        "id": "DRnQvyW0MW1D"
      },
      "id": "DRnQvyW0MW1D"
    },
    {
      "cell_type": "code",
      "source": [
        "# load english vocab and create pipeline\n",
        "def get_lang_detector(nlp, name):\n",
        "    return LanguageDetector()\n",
        "nlp = spacy.load(\"en_core_web_sm\")\n",
        "Language.factory(\"language_detector\", func=get_lang_detector)\n",
        "nlp.add_pipe('language_detector', last=True)\n",
        "# use created pipeline for language detect\n",
        "def detect_lan(text) :\n",
        "    doc = nlp(text)\n",
        "    detect_language = doc._.language\n",
        "    detect_language = detect_language['language']\n",
        "    return(detect_language)\n",
        "# create a new column called \"nation\" to record detect language\n",
        "train['nation'] = train['text'].apply(lambda x: detect_lan(x))\n",
        "# group by nation and count for each nation\n",
        "dict(train.groupby('nation').count())"
      ],
      "metadata": {
        "colab": {
          "base_uri": "https://localhost:8080/"
        },
        "id": "eT3vMziW5fGm",
        "outputId": "b619121c-7c11-4bf6-ce37-e78f72337ff0"
      },
      "id": "eT3vMziW5fGm",
      "execution_count": null,
      "outputs": [
        {
          "output_type": "execute_result",
          "data": {
            "text/plain": [
              "{'text': nation\n",
              " UNKNOWN       31\n",
              " af            11\n",
              " ca            28\n",
              " cy             2\n",
              " da             9\n",
              " de             9\n",
              " en         40871\n",
              " es            34\n",
              " et             4\n",
              " fi             5\n",
              " fr            50\n",
              " id             2\n",
              " it            40\n",
              " nl             9\n",
              " no            14\n",
              " pl             1\n",
              " pt             6\n",
              " ro             9\n",
              " sk             2\n",
              " sl             1\n",
              " so             1\n",
              " sq             1\n",
              " sv             2\n",
              " sw             1\n",
              " tl             7\n",
              " tr             4\n",
              " vi             1\n",
              " Name: text, dtype: int64, 'label': nation\n",
              " UNKNOWN       31\n",
              " af            11\n",
              " ca            28\n",
              " cy             2\n",
              " da             9\n",
              " de             9\n",
              " en         40871\n",
              " es            34\n",
              " et             4\n",
              " fi             5\n",
              " fr            50\n",
              " id             2\n",
              " it            40\n",
              " nl             9\n",
              " no            14\n",
              " pl             1\n",
              " pt             6\n",
              " ro             9\n",
              " sk             2\n",
              " sl             1\n",
              " so             1\n",
              " sq             1\n",
              " sv             2\n",
              " sw             1\n",
              " tl             7\n",
              " tr             4\n",
              " vi             1\n",
              " Name: label, dtype: int64}"
            ]
          },
          "metadata": {},
          "execution_count": 18
        }
      ]
    },
    {
      "cell_type": "code",
      "source": [
        "# Имеется 284 не английских слова\n",
        "sum(train['nation'][train['nation']!=\"en\"].value_counts())"
      ],
      "metadata": {
        "colab": {
          "base_uri": "https://localhost:8080/"
        },
        "id": "EdBtitKx6p3N",
        "outputId": "c79975fe-5f39-49ae-fcf6-4d01e2a7e970"
      },
      "id": "EdBtitKx6p3N",
      "execution_count": null,
      "outputs": [
        {
          "output_type": "execute_result",
          "data": {
            "text/plain": [
              "284"
            ]
          },
          "metadata": {},
          "execution_count": 20
        }
      ]
    },
    {
      "cell_type": "code",
      "source": [
        "# Оставим только слова на английском языке\n",
        "train = train[train['nation']==\"en\"]"
      ],
      "metadata": {
        "id": "fL6rJ8fv6uIX"
      },
      "id": "fL6rJ8fv6uIX",
      "execution_count": null,
      "outputs": []
    },
    {
      "cell_type": "code",
      "source": [
        "# Проверим, что не осталось слов на неанлийском языке\n",
        "sum(train['nation'][train['nation']!=\"en\"].value_counts())"
      ],
      "metadata": {
        "colab": {
          "base_uri": "https://localhost:8080/"
        },
        "id": "5xXxsA7t6xRr",
        "outputId": "550bf518-6498-42fe-977e-130c36678a5a"
      },
      "id": "5xXxsA7t6xRr",
      "execution_count": null,
      "outputs": [
        {
          "output_type": "execute_result",
          "data": {
            "text/plain": [
              "0"
            ]
          },
          "metadata": {},
          "execution_count": 23
        }
      ]
    },
    {
      "cell_type": "code",
      "source": [
        "from unicodedata import normalize\n",
        "# Функция для очистки текста от лишних символов\n",
        "def clean_text(text):\n",
        "    \"\"\" Removes special characters \"\"\"\n",
        "    special_characters = 'å¼«¥ª°©ð±§µæ¹¢³¿®ä£'\n",
        "    text = text.translate(str.maketrans('', '', special_characters))\n",
        "\n",
        "    \"\"\" Normalize unicode data to remove umlauts, and accents, etc. \"\"\"\n",
        "    text = normalize('NFKD', text).encode('ASCII', 'ignore').decode('utf8')\n",
        "\n",
        "    # \"\"\" Remove any character except alphanumeric characters \"\"\"\n",
        "    # text =  ''.join(c for c in text if c.isalnum())\n",
        "\n",
        "\n",
        "    # регулярное выражение для удаления символов\n",
        "    punctuation_space = r'[\\/\\\\]'\n",
        "    # создаем регулярное выражение для удаления лишних символов\n",
        "    regular = r'[\\*+\\#+\\№\\\"\\-+\\+\\$\\=+\\+\\]\\[\\%\\&\\^\\.+\\;\\,\\@\\+\\>+\\(\\)\\/+\\:\\\\+]'\n",
        "    # регулярное выражение для замены ссылки на \"URL\"\n",
        "    regular_url = r'(http\\S+)|(www\\S+)|([\\w\\d]+www\\S+)|([\\w\\d]+http\\S+)'\n",
        "    # регулярное выражение для замены упоминаний\n",
        "    mentions = r'@[A-Za-z0-9_-]+'\n",
        "\n",
        "    # удаляем лишние символы\n",
        "    text = re.sub(regular, '', text)\n",
        "    # заменяем ссылки на \"URL\"\n",
        "    text = re.sub(regular_url, ' ', text)\n",
        "    # удаляем числа и цифры\n",
        "    text = re.sub(r'(\\d+\\s\\d+)|(\\d+)', ' ', text)\n",
        "    # удаляем ссылки\n",
        "    text = re.sub(mentions, '', text)\n",
        "    # заменяем знаки на пробелы\n",
        "    text = re.sub(punctuation_space, ' ', text)\n",
        "    # удаляем лишние пробелы\n",
        "    text = re.sub(r'\\s+', ' ', text)\n",
        "    text = \" \".join(word for word in text.split() if word not in stopwords)\n",
        "\n",
        "    # приводим текст к нижнему регистру\n",
        "    text = text.lower()\n",
        "    # возвращаем очищенные данные\n",
        "\n",
        "    return text"
      ],
      "metadata": {
        "id": "nKcilsck61KA"
      },
      "id": "nKcilsck61KA",
      "execution_count": null,
      "outputs": []
    },
    {
      "cell_type": "code",
      "source": [
        "from sklearn.feature_extraction import text\n",
        "stopwords = text.ENGLISH_STOP_WORDS"
      ],
      "metadata": {
        "id": "pYuw6MK168N4"
      },
      "id": "pYuw6MK168N4",
      "execution_count": null,
      "outputs": []
    },
    {
      "cell_type": "code",
      "source": [
        "# удаляем ненужные символы из текста\n",
        "train['text'] = tqdm(train['text'].apply(clean_text))\n",
        "train"
      ],
      "metadata": {
        "colab": {
          "base_uri": "https://localhost:8080/",
          "height": 441
        },
        "id": "u1M_vF5t68_O",
        "outputId": "79cea123-8c35-4159-cc8a-58fa84a45836"
      },
      "id": "u1M_vF5t68_O",
      "execution_count": null,
      "outputs": [
        {
          "output_type": "stream",
          "name": "stderr",
          "text": [
            "100%|██████████| 40871/40871 [00:00<00:00, 1629921.83it/s]\n"
          ]
        },
        {
          "output_type": "execute_result",
          "data": {
            "text/plain": [
              "                                                    text               label  \\\n",
              "0                                                                    Neutral   \n",
              "1      advice talk neighbours family exchange phone n...            Positive   \n",
              "2      coronavirus australia woolworths elderly disab...            Positive   \n",
              "3      food stock panic food need stay calm stay safe...            Positive   \n",
              "4      ready supermarket covid outbreak paranoid food...  Extremely Negative   \n",
              "...                                                  ...                 ...   \n",
              "41154  airline pilots offering stock supermarket shel...             Neutral   \n",
              "41155  response complaint provided citing covid relat...  Extremely Negative   \n",
              "41156  know s getting tough rationing toilet paper co...            Positive   \n",
              "41157  wrong smell hand sanitizer starting turn coron...             Neutral   \n",
              "41158  new used rift s going amazon rn normal market ...            Negative   \n",
              "\n",
              "      nation  \n",
              "0         en  \n",
              "1         en  \n",
              "2         en  \n",
              "3         en  \n",
              "4         en  \n",
              "...      ...  \n",
              "41154     en  \n",
              "41155     en  \n",
              "41156     en  \n",
              "41157     en  \n",
              "41158     en  \n",
              "\n",
              "[40871 rows x 3 columns]"
            ],
            "text/html": [
              "\n",
              "  <div id=\"df-e92f81b3-db67-4b1f-876c-e55d1336b451\">\n",
              "    <div class=\"colab-df-container\">\n",
              "      <div>\n",
              "<style scoped>\n",
              "    .dataframe tbody tr th:only-of-type {\n",
              "        vertical-align: middle;\n",
              "    }\n",
              "\n",
              "    .dataframe tbody tr th {\n",
              "        vertical-align: top;\n",
              "    }\n",
              "\n",
              "    .dataframe thead th {\n",
              "        text-align: right;\n",
              "    }\n",
              "</style>\n",
              "<table border=\"1\" class=\"dataframe\">\n",
              "  <thead>\n",
              "    <tr style=\"text-align: right;\">\n",
              "      <th></th>\n",
              "      <th>text</th>\n",
              "      <th>label</th>\n",
              "      <th>nation</th>\n",
              "    </tr>\n",
              "  </thead>\n",
              "  <tbody>\n",
              "    <tr>\n",
              "      <th>0</th>\n",
              "      <td></td>\n",
              "      <td>Neutral</td>\n",
              "      <td>en</td>\n",
              "    </tr>\n",
              "    <tr>\n",
              "      <th>1</th>\n",
              "      <td>advice talk neighbours family exchange phone n...</td>\n",
              "      <td>Positive</td>\n",
              "      <td>en</td>\n",
              "    </tr>\n",
              "    <tr>\n",
              "      <th>2</th>\n",
              "      <td>coronavirus australia woolworths elderly disab...</td>\n",
              "      <td>Positive</td>\n",
              "      <td>en</td>\n",
              "    </tr>\n",
              "    <tr>\n",
              "      <th>3</th>\n",
              "      <td>food stock panic food need stay calm stay safe...</td>\n",
              "      <td>Positive</td>\n",
              "      <td>en</td>\n",
              "    </tr>\n",
              "    <tr>\n",
              "      <th>4</th>\n",
              "      <td>ready supermarket covid outbreak paranoid food...</td>\n",
              "      <td>Extremely Negative</td>\n",
              "      <td>en</td>\n",
              "    </tr>\n",
              "    <tr>\n",
              "      <th>...</th>\n",
              "      <td>...</td>\n",
              "      <td>...</td>\n",
              "      <td>...</td>\n",
              "    </tr>\n",
              "    <tr>\n",
              "      <th>41154</th>\n",
              "      <td>airline pilots offering stock supermarket shel...</td>\n",
              "      <td>Neutral</td>\n",
              "      <td>en</td>\n",
              "    </tr>\n",
              "    <tr>\n",
              "      <th>41155</th>\n",
              "      <td>response complaint provided citing covid relat...</td>\n",
              "      <td>Extremely Negative</td>\n",
              "      <td>en</td>\n",
              "    </tr>\n",
              "    <tr>\n",
              "      <th>41156</th>\n",
              "      <td>know s getting tough rationing toilet paper co...</td>\n",
              "      <td>Positive</td>\n",
              "      <td>en</td>\n",
              "    </tr>\n",
              "    <tr>\n",
              "      <th>41157</th>\n",
              "      <td>wrong smell hand sanitizer starting turn coron...</td>\n",
              "      <td>Neutral</td>\n",
              "      <td>en</td>\n",
              "    </tr>\n",
              "    <tr>\n",
              "      <th>41158</th>\n",
              "      <td>new used rift s going amazon rn normal market ...</td>\n",
              "      <td>Negative</td>\n",
              "      <td>en</td>\n",
              "    </tr>\n",
              "  </tbody>\n",
              "</table>\n",
              "<p>40871 rows × 3 columns</p>\n",
              "</div>\n",
              "      <button class=\"colab-df-convert\" onclick=\"convertToInteractive('df-e92f81b3-db67-4b1f-876c-e55d1336b451')\"\n",
              "              title=\"Convert this dataframe to an interactive table.\"\n",
              "              style=\"display:none;\">\n",
              "        \n",
              "  <svg xmlns=\"http://www.w3.org/2000/svg\" height=\"24px\"viewBox=\"0 0 24 24\"\n",
              "       width=\"24px\">\n",
              "    <path d=\"M0 0h24v24H0V0z\" fill=\"none\"/>\n",
              "    <path d=\"M18.56 5.44l.94 2.06.94-2.06 2.06-.94-2.06-.94-.94-2.06-.94 2.06-2.06.94zm-11 1L8.5 8.5l.94-2.06 2.06-.94-2.06-.94L8.5 2.5l-.94 2.06-2.06.94zm10 10l.94 2.06.94-2.06 2.06-.94-2.06-.94-.94-2.06-.94 2.06-2.06.94z\"/><path d=\"M17.41 7.96l-1.37-1.37c-.4-.4-.92-.59-1.43-.59-.52 0-1.04.2-1.43.59L10.3 9.45l-7.72 7.72c-.78.78-.78 2.05 0 2.83L4 21.41c.39.39.9.59 1.41.59.51 0 1.02-.2 1.41-.59l7.78-7.78 2.81-2.81c.8-.78.8-2.07 0-2.86zM5.41 20L4 18.59l7.72-7.72 1.47 1.35L5.41 20z\"/>\n",
              "  </svg>\n",
              "      </button>\n",
              "      \n",
              "  <style>\n",
              "    .colab-df-container {\n",
              "      display:flex;\n",
              "      flex-wrap:wrap;\n",
              "      gap: 12px;\n",
              "    }\n",
              "\n",
              "    .colab-df-convert {\n",
              "      background-color: #E8F0FE;\n",
              "      border: none;\n",
              "      border-radius: 50%;\n",
              "      cursor: pointer;\n",
              "      display: none;\n",
              "      fill: #1967D2;\n",
              "      height: 32px;\n",
              "      padding: 0 0 0 0;\n",
              "      width: 32px;\n",
              "    }\n",
              "\n",
              "    .colab-df-convert:hover {\n",
              "      background-color: #E2EBFA;\n",
              "      box-shadow: 0px 1px 2px rgba(60, 64, 67, 0.3), 0px 1px 3px 1px rgba(60, 64, 67, 0.15);\n",
              "      fill: #174EA6;\n",
              "    }\n",
              "\n",
              "    [theme=dark] .colab-df-convert {\n",
              "      background-color: #3B4455;\n",
              "      fill: #D2E3FC;\n",
              "    }\n",
              "\n",
              "    [theme=dark] .colab-df-convert:hover {\n",
              "      background-color: #434B5C;\n",
              "      box-shadow: 0px 1px 3px 1px rgba(0, 0, 0, 0.15);\n",
              "      filter: drop-shadow(0px 1px 2px rgba(0, 0, 0, 0.3));\n",
              "      fill: #FFFFFF;\n",
              "    }\n",
              "  </style>\n",
              "\n",
              "      <script>\n",
              "        const buttonEl =\n",
              "          document.querySelector('#df-e92f81b3-db67-4b1f-876c-e55d1336b451 button.colab-df-convert');\n",
              "        buttonEl.style.display =\n",
              "          google.colab.kernel.accessAllowed ? 'block' : 'none';\n",
              "\n",
              "        async function convertToInteractive(key) {\n",
              "          const element = document.querySelector('#df-e92f81b3-db67-4b1f-876c-e55d1336b451');\n",
              "          const dataTable =\n",
              "            await google.colab.kernel.invokeFunction('convertToInteractive',\n",
              "                                                     [key], {});\n",
              "          if (!dataTable) return;\n",
              "\n",
              "          const docLinkHtml = 'Like what you see? Visit the ' +\n",
              "            '<a target=\"_blank\" href=https://colab.research.google.com/notebooks/data_table.ipynb>data table notebook</a>'\n",
              "            + ' to learn more about interactive tables.';\n",
              "          element.innerHTML = '';\n",
              "          dataTable['output_type'] = 'display_data';\n",
              "          await google.colab.output.renderOutput(dataTable, element);\n",
              "          const docLink = document.createElement('div');\n",
              "          docLink.innerHTML = docLinkHtml;\n",
              "          element.appendChild(docLink);\n",
              "        }\n",
              "      </script>\n",
              "    </div>\n",
              "  </div>\n",
              "  "
            ]
          },
          "metadata": {},
          "execution_count": 28
        }
      ]
    },
    {
      "cell_type": "code",
      "source": [
        "train.drop(columns = \"nation\", inplace=True)\n",
        "train"
      ],
      "metadata": {
        "colab": {
          "base_uri": "https://localhost:8080/",
          "height": 423
        },
        "id": "v0gelI2t7AZU",
        "outputId": "3257d178-2453-408a-a47f-97c0873cf733"
      },
      "id": "v0gelI2t7AZU",
      "execution_count": null,
      "outputs": [
        {
          "output_type": "execute_result",
          "data": {
            "text/plain": [
              "                                                    text               label\n",
              "0                                                                    Neutral\n",
              "1      advice talk neighbours family exchange phone n...            Positive\n",
              "2      coronavirus australia woolworths elderly disab...            Positive\n",
              "3      food stock panic food need stay calm stay safe...            Positive\n",
              "4      ready supermarket covid outbreak paranoid food...  Extremely Negative\n",
              "...                                                  ...                 ...\n",
              "41154  airline pilots offering stock supermarket shel...             Neutral\n",
              "41155  response complaint provided citing covid relat...  Extremely Negative\n",
              "41156  know s getting tough rationing toilet paper co...            Positive\n",
              "41157  wrong smell hand sanitizer starting turn coron...             Neutral\n",
              "41158  new used rift s going amazon rn normal market ...            Negative\n",
              "\n",
              "[40871 rows x 2 columns]"
            ],
            "text/html": [
              "\n",
              "  <div id=\"df-2f2ea6bf-61de-428b-9314-7a1597ea9c32\">\n",
              "    <div class=\"colab-df-container\">\n",
              "      <div>\n",
              "<style scoped>\n",
              "    .dataframe tbody tr th:only-of-type {\n",
              "        vertical-align: middle;\n",
              "    }\n",
              "\n",
              "    .dataframe tbody tr th {\n",
              "        vertical-align: top;\n",
              "    }\n",
              "\n",
              "    .dataframe thead th {\n",
              "        text-align: right;\n",
              "    }\n",
              "</style>\n",
              "<table border=\"1\" class=\"dataframe\">\n",
              "  <thead>\n",
              "    <tr style=\"text-align: right;\">\n",
              "      <th></th>\n",
              "      <th>text</th>\n",
              "      <th>label</th>\n",
              "    </tr>\n",
              "  </thead>\n",
              "  <tbody>\n",
              "    <tr>\n",
              "      <th>0</th>\n",
              "      <td></td>\n",
              "      <td>Neutral</td>\n",
              "    </tr>\n",
              "    <tr>\n",
              "      <th>1</th>\n",
              "      <td>advice talk neighbours family exchange phone n...</td>\n",
              "      <td>Positive</td>\n",
              "    </tr>\n",
              "    <tr>\n",
              "      <th>2</th>\n",
              "      <td>coronavirus australia woolworths elderly disab...</td>\n",
              "      <td>Positive</td>\n",
              "    </tr>\n",
              "    <tr>\n",
              "      <th>3</th>\n",
              "      <td>food stock panic food need stay calm stay safe...</td>\n",
              "      <td>Positive</td>\n",
              "    </tr>\n",
              "    <tr>\n",
              "      <th>4</th>\n",
              "      <td>ready supermarket covid outbreak paranoid food...</td>\n",
              "      <td>Extremely Negative</td>\n",
              "    </tr>\n",
              "    <tr>\n",
              "      <th>...</th>\n",
              "      <td>...</td>\n",
              "      <td>...</td>\n",
              "    </tr>\n",
              "    <tr>\n",
              "      <th>41154</th>\n",
              "      <td>airline pilots offering stock supermarket shel...</td>\n",
              "      <td>Neutral</td>\n",
              "    </tr>\n",
              "    <tr>\n",
              "      <th>41155</th>\n",
              "      <td>response complaint provided citing covid relat...</td>\n",
              "      <td>Extremely Negative</td>\n",
              "    </tr>\n",
              "    <tr>\n",
              "      <th>41156</th>\n",
              "      <td>know s getting tough rationing toilet paper co...</td>\n",
              "      <td>Positive</td>\n",
              "    </tr>\n",
              "    <tr>\n",
              "      <th>41157</th>\n",
              "      <td>wrong smell hand sanitizer starting turn coron...</td>\n",
              "      <td>Neutral</td>\n",
              "    </tr>\n",
              "    <tr>\n",
              "      <th>41158</th>\n",
              "      <td>new used rift s going amazon rn normal market ...</td>\n",
              "      <td>Negative</td>\n",
              "    </tr>\n",
              "  </tbody>\n",
              "</table>\n",
              "<p>40871 rows × 2 columns</p>\n",
              "</div>\n",
              "      <button class=\"colab-df-convert\" onclick=\"convertToInteractive('df-2f2ea6bf-61de-428b-9314-7a1597ea9c32')\"\n",
              "              title=\"Convert this dataframe to an interactive table.\"\n",
              "              style=\"display:none;\">\n",
              "        \n",
              "  <svg xmlns=\"http://www.w3.org/2000/svg\" height=\"24px\"viewBox=\"0 0 24 24\"\n",
              "       width=\"24px\">\n",
              "    <path d=\"M0 0h24v24H0V0z\" fill=\"none\"/>\n",
              "    <path d=\"M18.56 5.44l.94 2.06.94-2.06 2.06-.94-2.06-.94-.94-2.06-.94 2.06-2.06.94zm-11 1L8.5 8.5l.94-2.06 2.06-.94-2.06-.94L8.5 2.5l-.94 2.06-2.06.94zm10 10l.94 2.06.94-2.06 2.06-.94-2.06-.94-.94-2.06-.94 2.06-2.06.94z\"/><path d=\"M17.41 7.96l-1.37-1.37c-.4-.4-.92-.59-1.43-.59-.52 0-1.04.2-1.43.59L10.3 9.45l-7.72 7.72c-.78.78-.78 2.05 0 2.83L4 21.41c.39.39.9.59 1.41.59.51 0 1.02-.2 1.41-.59l7.78-7.78 2.81-2.81c.8-.78.8-2.07 0-2.86zM5.41 20L4 18.59l7.72-7.72 1.47 1.35L5.41 20z\"/>\n",
              "  </svg>\n",
              "      </button>\n",
              "      \n",
              "  <style>\n",
              "    .colab-df-container {\n",
              "      display:flex;\n",
              "      flex-wrap:wrap;\n",
              "      gap: 12px;\n",
              "    }\n",
              "\n",
              "    .colab-df-convert {\n",
              "      background-color: #E8F0FE;\n",
              "      border: none;\n",
              "      border-radius: 50%;\n",
              "      cursor: pointer;\n",
              "      display: none;\n",
              "      fill: #1967D2;\n",
              "      height: 32px;\n",
              "      padding: 0 0 0 0;\n",
              "      width: 32px;\n",
              "    }\n",
              "\n",
              "    .colab-df-convert:hover {\n",
              "      background-color: #E2EBFA;\n",
              "      box-shadow: 0px 1px 2px rgba(60, 64, 67, 0.3), 0px 1px 3px 1px rgba(60, 64, 67, 0.15);\n",
              "      fill: #174EA6;\n",
              "    }\n",
              "\n",
              "    [theme=dark] .colab-df-convert {\n",
              "      background-color: #3B4455;\n",
              "      fill: #D2E3FC;\n",
              "    }\n",
              "\n",
              "    [theme=dark] .colab-df-convert:hover {\n",
              "      background-color: #434B5C;\n",
              "      box-shadow: 0px 1px 3px 1px rgba(0, 0, 0, 0.15);\n",
              "      filter: drop-shadow(0px 1px 2px rgba(0, 0, 0, 0.3));\n",
              "      fill: #FFFFFF;\n",
              "    }\n",
              "  </style>\n",
              "\n",
              "      <script>\n",
              "        const buttonEl =\n",
              "          document.querySelector('#df-2f2ea6bf-61de-428b-9314-7a1597ea9c32 button.colab-df-convert');\n",
              "        buttonEl.style.display =\n",
              "          google.colab.kernel.accessAllowed ? 'block' : 'none';\n",
              "\n",
              "        async function convertToInteractive(key) {\n",
              "          const element = document.querySelector('#df-2f2ea6bf-61de-428b-9314-7a1597ea9c32');\n",
              "          const dataTable =\n",
              "            await google.colab.kernel.invokeFunction('convertToInteractive',\n",
              "                                                     [key], {});\n",
              "          if (!dataTable) return;\n",
              "\n",
              "          const docLinkHtml = 'Like what you see? Visit the ' +\n",
              "            '<a target=\"_blank\" href=https://colab.research.google.com/notebooks/data_table.ipynb>data table notebook</a>'\n",
              "            + ' to learn more about interactive tables.';\n",
              "          element.innerHTML = '';\n",
              "          dataTable['output_type'] = 'display_data';\n",
              "          await google.colab.output.renderOutput(dataTable, element);\n",
              "          const docLink = document.createElement('div');\n",
              "          docLink.innerHTML = docLinkHtml;\n",
              "          element.appendChild(docLink);\n",
              "        }\n",
              "      </script>\n",
              "    </div>\n",
              "  </div>\n",
              "  "
            ]
          },
          "metadata": {},
          "execution_count": 29
        }
      ]
    },
    {
      "cell_type": "code",
      "source": [
        "# Сохранение файла для использования в дальнейших частях заданиях\n",
        "train.to_csv('/content/df.csv')"
      ],
      "metadata": {
        "id": "k_idND_pHT8i"
      },
      "id": "k_idND_pHT8i",
      "execution_count": null,
      "outputs": []
    },
    {
      "cell_type": "markdown",
      "id": "13166f0a",
      "metadata": {
        "id": "13166f0a"
      },
      "source": [
        "##Длина предложений"
      ]
    },
    {
      "cell_type": "code",
      "execution_count": null,
      "id": "c8c0f63f",
      "metadata": {
        "colab": {
          "base_uri": "https://localhost:8080/"
        },
        "id": "c8c0f63f",
        "outputId": "c8ff97f1-ad96-4fb6-c132-81bb09e47357"
      },
      "outputs": [
        {
          "output_type": "execute_result",
          "data": {
            "text/plain": [
              "30.178593123557285"
            ]
          },
          "metadata": {},
          "execution_count": 62
        }
      ],
      "source": [
        "# Среднее количество слов в предложении во всем наборе данных - 30 слов\n",
        "\n",
        "np.mean([len(s.split(\" \")) for s in train.text])"
      ]
    },
    {
      "cell_type": "code",
      "execution_count": null,
      "id": "0a5c2ed7",
      "metadata": {
        "colab": {
          "base_uri": "https://localhost:8080/"
        },
        "id": "0a5c2ed7",
        "outputId": "9e39a7a2-6e55-4d88-9c04-f4ebb75480a3"
      },
      "outputs": [
        {
          "output_type": "execute_result",
          "data": {
            "text/plain": [
              "30.595867623883734"
            ]
          },
          "metadata": {},
          "execution_count": 63
        }
      ],
      "source": [
        "# Среднее количество слов в предложениях класса Positive - 31 слово\n",
        "\n",
        "Positive = train[(train.label == 'Positive')]\n",
        "np.mean([len(s.split(\" \")) for s in Positive['text']])"
      ]
    },
    {
      "cell_type": "code",
      "execution_count": null,
      "id": "5efced40",
      "metadata": {
        "colab": {
          "base_uri": "https://localhost:8080/"
        },
        "id": "5efced40",
        "outputId": "c3c5559f-d549-43fa-d77e-5215dee35090"
      },
      "outputs": [
        {
          "output_type": "execute_result",
          "data": {
            "text/plain": [
              "22.60082998314097"
            ]
          },
          "metadata": {},
          "execution_count": 64
        }
      ],
      "source": [
        "# Среднее количество слов в предложениях класса Neutral - 23 слова\n",
        "\n",
        "Neutral = train[(train.label == 'Neutral')]\n",
        "np.mean([len(s.split(\" \")) for s in Neutral['text']])"
      ]
    },
    {
      "cell_type": "code",
      "execution_count": null,
      "id": "2b09f6dd",
      "metadata": {
        "colab": {
          "base_uri": "https://localhost:8080/"
        },
        "id": "2b09f6dd",
        "outputId": "d8a1222d-c06c-43ec-9fa1-51fbd447f781"
      },
      "outputs": [
        {
          "output_type": "execute_result",
          "data": {
            "text/plain": [
              "34.344462689290275"
            ]
          },
          "metadata": {},
          "execution_count": 65
        }
      ],
      "source": [
        "# Среднее количество слов в предложениях класса Extremely Negative - 34 слова\n",
        "\n",
        "Extremely_Negative = train[(train.label == 'Extremely Negative')]\n",
        "np.mean([len(s.split(\" \")) for s in Extremely_Negative['text']])"
      ]
    },
    {
      "cell_type": "code",
      "execution_count": null,
      "id": "27efcfdc",
      "metadata": {
        "colab": {
          "base_uri": "https://localhost:8080/"
        },
        "id": "27efcfdc",
        "outputId": "9620c7db-2bb7-4c66-c8f9-9edcdc2c4f57"
      },
      "outputs": [
        {
          "output_type": "execute_result",
          "data": {
            "text/plain": [
              "30.403851971362307"
            ]
          },
          "metadata": {},
          "execution_count": 66
        }
      ],
      "source": [
        "# Среднее количество слов в предложениях класса Negative - 30\n",
        "\n",
        "Negative = train[(train.label == 'Negative')]\n",
        "np.mean([len(s.split(\" \")) for s in Negative['text']])"
      ]
    },
    {
      "cell_type": "code",
      "execution_count": null,
      "id": "e1c0695c",
      "metadata": {
        "colab": {
          "base_uri": "https://localhost:8080/"
        },
        "id": "e1c0695c",
        "outputId": "7bdb479b-4311-47b2-b8bf-7daa74d656aa"
      },
      "outputs": [
        {
          "output_type": "execute_result",
          "data": {
            "text/plain": [
              "34.49607487922705"
            ]
          },
          "metadata": {},
          "execution_count": 67
        }
      ],
      "source": [
        "# Среднее количество слов в предложениях класса Extremely Positive - 34 слова\n",
        "\n",
        "Extremely_Positive = train[(train.label == 'Extremely Positive')]\n",
        "np.mean([len(s.split(\" \")) for s in Extremely_Positive['text']])"
      ]
    },
    {
      "cell_type": "markdown",
      "id": "1e92e8f7",
      "metadata": {
        "id": "1e92e8f7"
      },
      "source": [
        "Среднее количество слов в предложениях во всем наборе данных - 30 слов.\n",
        "При этом,\n",
        "\n",
        "\n",
        "\n",
        "\n",
        "\n",
        "*   в предложениях класса Extremely Negative - 34 слова\n",
        "*   в предложениях класса Negative - 30 слов\n",
        "\n",
        "\n",
        "\n",
        "*   в предложениях класса Neutral - 23 слова\n",
        "*   в предложениях класса Positive - 31 слово\n",
        "\n",
        "\n",
        "\n",
        "*   в предложениях класса Extremely Positive - 34 слова\n",
        "\n",
        "\n",
        "\n",
        "\n",
        "Отличается от остальных класс Neutral, в нем наименьшее количество слов - 23.\n",
        "В остальных классах примерно равное количество слов - от 30 до 34.\n",
        "Учитывая отсутствие значимых отличий в длине предложений между классами выстраивать классификацию на основании данного критерия нецелесообразно."
      ]
    },
    {
      "cell_type": "markdown",
      "id": "1392966a",
      "metadata": {
        "id": "1392966a"
      },
      "source": [
        "#Наиболее часто встречающиеся слова и группы слов (unigrams, bigrams, trigrams)"
      ]
    },
    {
      "cell_type": "markdown",
      "id": "aab63cc1",
      "metadata": {
        "id": "aab63cc1"
      },
      "source": [
        "##Unigrams"
      ]
    },
    {
      "cell_type": "code",
      "execution_count": null,
      "id": "c0823f08",
      "metadata": {
        "colab": {
          "base_uri": "https://localhost:8080/"
        },
        "id": "c0823f08",
        "outputId": "af330e76-a3b7-4d4c-dfa5-b91a1bc7b9d9"
      },
      "outputs": [
        {
          "output_type": "stream",
          "name": "stdout",
          "text": [
            "the 44822\n",
            "to 38358\n",
            "and 24034\n",
            "covid 21888\n",
            "of 21522\n",
            "in 19147\n",
            "coronavirus 18060\n",
            "for 14050\n",
            "is 13420\n",
            "are 12010\n",
            "you 10068\n",
            "on 9407\n",
            "this 7960\n",
            "prices 7913\n",
            "at 7781\n",
            "it 7384\n",
            "food 7108\n",
            "supermarket 7053\n",
            "we 7012\n",
            "store 6828\n"
          ]
        }
      ],
      "source": [
        "# Top unigrams before removing stop words\n",
        "\n",
        "def get_top_n_words(corpus, n=None):\n",
        "    vec = CountVectorizer().fit(corpus)\n",
        "    bag_of_words = vec.transform(corpus)\n",
        "    sum_words = bag_of_words.sum(axis=0)\n",
        "    words_freq = [(word, sum_words[0, idx])\n",
        "                  for word, idx in vec.vocabulary_.items()]\n",
        "    words_freq =sorted(words_freq, key = lambda x: x[1], reverse=True)\n",
        "\n",
        "    return words_freq[:n]\n",
        "\n",
        "common_words = get_top_n_words(train['text'], 20)\n",
        "\n",
        "for word, freq in common_words:\n",
        "    print(word, freq)\n",
        "df1 = pd.DataFrame(common_words, columns = ['text' , 'count'])"
      ]
    },
    {
      "cell_type": "code",
      "execution_count": null,
      "id": "99f72302",
      "metadata": {
        "colab": {
          "base_uri": "https://localhost:8080/"
        },
        "id": "99f72302",
        "outputId": "73bdb23f-bdf1-47e6-849e-4c50185e61f7"
      },
      "outputs": [
        {
          "output_type": "stream",
          "name": "stdout",
          "text": [
            "covid 21888\n",
            "coronavirus 18060\n",
            "prices 7913\n",
            "food 7108\n",
            "supermarket 7053\n",
            "store 6828\n",
            "grocery 6263\n",
            "people 5590\n",
            "consumer 4518\n",
            "shopping 3612\n",
            "online 3435\n",
            "pandemic 3175\n",
            "need 2712\n",
            "workers 2591\n",
            "just 2582\n",
            "panic 2472\n",
            "sanitizer 2388\n",
            "like 2366\n",
            "time 2281\n",
            "demand 2278\n"
          ]
        }
      ],
      "source": [
        "# Top unigrams after removing stop words\n",
        "\n",
        "def get_top_n_words_after(corpus, n=None):\n",
        "    vec = CountVectorizer(stop_words = 'english').fit(corpus)\n",
        "    bag_of_words = vec.transform(corpus)\n",
        "    sum_words = bag_of_words.sum(axis=0)\n",
        "    words_freq = [(word, sum_words[0, idx])\n",
        "                  for word, idx in vec.vocabulary_.items()]\n",
        "    words_freq =sorted(words_freq, key = lambda x: x[1], reverse=True)\n",
        "\n",
        "    return words_freq[:n]\n",
        "\n",
        "common_words = get_top_n_words_after(train['text'], 20)\n",
        "\n",
        "for word, freq in common_words:\n",
        "    print(word, freq)\n",
        "df2 = pd.DataFrame(common_words, columns = ['text' , 'count'])"
      ]
    },
    {
      "cell_type": "code",
      "execution_count": null,
      "id": "91cc900a",
      "metadata": {
        "colab": {
          "base_uri": "https://localhost:8080/"
        },
        "id": "91cc900a",
        "outputId": "723231aa-c43d-4785-a888-abc547faa99c"
      },
      "outputs": [
        {
          "output_type": "stream",
          "name": "stdout",
          "text": [
            "covid 2888\n",
            "coronavirus 2411\n",
            "food 1584\n",
            "prices 1350\n",
            "people 1246\n",
            "panic 1147\n",
            "supermarket 938\n",
            "crisis 841\n",
            "store 671\n",
            "buying 652\n",
            "grocery 645\n",
            "consumer 512\n",
            "oil 472\n",
            "just 456\n",
            "stop 444\n",
            "need 438\n",
            "demand 374\n",
            "pandemic 361\n",
            "going 345\n",
            "shopping 317\n"
          ]
        }
      ],
      "source": [
        "# Top unigrams after removing stop words\n",
        "# класс Extremely Negative\n",
        "\n",
        "Extremely_Negative = train[(train.label == 'Extremely Negative')]\n",
        "common_words = get_top_n_words_after(Extremely_Negative['text'], 20)\n",
        "for word, freq in common_words:\n",
        "    print(word, freq)\n",
        "df_EN = pd.DataFrame(common_words, columns = ['text' , 'count'])"
      ]
    },
    {
      "cell_type": "code",
      "execution_count": null,
      "id": "c47e1470",
      "metadata": {
        "colab": {
          "base_uri": "https://localhost:8080/"
        },
        "id": "c47e1470",
        "outputId": "b16bed1b-994e-422a-ca03-95133954b61c"
      },
      "outputs": [
        {
          "output_type": "stream",
          "name": "stdout",
          "text": [
            "covid 5161\n",
            "coronavirus 4329\n",
            "prices 2372\n",
            "food 2035\n",
            "supermarket 1744\n",
            "store 1531\n",
            "people 1439\n",
            "grocery 1416\n",
            "consumer 963\n",
            "demand 897\n",
            "panic 829\n",
            "pandemic 827\n",
            "shopping 734\n",
            "online 678\n",
            "oil 650\n",
            "just 627\n",
            "need 618\n",
            "time 583\n",
            "workers 557\n",
            "buying 529\n"
          ]
        }
      ],
      "source": [
        "# Top unigrams after removing stop words\n",
        "# класс Negative\n",
        "\n",
        "Negative = train[(train.label == 'Negative')]\n",
        "common_words = get_top_n_words_after(Negative['text'], 20)\n",
        "for word, freq in common_words:\n",
        "    print(word, freq)\n",
        "df_N = pd.DataFrame(common_words, columns = ['text' , 'count'])"
      ]
    },
    {
      "cell_type": "code",
      "execution_count": null,
      "id": "5d785f7d",
      "metadata": {
        "colab": {
          "base_uri": "https://localhost:8080/"
        },
        "id": "5d785f7d",
        "outputId": "11b09c9e-88f4-4529-df5f-d2735a47292f"
      },
      "outputs": [
        {
          "output_type": "stream",
          "name": "stdout",
          "text": [
            "covid 3456\n",
            "coronavirus 2664\n",
            "store 1268\n",
            "supermarket 1093\n",
            "grocery 1080\n",
            "food 1000\n",
            "help 980\n",
            "hand 943\n",
            "prices 937\n",
            "sanitizer 913\n",
            "people 847\n",
            "like 770\n",
            "consumer 736\n",
            "workers 718\n",
            "online 712\n",
            "shopping 709\n",
            "thank 537\n",
            "safe 537\n",
            "need 517\n",
            "pandemic 503\n"
          ]
        }
      ],
      "source": [
        "# Top unigrams after removing stop words\n",
        "# класс Extremely Positive\n",
        "\n",
        "Extremely_Positive = train[(train.label == 'Extremely Positive')]\n",
        "common_words = get_top_n_words_after(Extremely_Positive['text'], 20)\n",
        "for word, freq in common_words:\n",
        "    print(word, freq)\n",
        "df_EP = pd.DataFrame(common_words, columns = ['text' , 'count'])"
      ]
    },
    {
      "cell_type": "code",
      "execution_count": null,
      "id": "2dc9411e",
      "metadata": {
        "colab": {
          "base_uri": "https://localhost:8080/"
        },
        "id": "2dc9411e",
        "outputId": "56afc2c6-940d-44bd-da9a-c86a92a4e77f"
      },
      "outputs": [
        {
          "output_type": "stream",
          "name": "stdout",
          "text": [
            "covid 6173\n",
            "coronavirus 4847\n",
            "store 2032\n",
            "prices 2028\n",
            "grocery 1936\n",
            "supermarket 1931\n",
            "food 1809\n",
            "people 1451\n",
            "consumer 1315\n",
            "shopping 1093\n",
            "online 1085\n",
            "like 916\n",
            "pandemic 915\n",
            "sanitizer 864\n",
            "hand 840\n",
            "need 796\n",
            "workers 792\n",
            "help 723\n",
            "just 689\n",
            "demand 685\n"
          ]
        }
      ],
      "source": [
        "# Top unigrams after removing stop words\n",
        "# класс Positive\n",
        "\n",
        "Positive = train[(train.label == 'Positive')]\n",
        "common_words = get_top_n_words_after(Positive['text'], 20)\n",
        "for word, freq in common_words:\n",
        "    print(word, freq)\n",
        "df_P = pd.DataFrame(common_words, columns = ['text' , 'count'])"
      ]
    },
    {
      "cell_type": "code",
      "execution_count": null,
      "id": "7fe98264",
      "metadata": {
        "colab": {
          "base_uri": "https://localhost:8080/"
        },
        "id": "7fe98264",
        "outputId": "2d39eaed-3c64-4d3f-cae8-2e3bce97d66c"
      },
      "outputs": [
        {
          "output_type": "stream",
          "name": "stdout",
          "text": [
            "covid 4210\n",
            "coronavirus 3809\n",
            "supermarket 1347\n",
            "store 1326\n",
            "prices 1226\n",
            "grocery 1186\n",
            "consumer 992\n",
            "shopping 759\n",
            "online 695\n",
            "food 680\n",
            "people 607\n",
            "pandemic 569\n",
            "toiletpaper 551\n",
            "new 369\n",
            "just 362\n",
            "retail 350\n",
            "need 343\n",
            "home 329\n",
            "toilet 327\n",
            "paper 310\n"
          ]
        }
      ],
      "source": [
        "# Top unigrams after removing stop words\n",
        "# класс Neutral\n",
        "\n",
        "Neutral = train[(train.label == 'Neutral')]\n",
        "common_words = get_top_n_words_after(Neutral['text'], 20)\n",
        "for word, freq in common_words:\n",
        "    print(word, freq)\n",
        "df_Neu = pd.DataFrame(common_words, columns = ['text' , 'count'])"
      ]
    },
    {
      "cell_type": "markdown",
      "source": [
        "###Наиболее популярные unigrams для каждого класса"
      ],
      "metadata": {
        "id": "wzzFg9SMbMaM"
      },
      "id": "wzzFg9SMbMaM"
    },
    {
      "cell_type": "code",
      "execution_count": null,
      "id": "16ea807d",
      "metadata": {
        "colab": {
          "base_uri": "https://localhost:8080/",
          "height": 676
        },
        "id": "16ea807d",
        "outputId": "9ddf9f57-21e7-4ccc-cd4e-0c0bb81be6fa"
      },
      "outputs": [
        {
          "output_type": "execute_result",
          "data": {
            "text/plain": [
              "   Extremely Negative     Negative      Neutral     Positive  \\\n",
              "0               covid        covid        covid        covid   \n",
              "1         coronavirus  coronavirus  coronavirus  coronavirus   \n",
              "2                food       prices  supermarket        store   \n",
              "3              prices         food        store       prices   \n",
              "4              people  supermarket       prices      grocery   \n",
              "5               panic        store      grocery  supermarket   \n",
              "6         supermarket       people     consumer         food   \n",
              "7              crisis      grocery     shopping       people   \n",
              "8               store     consumer       online     consumer   \n",
              "9              buying       demand         food     shopping   \n",
              "10            grocery        panic       people       online   \n",
              "11           consumer     pandemic     pandemic         like   \n",
              "12                oil     shopping  toiletpaper     pandemic   \n",
              "13               just       online          new    sanitizer   \n",
              "14               stop          oil         just         hand   \n",
              "15               need         just       retail         need   \n",
              "16             demand         need         need      workers   \n",
              "17           pandemic         time         home         help   \n",
              "18              going      workers       toilet         just   \n",
              "19           shopping       buying        paper       demand   \n",
              "\n",
              "   Extremely Positive  \n",
              "0               covid  \n",
              "1         coronavirus  \n",
              "2               store  \n",
              "3         supermarket  \n",
              "4             grocery  \n",
              "5                food  \n",
              "6                help  \n",
              "7                hand  \n",
              "8              prices  \n",
              "9           sanitizer  \n",
              "10             people  \n",
              "11               like  \n",
              "12           consumer  \n",
              "13            workers  \n",
              "14             online  \n",
              "15           shopping  \n",
              "16              thank  \n",
              "17               safe  \n",
              "18               need  \n",
              "19           pandemic  "
            ],
            "text/html": [
              "\n",
              "  <div id=\"df-e691911a-f4ec-4456-93ed-ff33937501c0\">\n",
              "    <div class=\"colab-df-container\">\n",
              "      <div>\n",
              "<style scoped>\n",
              "    .dataframe tbody tr th:only-of-type {\n",
              "        vertical-align: middle;\n",
              "    }\n",
              "\n",
              "    .dataframe tbody tr th {\n",
              "        vertical-align: top;\n",
              "    }\n",
              "\n",
              "    .dataframe thead th {\n",
              "        text-align: right;\n",
              "    }\n",
              "</style>\n",
              "<table border=\"1\" class=\"dataframe\">\n",
              "  <thead>\n",
              "    <tr style=\"text-align: right;\">\n",
              "      <th></th>\n",
              "      <th>Extremely Negative</th>\n",
              "      <th>Negative</th>\n",
              "      <th>Neutral</th>\n",
              "      <th>Positive</th>\n",
              "      <th>Extremely Positive</th>\n",
              "    </tr>\n",
              "  </thead>\n",
              "  <tbody>\n",
              "    <tr>\n",
              "      <th>0</th>\n",
              "      <td>covid</td>\n",
              "      <td>covid</td>\n",
              "      <td>covid</td>\n",
              "      <td>covid</td>\n",
              "      <td>covid</td>\n",
              "    </tr>\n",
              "    <tr>\n",
              "      <th>1</th>\n",
              "      <td>coronavirus</td>\n",
              "      <td>coronavirus</td>\n",
              "      <td>coronavirus</td>\n",
              "      <td>coronavirus</td>\n",
              "      <td>coronavirus</td>\n",
              "    </tr>\n",
              "    <tr>\n",
              "      <th>2</th>\n",
              "      <td>food</td>\n",
              "      <td>prices</td>\n",
              "      <td>supermarket</td>\n",
              "      <td>store</td>\n",
              "      <td>store</td>\n",
              "    </tr>\n",
              "    <tr>\n",
              "      <th>3</th>\n",
              "      <td>prices</td>\n",
              "      <td>food</td>\n",
              "      <td>store</td>\n",
              "      <td>prices</td>\n",
              "      <td>supermarket</td>\n",
              "    </tr>\n",
              "    <tr>\n",
              "      <th>4</th>\n",
              "      <td>people</td>\n",
              "      <td>supermarket</td>\n",
              "      <td>prices</td>\n",
              "      <td>grocery</td>\n",
              "      <td>grocery</td>\n",
              "    </tr>\n",
              "    <tr>\n",
              "      <th>5</th>\n",
              "      <td>panic</td>\n",
              "      <td>store</td>\n",
              "      <td>grocery</td>\n",
              "      <td>supermarket</td>\n",
              "      <td>food</td>\n",
              "    </tr>\n",
              "    <tr>\n",
              "      <th>6</th>\n",
              "      <td>supermarket</td>\n",
              "      <td>people</td>\n",
              "      <td>consumer</td>\n",
              "      <td>food</td>\n",
              "      <td>help</td>\n",
              "    </tr>\n",
              "    <tr>\n",
              "      <th>7</th>\n",
              "      <td>crisis</td>\n",
              "      <td>grocery</td>\n",
              "      <td>shopping</td>\n",
              "      <td>people</td>\n",
              "      <td>hand</td>\n",
              "    </tr>\n",
              "    <tr>\n",
              "      <th>8</th>\n",
              "      <td>store</td>\n",
              "      <td>consumer</td>\n",
              "      <td>online</td>\n",
              "      <td>consumer</td>\n",
              "      <td>prices</td>\n",
              "    </tr>\n",
              "    <tr>\n",
              "      <th>9</th>\n",
              "      <td>buying</td>\n",
              "      <td>demand</td>\n",
              "      <td>food</td>\n",
              "      <td>shopping</td>\n",
              "      <td>sanitizer</td>\n",
              "    </tr>\n",
              "    <tr>\n",
              "      <th>10</th>\n",
              "      <td>grocery</td>\n",
              "      <td>panic</td>\n",
              "      <td>people</td>\n",
              "      <td>online</td>\n",
              "      <td>people</td>\n",
              "    </tr>\n",
              "    <tr>\n",
              "      <th>11</th>\n",
              "      <td>consumer</td>\n",
              "      <td>pandemic</td>\n",
              "      <td>pandemic</td>\n",
              "      <td>like</td>\n",
              "      <td>like</td>\n",
              "    </tr>\n",
              "    <tr>\n",
              "      <th>12</th>\n",
              "      <td>oil</td>\n",
              "      <td>shopping</td>\n",
              "      <td>toiletpaper</td>\n",
              "      <td>pandemic</td>\n",
              "      <td>consumer</td>\n",
              "    </tr>\n",
              "    <tr>\n",
              "      <th>13</th>\n",
              "      <td>just</td>\n",
              "      <td>online</td>\n",
              "      <td>new</td>\n",
              "      <td>sanitizer</td>\n",
              "      <td>workers</td>\n",
              "    </tr>\n",
              "    <tr>\n",
              "      <th>14</th>\n",
              "      <td>stop</td>\n",
              "      <td>oil</td>\n",
              "      <td>just</td>\n",
              "      <td>hand</td>\n",
              "      <td>online</td>\n",
              "    </tr>\n",
              "    <tr>\n",
              "      <th>15</th>\n",
              "      <td>need</td>\n",
              "      <td>just</td>\n",
              "      <td>retail</td>\n",
              "      <td>need</td>\n",
              "      <td>shopping</td>\n",
              "    </tr>\n",
              "    <tr>\n",
              "      <th>16</th>\n",
              "      <td>demand</td>\n",
              "      <td>need</td>\n",
              "      <td>need</td>\n",
              "      <td>workers</td>\n",
              "      <td>thank</td>\n",
              "    </tr>\n",
              "    <tr>\n",
              "      <th>17</th>\n",
              "      <td>pandemic</td>\n",
              "      <td>time</td>\n",
              "      <td>home</td>\n",
              "      <td>help</td>\n",
              "      <td>safe</td>\n",
              "    </tr>\n",
              "    <tr>\n",
              "      <th>18</th>\n",
              "      <td>going</td>\n",
              "      <td>workers</td>\n",
              "      <td>toilet</td>\n",
              "      <td>just</td>\n",
              "      <td>need</td>\n",
              "    </tr>\n",
              "    <tr>\n",
              "      <th>19</th>\n",
              "      <td>shopping</td>\n",
              "      <td>buying</td>\n",
              "      <td>paper</td>\n",
              "      <td>demand</td>\n",
              "      <td>pandemic</td>\n",
              "    </tr>\n",
              "  </tbody>\n",
              "</table>\n",
              "</div>\n",
              "      <button class=\"colab-df-convert\" onclick=\"convertToInteractive('df-e691911a-f4ec-4456-93ed-ff33937501c0')\"\n",
              "              title=\"Convert this dataframe to an interactive table.\"\n",
              "              style=\"display:none;\">\n",
              "        \n",
              "  <svg xmlns=\"http://www.w3.org/2000/svg\" height=\"24px\"viewBox=\"0 0 24 24\"\n",
              "       width=\"24px\">\n",
              "    <path d=\"M0 0h24v24H0V0z\" fill=\"none\"/>\n",
              "    <path d=\"M18.56 5.44l.94 2.06.94-2.06 2.06-.94-2.06-.94-.94-2.06-.94 2.06-2.06.94zm-11 1L8.5 8.5l.94-2.06 2.06-.94-2.06-.94L8.5 2.5l-.94 2.06-2.06.94zm10 10l.94 2.06.94-2.06 2.06-.94-2.06-.94-.94-2.06-.94 2.06-2.06.94z\"/><path d=\"M17.41 7.96l-1.37-1.37c-.4-.4-.92-.59-1.43-.59-.52 0-1.04.2-1.43.59L10.3 9.45l-7.72 7.72c-.78.78-.78 2.05 0 2.83L4 21.41c.39.39.9.59 1.41.59.51 0 1.02-.2 1.41-.59l7.78-7.78 2.81-2.81c.8-.78.8-2.07 0-2.86zM5.41 20L4 18.59l7.72-7.72 1.47 1.35L5.41 20z\"/>\n",
              "  </svg>\n",
              "      </button>\n",
              "      \n",
              "  <style>\n",
              "    .colab-df-container {\n",
              "      display:flex;\n",
              "      flex-wrap:wrap;\n",
              "      gap: 12px;\n",
              "    }\n",
              "\n",
              "    .colab-df-convert {\n",
              "      background-color: #E8F0FE;\n",
              "      border: none;\n",
              "      border-radius: 50%;\n",
              "      cursor: pointer;\n",
              "      display: none;\n",
              "      fill: #1967D2;\n",
              "      height: 32px;\n",
              "      padding: 0 0 0 0;\n",
              "      width: 32px;\n",
              "    }\n",
              "\n",
              "    .colab-df-convert:hover {\n",
              "      background-color: #E2EBFA;\n",
              "      box-shadow: 0px 1px 2px rgba(60, 64, 67, 0.3), 0px 1px 3px 1px rgba(60, 64, 67, 0.15);\n",
              "      fill: #174EA6;\n",
              "    }\n",
              "\n",
              "    [theme=dark] .colab-df-convert {\n",
              "      background-color: #3B4455;\n",
              "      fill: #D2E3FC;\n",
              "    }\n",
              "\n",
              "    [theme=dark] .colab-df-convert:hover {\n",
              "      background-color: #434B5C;\n",
              "      box-shadow: 0px 1px 3px 1px rgba(0, 0, 0, 0.15);\n",
              "      filter: drop-shadow(0px 1px 2px rgba(0, 0, 0, 0.3));\n",
              "      fill: #FFFFFF;\n",
              "    }\n",
              "  </style>\n",
              "\n",
              "      <script>\n",
              "        const buttonEl =\n",
              "          document.querySelector('#df-e691911a-f4ec-4456-93ed-ff33937501c0 button.colab-df-convert');\n",
              "        buttonEl.style.display =\n",
              "          google.colab.kernel.accessAllowed ? 'block' : 'none';\n",
              "\n",
              "        async function convertToInteractive(key) {\n",
              "          const element = document.querySelector('#df-e691911a-f4ec-4456-93ed-ff33937501c0');\n",
              "          const dataTable =\n",
              "            await google.colab.kernel.invokeFunction('convertToInteractive',\n",
              "                                                     [key], {});\n",
              "          if (!dataTable) return;\n",
              "\n",
              "          const docLinkHtml = 'Like what you see? Visit the ' +\n",
              "            '<a target=\"_blank\" href=https://colab.research.google.com/notebooks/data_table.ipynb>data table notebook</a>'\n",
              "            + ' to learn more about interactive tables.';\n",
              "          element.innerHTML = '';\n",
              "          dataTable['output_type'] = 'display_data';\n",
              "          await google.colab.output.renderOutput(dataTable, element);\n",
              "          const docLink = document.createElement('div');\n",
              "          docLink.innerHTML = docLinkHtml;\n",
              "          element.appendChild(docLink);\n",
              "        }\n",
              "      </script>\n",
              "    </div>\n",
              "  </div>\n",
              "  "
            ]
          },
          "metadata": {},
          "execution_count": 75
        }
      ],
      "source": [
        "# Выведем таблицу с наиболее популярными unigrams для каждого класса\n",
        "# Видим что unigrams пересекаются\n",
        "\n",
        "table = pd.DataFrame(columns=['Extremely Negative', 'Negative', 'Neutral', 'Positive', 'Extremely Positive'])\n",
        "table['Extremely Negative'] = df_EN.text\n",
        "table['Negative'] = df_N.text\n",
        "table['Neutral'] = df_Neu.text\n",
        "table['Positive'] = df_P.text\n",
        "table['Extremely Positive'] = df_EP.text\n",
        "\n",
        "table"
      ]
    },
    {
      "cell_type": "markdown",
      "id": "e4088329",
      "metadata": {
        "id": "e4088329"
      },
      "source": [
        "Много одинаковых слов в каждом классе, классификация на основании Top unigrams нецелессобразна"
      ]
    },
    {
      "cell_type": "markdown",
      "id": "a223ee8a",
      "metadata": {
        "id": "a223ee8a"
      },
      "source": [
        "##Bigrams"
      ]
    },
    {
      "cell_type": "code",
      "execution_count": null,
      "id": "09effcd1",
      "metadata": {
        "colab": {
          "base_uri": "https://localhost:8080/"
        },
        "id": "09effcd1",
        "outputId": "ab899c66-ba5d-4f15-d2ca-aae42ea809ec"
      },
      "outputs": [
        {
          "output_type": "stream",
          "name": "stdout",
          "text": [
            "grocery store 4738\n",
            "to the 3879\n",
            "in the 3646\n",
            "of the 3053\n",
            "coronavirus covid 2250\n",
            "the coronavirus 2179\n",
            "the grocery 2136\n",
            "covid coronavirus 1943\n",
            "the covid 1931\n",
            "the supermarket 1885\n",
            "due to 1790\n",
            "at the 1708\n",
            "on the 1644\n",
            "for the 1539\n",
            "of covid 1520\n",
            "hand sanitizer 1519\n",
            "if you 1401\n",
            "online shopping 1345\n",
            "to be 1286\n",
            "during the 1265\n"
          ]
        }
      ],
      "source": [
        "# Top bigrams before removing stop words\n",
        "\n",
        "def get_top_n_bigram(corpus, n=None):\n",
        "    vec = CountVectorizer(ngram_range=(2, 2)).fit(corpus)\n",
        "    bag_of_words = vec.transform(corpus)\n",
        "    sum_words = bag_of_words.sum(axis=0)\n",
        "    words_freq = [(word, sum_words[0, idx])\n",
        "                  for word, idx in vec.vocabulary_.items()]\n",
        "    words_freq =sorted(words_freq, key = lambda x: x[1], reverse=True)\n",
        "\n",
        "    return words_freq[:n]\n",
        "\n",
        "common_words = get_top_n_bigram(train['text'], 20)\n",
        "\n",
        "for word, freq in common_words:\n",
        "    print(word, freq)\n",
        "df3 = pd.DataFrame(common_words, columns = ['text' , 'count'])"
      ]
    },
    {
      "cell_type": "code",
      "execution_count": null,
      "id": "1d3cb1d3",
      "metadata": {
        "colab": {
          "base_uri": "https://localhost:8080/"
        },
        "id": "1d3cb1d3",
        "outputId": "e59f29bc-a761-476a-b210-b1e49cfd8ae1"
      },
      "outputs": [
        {
          "output_type": "stream",
          "name": "stdout",
          "text": [
            "grocery store 4740\n",
            "coronavirus covid 2272\n",
            "covid coronavirus 1952\n",
            "hand sanitizer 1524\n",
            "online shopping 1351\n",
            "toilet paper 1226\n",
            "covid pandemic 1117\n",
            "panic buying 1074\n",
            "oil prices 987\n",
            "covid covid 799\n",
            "coronavirus pandemic 760\n",
            "social distancing 629\n",
            "stay home 500\n",
            "supermarket shelves 462\n",
            "store workers 462\n",
            "covid crisis 452\n",
            "covid outbreak 437\n",
            "gas prices 397\n",
            "shopping online 386\n",
            "coronavirus outbreak 380\n"
          ]
        }
      ],
      "source": [
        "# Top bigrams after removing stop words\n",
        "\n",
        "def get_top_n_bigram_after(corpus, n=None):\n",
        "    vec = CountVectorizer(ngram_range=(2, 2), stop_words='english').fit(corpus)\n",
        "    bag_of_words = vec.transform(corpus)\n",
        "    sum_words = bag_of_words.sum(axis=0)\n",
        "    words_freq = [(word, sum_words[0, idx])\n",
        "                  for word, idx in vec.vocabulary_.items()]\n",
        "    words_freq =sorted(words_freq, key = lambda x: x[1], reverse=True)\n",
        "\n",
        "    return words_freq[:n]\n",
        "\n",
        "common_words = get_top_n_bigram_after(train['text'], 20)\n",
        "\n",
        "for word, freq in common_words:\n",
        "    print(word, freq)\n",
        "df4 = pd.DataFrame(common_words, columns = ['text' , 'count'])"
      ]
    },
    {
      "cell_type": "code",
      "execution_count": null,
      "id": "03dc7939",
      "metadata": {
        "colab": {
          "base_uri": "https://localhost:8080/"
        },
        "id": "03dc7939",
        "outputId": "3ba8ff2c-ba43-4123-f3f4-24d87f99520d"
      },
      "outputs": [
        {
          "output_type": "stream",
          "name": "stdout",
          "text": [
            "panic buying 527\n",
            "grocery store 475\n",
            "coronavirus covid 256\n",
            "oil prices 249\n",
            "covid crisis 208\n",
            "covid coronavirus 188\n",
            "toilet paper 157\n",
            "coronavirus crisis 154\n",
            "covid pandemic 118\n",
            "stop panic 118\n",
            "supermarket shelves 112\n",
            "online shopping 103\n",
            "coronavirus pandemic 77\n",
            "supply chain 75\n",
            "covid covid 73\n",
            "panic buyers 71\n",
            "panic buy 70\n",
            "price gouging 66\n",
            "social distancing 65\n",
            "amid covid 62\n"
          ]
        }
      ],
      "source": [
        "# Top bigrams after removing stop words\n",
        "# класс Extremely Negative\n",
        "\n",
        "common_words = get_top_n_bigram_after(Extremely_Negative['text'], 20)\n",
        "for word, freq in common_words:\n",
        "    print(word, freq)\n",
        "df_EN2 = pd.DataFrame(common_words, columns = ['text' , 'count'])"
      ]
    },
    {
      "cell_type": "code",
      "execution_count": null,
      "id": "278d1430",
      "metadata": {
        "colab": {
          "base_uri": "https://localhost:8080/"
        },
        "id": "278d1430",
        "outputId": "e06cc0c0-bf9f-4cd2-bc66-cdf8276db184"
      },
      "outputs": [
        {
          "output_type": "stream",
          "name": "stdout",
          "text": [
            "grocery store 1077\n",
            "coronavirus covid 461\n",
            "covid coronavirus 402\n",
            "oil prices 401\n",
            "panic buying 376\n",
            "toilet paper 301\n",
            "online shopping 297\n",
            "covid pandemic 270\n",
            "coronavirus pandemic 229\n",
            "covid covid 188\n",
            "supermarket shelves 143\n",
            "covid crisis 139\n",
            "social distancing 139\n",
            "gas prices 131\n",
            "hand sanitizer 121\n",
            "covid outbreak 114\n",
            "coronavirus outbreak 109\n",
            "amid covid 107\n",
            "food banks 104\n",
            "stay home 103\n"
          ]
        }
      ],
      "source": [
        "# Top bigrams after removing stop words\n",
        "# класс Negative\n",
        "\n",
        "common_words = get_top_n_bigram_after(Negative['text'], 20)\n",
        "for word, freq in common_words:\n",
        "    print(word, freq)\n",
        "df_N2 = pd.DataFrame(common_words, columns = ['text' , 'count'])"
      ]
    },
    {
      "cell_type": "code",
      "execution_count": null,
      "id": "9d6197b5",
      "metadata": {
        "colab": {
          "base_uri": "https://localhost:8080/"
        },
        "id": "9d6197b5",
        "outputId": "2e68334b-e93e-45fe-c439-80598865b0f9"
      },
      "outputs": [
        {
          "output_type": "stream",
          "name": "stdout",
          "text": [
            "grocery store 892\n",
            "coronavirus covid 554\n",
            "covid coronavirus 444\n",
            "online shopping 305\n",
            "toilet paper 277\n",
            "covid covid 215\n",
            "covid pandemic 195\n",
            "coronavirus pandemic 164\n",
            "social distancing 121\n",
            "oil prices 115\n",
            "consumer behavior 106\n",
            "coronavirus toiletpaper 102\n",
            "covid outbreak 92\n",
            "coronavirus outbreak 86\n",
            "grocery shopping 79\n",
            "gas prices 74\n",
            "shopping online 73\n",
            "retail store 72\n",
            "amid covid 72\n",
            "local supermarket 66\n"
          ]
        }
      ],
      "source": [
        "# Top bigrams after removing stop words\n",
        "# класс Neutral\n",
        "\n",
        "common_words = get_top_n_bigram_after(Neutral['text'], 20)\n",
        "for word, freq in common_words:\n",
        "    print(word, freq)\n",
        "df_Neu2 = pd.DataFrame(common_words, columns = ['text' , 'count'])"
      ]
    },
    {
      "cell_type": "code",
      "execution_count": null,
      "id": "1994e0a2",
      "metadata": {
        "colab": {
          "base_uri": "https://localhost:8080/"
        },
        "id": "1994e0a2",
        "outputId": "47b3604b-05e0-4dac-fd66-f3d2afe55b14"
      },
      "outputs": [
        {
          "output_type": "stream",
          "name": "stdout",
          "text": [
            "grocery store 1421\n",
            "coronavirus covid 656\n",
            "hand sanitizer 634\n",
            "covid coronavirus 576\n",
            "online shopping 394\n",
            "covid pandemic 346\n",
            "toilet paper 326\n",
            "covid covid 205\n",
            "social distancing 191\n",
            "coronavirus pandemic 180\n",
            "oil prices 176\n",
            "stay home 163\n",
            "store workers 150\n",
            "grocery stores 123\n",
            "covid outbreak 122\n",
            "grocery shopping 122\n",
            "supermarket shelves 114\n",
            "shopping online 113\n",
            "stock food 112\n",
            "panic buying 112\n"
          ]
        }
      ],
      "source": [
        "# Top bigrams after removing stop words\n",
        "# класс Positive\n",
        "\n",
        "common_words = get_top_n_bigram_after(Positive['text'], 20)\n",
        "for word, freq in common_words:\n",
        "    print(word, freq)\n",
        "df_P2 = pd.DataFrame(common_words, columns = ['text' , 'count'])"
      ]
    },
    {
      "cell_type": "code",
      "execution_count": null,
      "id": "75ce43a2",
      "metadata": {
        "colab": {
          "base_uri": "https://localhost:8080/"
        },
        "id": "75ce43a2",
        "outputId": "1c1b8679-781e-45c3-dca3-c69694dc4439"
      },
      "outputs": [
        {
          "output_type": "stream",
          "name": "stdout",
          "text": [
            "grocery store 875\n",
            "hand sanitizer 698\n",
            "coronavirus covid 345\n",
            "covid coronavirus 342\n",
            "online shopping 252\n",
            "covid pandemic 188\n",
            "stay safe 178\n",
            "toilet paper 165\n",
            "store workers 136\n",
            "covid covid 118\n",
            "stay home 117\n",
            "social distancing 113\n",
            "shopping online 111\n",
            "coronavirus pandemic 110\n",
            "supermarket workers 100\n",
            "store employees 86\n",
            "make sure 76\n",
            "covid outbreak 75\n",
            "retail store 73\n",
            "health care 73\n"
          ]
        }
      ],
      "source": [
        "# Top bigrams after removing stop words\n",
        "# класс Extremely Positive\n",
        "\n",
        "common_words = get_top_n_bigram_after(Extremely_Positive['text'], 20)\n",
        "for word, freq in common_words:\n",
        "    print(word, freq)\n",
        "df_EP2 = pd.DataFrame(common_words, columns = ['text' , 'count'])"
      ]
    },
    {
      "cell_type": "markdown",
      "source": [
        "###Наиболее популярные bigrams для каждого класса"
      ],
      "metadata": {
        "id": "BTHoEx5scE-J"
      },
      "id": "BTHoEx5scE-J"
    },
    {
      "cell_type": "code",
      "execution_count": null,
      "id": "c265ff0a",
      "metadata": {
        "colab": {
          "base_uri": "https://localhost:8080/",
          "height": 676
        },
        "id": "c265ff0a",
        "outputId": "77e4fb22-8e45-4a71-f910-54012953cf6f"
      },
      "outputs": [
        {
          "output_type": "execute_result",
          "data": {
            "text/plain": [
              "      Extremely Negative              Negative                  Neutral  \\\n",
              "0           panic buying         grocery store            grocery store   \n",
              "1          grocery store     coronavirus covid        coronavirus covid   \n",
              "2      coronavirus covid     covid coronavirus        covid coronavirus   \n",
              "3             oil prices            oil prices          online shopping   \n",
              "4           covid crisis          panic buying             toilet paper   \n",
              "5      covid coronavirus          toilet paper              covid covid   \n",
              "6           toilet paper       online shopping           covid pandemic   \n",
              "7     coronavirus crisis        covid pandemic     coronavirus pandemic   \n",
              "8         covid pandemic  coronavirus pandemic        social distancing   \n",
              "9             stop panic           covid covid               oil prices   \n",
              "10   supermarket shelves   supermarket shelves        consumer behavior   \n",
              "11       online shopping          covid crisis  coronavirus toiletpaper   \n",
              "12  coronavirus pandemic     social distancing           covid outbreak   \n",
              "13          supply chain            gas prices     coronavirus outbreak   \n",
              "14           covid covid        hand sanitizer         grocery shopping   \n",
              "15          panic buyers        covid outbreak               gas prices   \n",
              "16             panic buy  coronavirus outbreak          shopping online   \n",
              "17         price gouging            amid covid             retail store   \n",
              "18     social distancing            food banks               amid covid   \n",
              "19            amid covid             stay home        local supermarket   \n",
              "\n",
              "                Positive    Extremely Positive  \n",
              "0          grocery store         grocery store  \n",
              "1      coronavirus covid        hand sanitizer  \n",
              "2         hand sanitizer     coronavirus covid  \n",
              "3      covid coronavirus     covid coronavirus  \n",
              "4        online shopping       online shopping  \n",
              "5         covid pandemic        covid pandemic  \n",
              "6           toilet paper             stay safe  \n",
              "7            covid covid          toilet paper  \n",
              "8      social distancing         store workers  \n",
              "9   coronavirus pandemic           covid covid  \n",
              "10            oil prices             stay home  \n",
              "11             stay home     social distancing  \n",
              "12         store workers       shopping online  \n",
              "13        grocery stores  coronavirus pandemic  \n",
              "14        covid outbreak   supermarket workers  \n",
              "15      grocery shopping       store employees  \n",
              "16   supermarket shelves             make sure  \n",
              "17       shopping online        covid outbreak  \n",
              "18            stock food          retail store  \n",
              "19          panic buying           health care  "
            ],
            "text/html": [
              "\n",
              "  <div id=\"df-12f5e494-068c-44bb-8691-4f4802800e2a\">\n",
              "    <div class=\"colab-df-container\">\n",
              "      <div>\n",
              "<style scoped>\n",
              "    .dataframe tbody tr th:only-of-type {\n",
              "        vertical-align: middle;\n",
              "    }\n",
              "\n",
              "    .dataframe tbody tr th {\n",
              "        vertical-align: top;\n",
              "    }\n",
              "\n",
              "    .dataframe thead th {\n",
              "        text-align: right;\n",
              "    }\n",
              "</style>\n",
              "<table border=\"1\" class=\"dataframe\">\n",
              "  <thead>\n",
              "    <tr style=\"text-align: right;\">\n",
              "      <th></th>\n",
              "      <th>Extremely Negative</th>\n",
              "      <th>Negative</th>\n",
              "      <th>Neutral</th>\n",
              "      <th>Positive</th>\n",
              "      <th>Extremely Positive</th>\n",
              "    </tr>\n",
              "  </thead>\n",
              "  <tbody>\n",
              "    <tr>\n",
              "      <th>0</th>\n",
              "      <td>panic buying</td>\n",
              "      <td>grocery store</td>\n",
              "      <td>grocery store</td>\n",
              "      <td>grocery store</td>\n",
              "      <td>grocery store</td>\n",
              "    </tr>\n",
              "    <tr>\n",
              "      <th>1</th>\n",
              "      <td>grocery store</td>\n",
              "      <td>coronavirus covid</td>\n",
              "      <td>coronavirus covid</td>\n",
              "      <td>coronavirus covid</td>\n",
              "      <td>hand sanitizer</td>\n",
              "    </tr>\n",
              "    <tr>\n",
              "      <th>2</th>\n",
              "      <td>coronavirus covid</td>\n",
              "      <td>covid coronavirus</td>\n",
              "      <td>covid coronavirus</td>\n",
              "      <td>hand sanitizer</td>\n",
              "      <td>coronavirus covid</td>\n",
              "    </tr>\n",
              "    <tr>\n",
              "      <th>3</th>\n",
              "      <td>oil prices</td>\n",
              "      <td>oil prices</td>\n",
              "      <td>online shopping</td>\n",
              "      <td>covid coronavirus</td>\n",
              "      <td>covid coronavirus</td>\n",
              "    </tr>\n",
              "    <tr>\n",
              "      <th>4</th>\n",
              "      <td>covid crisis</td>\n",
              "      <td>panic buying</td>\n",
              "      <td>toilet paper</td>\n",
              "      <td>online shopping</td>\n",
              "      <td>online shopping</td>\n",
              "    </tr>\n",
              "    <tr>\n",
              "      <th>5</th>\n",
              "      <td>covid coronavirus</td>\n",
              "      <td>toilet paper</td>\n",
              "      <td>covid covid</td>\n",
              "      <td>covid pandemic</td>\n",
              "      <td>covid pandemic</td>\n",
              "    </tr>\n",
              "    <tr>\n",
              "      <th>6</th>\n",
              "      <td>toilet paper</td>\n",
              "      <td>online shopping</td>\n",
              "      <td>covid pandemic</td>\n",
              "      <td>toilet paper</td>\n",
              "      <td>stay safe</td>\n",
              "    </tr>\n",
              "    <tr>\n",
              "      <th>7</th>\n",
              "      <td>coronavirus crisis</td>\n",
              "      <td>covid pandemic</td>\n",
              "      <td>coronavirus pandemic</td>\n",
              "      <td>covid covid</td>\n",
              "      <td>toilet paper</td>\n",
              "    </tr>\n",
              "    <tr>\n",
              "      <th>8</th>\n",
              "      <td>covid pandemic</td>\n",
              "      <td>coronavirus pandemic</td>\n",
              "      <td>social distancing</td>\n",
              "      <td>social distancing</td>\n",
              "      <td>store workers</td>\n",
              "    </tr>\n",
              "    <tr>\n",
              "      <th>9</th>\n",
              "      <td>stop panic</td>\n",
              "      <td>covid covid</td>\n",
              "      <td>oil prices</td>\n",
              "      <td>coronavirus pandemic</td>\n",
              "      <td>covid covid</td>\n",
              "    </tr>\n",
              "    <tr>\n",
              "      <th>10</th>\n",
              "      <td>supermarket shelves</td>\n",
              "      <td>supermarket shelves</td>\n",
              "      <td>consumer behavior</td>\n",
              "      <td>oil prices</td>\n",
              "      <td>stay home</td>\n",
              "    </tr>\n",
              "    <tr>\n",
              "      <th>11</th>\n",
              "      <td>online shopping</td>\n",
              "      <td>covid crisis</td>\n",
              "      <td>coronavirus toiletpaper</td>\n",
              "      <td>stay home</td>\n",
              "      <td>social distancing</td>\n",
              "    </tr>\n",
              "    <tr>\n",
              "      <th>12</th>\n",
              "      <td>coronavirus pandemic</td>\n",
              "      <td>social distancing</td>\n",
              "      <td>covid outbreak</td>\n",
              "      <td>store workers</td>\n",
              "      <td>shopping online</td>\n",
              "    </tr>\n",
              "    <tr>\n",
              "      <th>13</th>\n",
              "      <td>supply chain</td>\n",
              "      <td>gas prices</td>\n",
              "      <td>coronavirus outbreak</td>\n",
              "      <td>grocery stores</td>\n",
              "      <td>coronavirus pandemic</td>\n",
              "    </tr>\n",
              "    <tr>\n",
              "      <th>14</th>\n",
              "      <td>covid covid</td>\n",
              "      <td>hand sanitizer</td>\n",
              "      <td>grocery shopping</td>\n",
              "      <td>covid outbreak</td>\n",
              "      <td>supermarket workers</td>\n",
              "    </tr>\n",
              "    <tr>\n",
              "      <th>15</th>\n",
              "      <td>panic buyers</td>\n",
              "      <td>covid outbreak</td>\n",
              "      <td>gas prices</td>\n",
              "      <td>grocery shopping</td>\n",
              "      <td>store employees</td>\n",
              "    </tr>\n",
              "    <tr>\n",
              "      <th>16</th>\n",
              "      <td>panic buy</td>\n",
              "      <td>coronavirus outbreak</td>\n",
              "      <td>shopping online</td>\n",
              "      <td>supermarket shelves</td>\n",
              "      <td>make sure</td>\n",
              "    </tr>\n",
              "    <tr>\n",
              "      <th>17</th>\n",
              "      <td>price gouging</td>\n",
              "      <td>amid covid</td>\n",
              "      <td>retail store</td>\n",
              "      <td>shopping online</td>\n",
              "      <td>covid outbreak</td>\n",
              "    </tr>\n",
              "    <tr>\n",
              "      <th>18</th>\n",
              "      <td>social distancing</td>\n",
              "      <td>food banks</td>\n",
              "      <td>amid covid</td>\n",
              "      <td>stock food</td>\n",
              "      <td>retail store</td>\n",
              "    </tr>\n",
              "    <tr>\n",
              "      <th>19</th>\n",
              "      <td>amid covid</td>\n",
              "      <td>stay home</td>\n",
              "      <td>local supermarket</td>\n",
              "      <td>panic buying</td>\n",
              "      <td>health care</td>\n",
              "    </tr>\n",
              "  </tbody>\n",
              "</table>\n",
              "</div>\n",
              "      <button class=\"colab-df-convert\" onclick=\"convertToInteractive('df-12f5e494-068c-44bb-8691-4f4802800e2a')\"\n",
              "              title=\"Convert this dataframe to an interactive table.\"\n",
              "              style=\"display:none;\">\n",
              "        \n",
              "  <svg xmlns=\"http://www.w3.org/2000/svg\" height=\"24px\"viewBox=\"0 0 24 24\"\n",
              "       width=\"24px\">\n",
              "    <path d=\"M0 0h24v24H0V0z\" fill=\"none\"/>\n",
              "    <path d=\"M18.56 5.44l.94 2.06.94-2.06 2.06-.94-2.06-.94-.94-2.06-.94 2.06-2.06.94zm-11 1L8.5 8.5l.94-2.06 2.06-.94-2.06-.94L8.5 2.5l-.94 2.06-2.06.94zm10 10l.94 2.06.94-2.06 2.06-.94-2.06-.94-.94-2.06-.94 2.06-2.06.94z\"/><path d=\"M17.41 7.96l-1.37-1.37c-.4-.4-.92-.59-1.43-.59-.52 0-1.04.2-1.43.59L10.3 9.45l-7.72 7.72c-.78.78-.78 2.05 0 2.83L4 21.41c.39.39.9.59 1.41.59.51 0 1.02-.2 1.41-.59l7.78-7.78 2.81-2.81c.8-.78.8-2.07 0-2.86zM5.41 20L4 18.59l7.72-7.72 1.47 1.35L5.41 20z\"/>\n",
              "  </svg>\n",
              "      </button>\n",
              "      \n",
              "  <style>\n",
              "    .colab-df-container {\n",
              "      display:flex;\n",
              "      flex-wrap:wrap;\n",
              "      gap: 12px;\n",
              "    }\n",
              "\n",
              "    .colab-df-convert {\n",
              "      background-color: #E8F0FE;\n",
              "      border: none;\n",
              "      border-radius: 50%;\n",
              "      cursor: pointer;\n",
              "      display: none;\n",
              "      fill: #1967D2;\n",
              "      height: 32px;\n",
              "      padding: 0 0 0 0;\n",
              "      width: 32px;\n",
              "    }\n",
              "\n",
              "    .colab-df-convert:hover {\n",
              "      background-color: #E2EBFA;\n",
              "      box-shadow: 0px 1px 2px rgba(60, 64, 67, 0.3), 0px 1px 3px 1px rgba(60, 64, 67, 0.15);\n",
              "      fill: #174EA6;\n",
              "    }\n",
              "\n",
              "    [theme=dark] .colab-df-convert {\n",
              "      background-color: #3B4455;\n",
              "      fill: #D2E3FC;\n",
              "    }\n",
              "\n",
              "    [theme=dark] .colab-df-convert:hover {\n",
              "      background-color: #434B5C;\n",
              "      box-shadow: 0px 1px 3px 1px rgba(0, 0, 0, 0.15);\n",
              "      filter: drop-shadow(0px 1px 2px rgba(0, 0, 0, 0.3));\n",
              "      fill: #FFFFFF;\n",
              "    }\n",
              "  </style>\n",
              "\n",
              "      <script>\n",
              "        const buttonEl =\n",
              "          document.querySelector('#df-12f5e494-068c-44bb-8691-4f4802800e2a button.colab-df-convert');\n",
              "        buttonEl.style.display =\n",
              "          google.colab.kernel.accessAllowed ? 'block' : 'none';\n",
              "\n",
              "        async function convertToInteractive(key) {\n",
              "          const element = document.querySelector('#df-12f5e494-068c-44bb-8691-4f4802800e2a');\n",
              "          const dataTable =\n",
              "            await google.colab.kernel.invokeFunction('convertToInteractive',\n",
              "                                                     [key], {});\n",
              "          if (!dataTable) return;\n",
              "\n",
              "          const docLinkHtml = 'Like what you see? Visit the ' +\n",
              "            '<a target=\"_blank\" href=https://colab.research.google.com/notebooks/data_table.ipynb>data table notebook</a>'\n",
              "            + ' to learn more about interactive tables.';\n",
              "          element.innerHTML = '';\n",
              "          dataTable['output_type'] = 'display_data';\n",
              "          await google.colab.output.renderOutput(dataTable, element);\n",
              "          const docLink = document.createElement('div');\n",
              "          docLink.innerHTML = docLinkHtml;\n",
              "          element.appendChild(docLink);\n",
              "        }\n",
              "      </script>\n",
              "    </div>\n",
              "  </div>\n",
              "  "
            ]
          },
          "metadata": {},
          "execution_count": 83
        }
      ],
      "source": [
        "# Выведем таблицу с наиболее популярными bigrams для каждого класса\n",
        "# Eсть общие bigrams\n",
        "\n",
        "table_bigrams = pd.DataFrame(columns=['Extremely Negative', 'Negative',\n",
        "                             'Neutral', 'Positive', 'Extremely Positive'])\n",
        "table_bigrams['Extremely Negative'] = df_EN2.text\n",
        "table_bigrams['Negative'] = df_N2.text\n",
        "table_bigrams['Neutral'] = df_Neu2.text\n",
        "table_bigrams['Positive'] = df_P2.text\n",
        "table_bigrams['Extremely Positive'] = df_EP2.text\n",
        "\n",
        "table_bigrams"
      ]
    },
    {
      "cell_type": "markdown",
      "id": "15040f7d",
      "metadata": {
        "id": "15040f7d"
      },
      "source": [
        "Много одинаковых групп слов в каждом классе, классификация на основании Top bigrams нецелессобразна"
      ]
    },
    {
      "cell_type": "markdown",
      "id": "760542cc",
      "metadata": {
        "id": "760542cc"
      },
      "source": [
        "##Trigrams"
      ]
    },
    {
      "cell_type": "code",
      "execution_count": null,
      "id": "76dba417",
      "metadata": {
        "colab": {
          "base_uri": "https://localhost:8080/"
        },
        "id": "76dba417",
        "outputId": "b44cb060-037b-4a81-c5d1-b5a2a618b8f2"
      },
      "outputs": [
        {
          "output_type": "stream",
          "name": "stdout",
          "text": [
            "the grocery store 2030\n",
            "to the grocery 888\n",
            "the covid pandemic 677\n",
            "to the supermarket 607\n",
            "at the grocery 540\n",
            "due to covid 515\n",
            "go to the 489\n",
            "due to the 487\n",
            "the coronavirus pandemic 470\n",
            "the spread of 456\n",
            "grocery store workers 430\n",
            "during the covid 395\n",
            "during the coronavirus 384\n",
            "to go to 342\n",
            "going to the 339\n",
            "of the coronavirus 333\n",
            "in the supermarket 311\n",
            "at the supermarket 309\n",
            "stock up on 304\n",
            "the coronavirus outbreak 275\n",
            "grocery store and 271\n",
            "of the covid 270\n",
            "the covid crisis 269\n",
            "the covid outbreak 260\n",
            "spread of covid 256\n",
            "if you are 254\n",
            "to stock up 250\n",
            "went to the 241\n",
            "there is no 239\n",
            "to the coronavirus 238\n"
          ]
        }
      ],
      "source": [
        "# Top trigrams before removing stop words\n",
        "\n",
        "def get_top_n_trigram(corpus, n=None):\n",
        "    vec = CountVectorizer(ngram_range=(3, 3)).fit(corpus)\n",
        "    bag_of_words = vec.transform(corpus)\n",
        "    sum_words = bag_of_words.sum(axis=0)\n",
        "    words_freq = [(word, sum_words[0, idx])\n",
        "                  for word, idx in vec.vocabulary_.items()]\n",
        "    words_freq =sorted(words_freq, key = lambda x: x[1], reverse=True)\n",
        "\n",
        "    return words_freq[:n]\n",
        "\n",
        "common_words = get_top_n_trigram(train['text'], 30)\n",
        "\n",
        "for word, freq in common_words:\n",
        "    print(word, freq)\n",
        "df5 = pd.DataFrame(common_words, columns = ['text' , 'count'])"
      ]
    },
    {
      "cell_type": "code",
      "execution_count": null,
      "id": "12ad48cd",
      "metadata": {
        "colab": {
          "base_uri": "https://localhost:8080/"
        },
        "id": "12ad48cd",
        "outputId": "ead60a24-1f1a-4086-f5c2-79f950ed9b69"
      },
      "outputs": [
        {
          "output_type": "stream",
          "name": "stdout",
          "text": [
            "grocery store workers 433\n",
            "grocery store employees 238\n",
            "going grocery store 208\n",
            "coronavirus covid covid 183\n",
            "local grocery store 161\n",
            "stop panic buying 153\n",
            "went grocery store 149\n",
            "covid covid covid 141\n",
            "covid covid coronavirus 134\n",
            "online grocery shopping 118\n",
            "grocery store covid 107\n",
            "work grocery store 97\n",
            "workers grocery store 97\n",
            "grocery store today 93\n",
            "grocery store coronavirus 92\n",
            "grocery store clerks 91\n",
            "panic buying food 88\n",
            "low oil prices 88\n",
            "food supply chain 87\n",
            "use hand sanitizer 86\n",
            "amid covid pandemic 82\n",
            "grocery store shelves 77\n",
            "making hand sanitizer 74\n",
            "covid coronavirus covid 72\n",
            "amid coronavirus pandemic 71\n",
            "tested positive covid 70\n",
            "grocery store pharmacy 69\n",
            "people panic buying 69\n",
            "toilet paper coronavirus 69\n",
            "coronavirus covid pandemic 69\n"
          ]
        }
      ],
      "source": [
        "# Top trigrams after removing stop words\n",
        "\n",
        "def get_top_n_trigram_after(corpus, n=None):\n",
        "    vec = CountVectorizer(ngram_range=(3, 3), stop_words='english').fit(corpus)\n",
        "    bag_of_words = vec.transform(corpus)\n",
        "    sum_words = bag_of_words.sum(axis=0)\n",
        "    words_freq = [(word, sum_words[0, idx])\n",
        "                  for word, idx in vec.vocabulary_.items()]\n",
        "    words_freq =sorted(words_freq, key = lambda x: x[1], reverse=True)\n",
        "\n",
        "    return words_freq[:n]\n",
        "\n",
        "common_words = get_top_n_trigram_after(train['text'], 30)\n",
        "\n",
        "for word, freq in common_words:\n",
        "    print(word, freq)\n",
        "df6 = pd.DataFrame(common_words, columns = ['ReviewText' , 'count'])"
      ]
    },
    {
      "cell_type": "code",
      "execution_count": null,
      "id": "05003459",
      "metadata": {
        "colab": {
          "base_uri": "https://localhost:8080/"
        },
        "id": "05003459",
        "outputId": "c5e25bab-6f25-46ab-8121-e040beef26ab"
      },
      "outputs": [
        {
          "output_type": "stream",
          "name": "stdout",
          "text": [
            "stop panic buying 106\n",
            "panic buying food 46\n",
            "grocery store workers 44\n",
            "people panic buying 40\n",
            "food supply chain 29\n",
            "crude oil prices 28\n",
            "paid sick leave 25\n",
            "covid panic buying 25\n",
            "going grocery store 25\n",
            "low oil prices 24\n",
            "amid covid crisis 24\n",
            "amid covid panic 21\n",
            "workers beginning die 21\n",
            "grocery workers beginning 20\n",
            "saudi arabia russia 19\n",
            "panic buying covid 19\n",
            "trader joe giant 19\n",
            "panic buying hoarding 18\n",
            "oil price war 18\n",
            "beginning die coronavirus 18\n",
            "walmart trader joe 18\n",
            "joe giant died 18\n",
            "died covid recent 18\n",
            "covid recent days 18\n",
            "coronavirus panic buying 17\n",
            "covid covid covid 17\n",
            "grocery store employees 17\n",
            "coronavirus covid covid 17\n",
            "giant died covid 17\n",
            "went grocery store 16\n"
          ]
        }
      ],
      "source": [
        "# Top trigrams after removing stop words\n",
        "# класс Extremely Negative\n",
        "\n",
        "common_words = get_top_n_trigram_after(Extremely_Negative['text'], 30)\n",
        "for word, freq in common_words:\n",
        "    print(word, freq)\n",
        "df_EN3 = pd.DataFrame(common_words, columns = ['text' , 'count'])"
      ]
    },
    {
      "cell_type": "code",
      "execution_count": null,
      "id": "91219bc4",
      "metadata": {
        "colab": {
          "base_uri": "https://localhost:8080/"
        },
        "id": "91219bc4",
        "outputId": "890b15d1-678e-477a-e376-bcf1058ff759"
      },
      "outputs": [
        {
          "output_type": "stream",
          "name": "stdout",
          "text": [
            "grocery store workers 83\n",
            "going grocery store 48\n",
            "went grocery store 42\n",
            "coronavirus covid covid 41\n",
            "local grocery store 40\n",
            "low oil prices 36\n",
            "covid covid covid 35\n",
            "stop panic buying 34\n",
            "panic buying food 31\n",
            "amid coronavirus pandemic 29\n",
            "grocery store employees 28\n",
            "covid covid coronavirus 28\n",
            "crude oil prices 27\n",
            "work grocery store 26\n",
            "grocery store shelves 26\n",
            "food supply chain 26\n",
            "global oil prices 24\n",
            "covid panic buying 23\n",
            "falling oil prices 23\n",
            "online grocery shopping 22\n",
            "grocery store coronavirus 21\n",
            "grocery store covid 20\n",
            "amid covid outbreak 20\n",
            "working grocery store 19\n",
            "people panic buying 18\n",
            "grocery store today 18\n",
            "collapse oil prices 18\n",
            "grocery store worker 17\n",
            "lower oil prices 17\n",
            "amid covid pandemic 17\n"
          ]
        }
      ],
      "source": [
        "# Top trigrams after removing stop words\n",
        "# класс Negative\n",
        "\n",
        "common_words = get_top_n_trigram_after(Negative['text'], 30)\n",
        "for word, freq in common_words:\n",
        "    print(word, freq)\n",
        "df_N3 = pd.DataFrame(common_words, columns = ['text' , 'count'])"
      ]
    },
    {
      "cell_type": "code",
      "execution_count": null,
      "id": "20cdbe3a",
      "metadata": {
        "colab": {
          "base_uri": "https://localhost:8080/"
        },
        "id": "20cdbe3a",
        "outputId": "8eb440e6-a3c2-48d2-ce38-de7b95bd4c43"
      },
      "outputs": [
        {
          "output_type": "stream",
          "name": "stdout",
          "text": [
            "coronavirus covid covid 57\n",
            "going grocery store 43\n",
            "grocery store workers 42\n",
            "local grocery store 41\n",
            "grocery store covid 40\n",
            "online grocery shopping 35\n",
            "grocery store coronavirus 35\n",
            "covid covid coronavirus 33\n",
            "covid covid covid 29\n",
            "went grocery store 26\n",
            "amid covid pandemic 25\n",
            "grocery store employees 24\n",
            "grocery store today 23\n",
            "grocery store pharmacy 18\n",
            "retail store closures 17\n",
            "covid coronavirus covid 17\n",
            "toilet paper coronavirus 17\n",
            "covid coronavirus toiletpaper 16\n",
            "line grocery store 16\n",
            "covid covid corona 16\n",
            "covid coronavirusupdate covid 16\n",
            "stoppanicbuying coronavirus panicshopping 15\n",
            "coronavirus panicshopping panicbuyinguk 15\n",
            "panicshopping panicbuyinguk coronavirus 15\n",
            "panicbuyinguk coronavirus covid 15\n",
            "coronavirus covid coronavirusupdate 15\n",
            "coronavirusupdate covid socialdistanacing 15\n",
            "toiletpaper covid coronavirus 15\n",
            "online shopping behavior 14\n",
            "coronacrisis stopstockpiling stoppanicbuying 14\n"
          ]
        }
      ],
      "source": [
        "# Top trigrams after removing stop words\n",
        "# класс Neutral\n",
        "\n",
        "common_words = get_top_n_trigram_after(Neutral['text'], 30)\n",
        "for word, freq in common_words:\n",
        "    print(word, freq)\n",
        "df_Neu3 = pd.DataFrame(common_words, columns = ['text' , 'count'])"
      ]
    },
    {
      "cell_type": "code",
      "execution_count": null,
      "id": "b5fd5ed9",
      "metadata": {
        "colab": {
          "base_uri": "https://localhost:8080/"
        },
        "id": "b5fd5ed9",
        "outputId": "6526e659-15cf-4c49-d9ad-091dee63da54"
      },
      "outputs": [
        {
          "output_type": "stream",
          "name": "stdout",
          "text": [
            "grocery store workers 138\n",
            "grocery store employees 89\n",
            "going grocery store 59\n",
            "coronavirus covid covid 45\n",
            "online grocery shopping 43\n",
            "use hand sanitizer 42\n",
            "went grocery store 40\n",
            "local grocery store 40\n",
            "covid covid coronavirus 37\n",
            "tested positive covid 36\n",
            "workers grocery store 34\n",
            "grocery store clerks 34\n",
            "hand sanitizer coronavirus 33\n",
            "work grocery store 31\n",
            "sanitizer italy wuhan 30\n",
            "italy wuhan grocery 30\n",
            "amid covid pandemic 29\n",
            "covid covid covid 28\n",
            "making hand sanitizer 28\n",
            "toilet paper hand 27\n",
            "grocery store covid 27\n",
            "paper hand sanitizer 26\n",
            "grocery store like 26\n",
            "grocery store today 25\n",
            "amid coronavirus pandemic 25\n",
            "grocery store coronavirus 24\n",
            "coronavirus covid pandemic 23\n",
            "line grocery store 22\n",
            "coronavirus covid contest 22\n",
            "covid contest alert 22\n"
          ]
        }
      ],
      "source": [
        "# Top trigrams after removing stop words\n",
        "# класс Positive\n",
        "\n",
        "common_words = get_top_n_trigram_after(Positive['text'], 30)\n",
        "for word, freq in common_words:\n",
        "    print(word, freq)\n",
        "df_P3 = pd.DataFrame(common_words, columns = ['text' , 'count'])"
      ]
    },
    {
      "cell_type": "code",
      "execution_count": null,
      "id": "f0b73522",
      "metadata": {
        "colab": {
          "base_uri": "https://localhost:8080/"
        },
        "id": "f0b73522",
        "outputId": "6aa75f38-1ae3-4a13-bfae-dba703b27cae"
      },
      "outputs": [
        {
          "output_type": "stream",
          "name": "stdout",
          "text": [
            "grocery store workers 126\n",
            "grocery store employees 80\n",
            "health care workers 43\n",
            "workers grocery store 41\n",
            "use hand sanitizer 38\n",
            "make hand sanitizer 38\n",
            "going grocery store 33\n",
            "making hand sanitizer 33\n",
            "covid covid covid 32\n",
            "grocery store clerks 29\n",
            "thank grocery store 27\n",
            "local grocery store 26\n",
            "went grocery store 25\n",
            "work grocery store 25\n",
            "covid covid coronavirus 25\n",
            "stay safe stay 23\n",
            "hand sanitizer coronavirus 23\n",
            "coronavirus covid covid 23\n",
            "tested positive covid 22\n",
            "stay home stay 20\n",
            "meet increased demand 20\n",
            "masks hand sanitizer 18\n",
            "care workers grocery 17\n",
            "workers delivery drivers 17\n",
            "support local businesses 17\n",
            "prevent spread covid 15\n",
            "grocery store staff 15\n",
            "committed helping customers 15\n",
            "using hand sanitizer 15\n",
            "trip grocery store 15\n"
          ]
        }
      ],
      "source": [
        "# Top trigrams after removing stop words\n",
        "# класс Extremely Positive\n",
        "\n",
        "common_words = get_top_n_trigram_after(Extremely_Positive['text'], 30)\n",
        "for word, freq in common_words:\n",
        "    print(word, freq)\n",
        "df_EP3 = pd.DataFrame(common_words, columns = ['text' , 'count'])"
      ]
    },
    {
      "cell_type": "markdown",
      "source": [
        "###Наиболее популярные trigrams для каждого класса"
      ],
      "metadata": {
        "id": "w_oSEsVWcy6K"
      },
      "id": "w_oSEsVWcy6K"
    },
    {
      "cell_type": "code",
      "execution_count": null,
      "id": "5e006dda",
      "metadata": {
        "colab": {
          "base_uri": "https://localhost:8080/",
          "height": 1000
        },
        "id": "5e006dda",
        "outputId": "9ed14326-5faf-43ba-df7e-4b145f0ead9a"
      },
      "outputs": [
        {
          "output_type": "execute_result",
          "data": {
            "text/plain": [
              "           Extremely Negative                   Negative  \\\n",
              "0           stop panic buying      grocery store workers   \n",
              "1           panic buying food        going grocery store   \n",
              "2       grocery store workers         went grocery store   \n",
              "3         people panic buying    coronavirus covid covid   \n",
              "4           food supply chain        local grocery store   \n",
              "5            crude oil prices             low oil prices   \n",
              "6             paid sick leave          covid covid covid   \n",
              "7          covid panic buying          stop panic buying   \n",
              "8         going grocery store          panic buying food   \n",
              "9              low oil prices  amid coronavirus pandemic   \n",
              "10          amid covid crisis    grocery store employees   \n",
              "11           amid covid panic    covid covid coronavirus   \n",
              "12      workers beginning die           crude oil prices   \n",
              "13  grocery workers beginning         work grocery store   \n",
              "14        saudi arabia russia      grocery store shelves   \n",
              "15         panic buying covid          food supply chain   \n",
              "16           trader joe giant          global oil prices   \n",
              "17      panic buying hoarding         covid panic buying   \n",
              "18              oil price war         falling oil prices   \n",
              "19  beginning die coronavirus    online grocery shopping   \n",
              "20         walmart trader joe  grocery store coronavirus   \n",
              "21             joe giant died        grocery store covid   \n",
              "22          died covid recent        amid covid outbreak   \n",
              "23          covid recent days      working grocery store   \n",
              "24   coronavirus panic buying        people panic buying   \n",
              "25          covid covid covid        grocery store today   \n",
              "26    grocery store employees        collapse oil prices   \n",
              "27    coronavirus covid covid       grocery store worker   \n",
              "28           giant died covid           lower oil prices   \n",
              "29         went grocery store        amid covid pandemic   \n",
              "\n",
              "                                         Neutral                    Positive  \\\n",
              "0                        coronavirus covid covid       grocery store workers   \n",
              "1                            going grocery store     grocery store employees   \n",
              "2                          grocery store workers         going grocery store   \n",
              "3                            local grocery store     coronavirus covid covid   \n",
              "4                            grocery store covid     online grocery shopping   \n",
              "5                        online grocery shopping          use hand sanitizer   \n",
              "6                      grocery store coronavirus          went grocery store   \n",
              "7                        covid covid coronavirus         local grocery store   \n",
              "8                              covid covid covid     covid covid coronavirus   \n",
              "9                             went grocery store       tested positive covid   \n",
              "10                           amid covid pandemic       workers grocery store   \n",
              "11                       grocery store employees        grocery store clerks   \n",
              "12                           grocery store today  hand sanitizer coronavirus   \n",
              "13                        grocery store pharmacy          work grocery store   \n",
              "14                         retail store closures       sanitizer italy wuhan   \n",
              "15                       covid coronavirus covid         italy wuhan grocery   \n",
              "16                      toilet paper coronavirus         amid covid pandemic   \n",
              "17                 covid coronavirus toiletpaper           covid covid covid   \n",
              "18                            line grocery store       making hand sanitizer   \n",
              "19                            covid covid corona           toilet paper hand   \n",
              "20                 covid coronavirusupdate covid         grocery store covid   \n",
              "21     stoppanicbuying coronavirus panicshopping        paper hand sanitizer   \n",
              "22       coronavirus panicshopping panicbuyinguk          grocery store like   \n",
              "23       panicshopping panicbuyinguk coronavirus         grocery store today   \n",
              "24               panicbuyinguk coronavirus covid   amid coronavirus pandemic   \n",
              "25           coronavirus covid coronavirusupdate   grocery store coronavirus   \n",
              "26     coronavirusupdate covid socialdistanacing  coronavirus covid pandemic   \n",
              "27                 toiletpaper covid coronavirus          line grocery store   \n",
              "28                      online shopping behavior   coronavirus covid contest   \n",
              "29  coronacrisis stopstockpiling stoppanicbuying         covid contest alert   \n",
              "\n",
              "             Extremely Positive  \n",
              "0         grocery store workers  \n",
              "1       grocery store employees  \n",
              "2           health care workers  \n",
              "3         workers grocery store  \n",
              "4            use hand sanitizer  \n",
              "5           make hand sanitizer  \n",
              "6           going grocery store  \n",
              "7         making hand sanitizer  \n",
              "8             covid covid covid  \n",
              "9          grocery store clerks  \n",
              "10          thank grocery store  \n",
              "11          local grocery store  \n",
              "12           went grocery store  \n",
              "13           work grocery store  \n",
              "14      covid covid coronavirus  \n",
              "15               stay safe stay  \n",
              "16   hand sanitizer coronavirus  \n",
              "17      coronavirus covid covid  \n",
              "18        tested positive covid  \n",
              "19               stay home stay  \n",
              "20        meet increased demand  \n",
              "21         masks hand sanitizer  \n",
              "22         care workers grocery  \n",
              "23     workers delivery drivers  \n",
              "24     support local businesses  \n",
              "25         prevent spread covid  \n",
              "26          grocery store staff  \n",
              "27  committed helping customers  \n",
              "28         using hand sanitizer  \n",
              "29           trip grocery store  "
            ],
            "text/html": [
              "\n",
              "  <div id=\"df-31f48e7d-4522-4609-89b5-1a310c76b920\">\n",
              "    <div class=\"colab-df-container\">\n",
              "      <div>\n",
              "<style scoped>\n",
              "    .dataframe tbody tr th:only-of-type {\n",
              "        vertical-align: middle;\n",
              "    }\n",
              "\n",
              "    .dataframe tbody tr th {\n",
              "        vertical-align: top;\n",
              "    }\n",
              "\n",
              "    .dataframe thead th {\n",
              "        text-align: right;\n",
              "    }\n",
              "</style>\n",
              "<table border=\"1\" class=\"dataframe\">\n",
              "  <thead>\n",
              "    <tr style=\"text-align: right;\">\n",
              "      <th></th>\n",
              "      <th>Extremely Negative</th>\n",
              "      <th>Negative</th>\n",
              "      <th>Neutral</th>\n",
              "      <th>Positive</th>\n",
              "      <th>Extremely Positive</th>\n",
              "    </tr>\n",
              "  </thead>\n",
              "  <tbody>\n",
              "    <tr>\n",
              "      <th>0</th>\n",
              "      <td>stop panic buying</td>\n",
              "      <td>grocery store workers</td>\n",
              "      <td>coronavirus covid covid</td>\n",
              "      <td>grocery store workers</td>\n",
              "      <td>grocery store workers</td>\n",
              "    </tr>\n",
              "    <tr>\n",
              "      <th>1</th>\n",
              "      <td>panic buying food</td>\n",
              "      <td>going grocery store</td>\n",
              "      <td>going grocery store</td>\n",
              "      <td>grocery store employees</td>\n",
              "      <td>grocery store employees</td>\n",
              "    </tr>\n",
              "    <tr>\n",
              "      <th>2</th>\n",
              "      <td>grocery store workers</td>\n",
              "      <td>went grocery store</td>\n",
              "      <td>grocery store workers</td>\n",
              "      <td>going grocery store</td>\n",
              "      <td>health care workers</td>\n",
              "    </tr>\n",
              "    <tr>\n",
              "      <th>3</th>\n",
              "      <td>people panic buying</td>\n",
              "      <td>coronavirus covid covid</td>\n",
              "      <td>local grocery store</td>\n",
              "      <td>coronavirus covid covid</td>\n",
              "      <td>workers grocery store</td>\n",
              "    </tr>\n",
              "    <tr>\n",
              "      <th>4</th>\n",
              "      <td>food supply chain</td>\n",
              "      <td>local grocery store</td>\n",
              "      <td>grocery store covid</td>\n",
              "      <td>online grocery shopping</td>\n",
              "      <td>use hand sanitizer</td>\n",
              "    </tr>\n",
              "    <tr>\n",
              "      <th>5</th>\n",
              "      <td>crude oil prices</td>\n",
              "      <td>low oil prices</td>\n",
              "      <td>online grocery shopping</td>\n",
              "      <td>use hand sanitizer</td>\n",
              "      <td>make hand sanitizer</td>\n",
              "    </tr>\n",
              "    <tr>\n",
              "      <th>6</th>\n",
              "      <td>paid sick leave</td>\n",
              "      <td>covid covid covid</td>\n",
              "      <td>grocery store coronavirus</td>\n",
              "      <td>went grocery store</td>\n",
              "      <td>going grocery store</td>\n",
              "    </tr>\n",
              "    <tr>\n",
              "      <th>7</th>\n",
              "      <td>covid panic buying</td>\n",
              "      <td>stop panic buying</td>\n",
              "      <td>covid covid coronavirus</td>\n",
              "      <td>local grocery store</td>\n",
              "      <td>making hand sanitizer</td>\n",
              "    </tr>\n",
              "    <tr>\n",
              "      <th>8</th>\n",
              "      <td>going grocery store</td>\n",
              "      <td>panic buying food</td>\n",
              "      <td>covid covid covid</td>\n",
              "      <td>covid covid coronavirus</td>\n",
              "      <td>covid covid covid</td>\n",
              "    </tr>\n",
              "    <tr>\n",
              "      <th>9</th>\n",
              "      <td>low oil prices</td>\n",
              "      <td>amid coronavirus pandemic</td>\n",
              "      <td>went grocery store</td>\n",
              "      <td>tested positive covid</td>\n",
              "      <td>grocery store clerks</td>\n",
              "    </tr>\n",
              "    <tr>\n",
              "      <th>10</th>\n",
              "      <td>amid covid crisis</td>\n",
              "      <td>grocery store employees</td>\n",
              "      <td>amid covid pandemic</td>\n",
              "      <td>workers grocery store</td>\n",
              "      <td>thank grocery store</td>\n",
              "    </tr>\n",
              "    <tr>\n",
              "      <th>11</th>\n",
              "      <td>amid covid panic</td>\n",
              "      <td>covid covid coronavirus</td>\n",
              "      <td>grocery store employees</td>\n",
              "      <td>grocery store clerks</td>\n",
              "      <td>local grocery store</td>\n",
              "    </tr>\n",
              "    <tr>\n",
              "      <th>12</th>\n",
              "      <td>workers beginning die</td>\n",
              "      <td>crude oil prices</td>\n",
              "      <td>grocery store today</td>\n",
              "      <td>hand sanitizer coronavirus</td>\n",
              "      <td>went grocery store</td>\n",
              "    </tr>\n",
              "    <tr>\n",
              "      <th>13</th>\n",
              "      <td>grocery workers beginning</td>\n",
              "      <td>work grocery store</td>\n",
              "      <td>grocery store pharmacy</td>\n",
              "      <td>work grocery store</td>\n",
              "      <td>work grocery store</td>\n",
              "    </tr>\n",
              "    <tr>\n",
              "      <th>14</th>\n",
              "      <td>saudi arabia russia</td>\n",
              "      <td>grocery store shelves</td>\n",
              "      <td>retail store closures</td>\n",
              "      <td>sanitizer italy wuhan</td>\n",
              "      <td>covid covid coronavirus</td>\n",
              "    </tr>\n",
              "    <tr>\n",
              "      <th>15</th>\n",
              "      <td>panic buying covid</td>\n",
              "      <td>food supply chain</td>\n",
              "      <td>covid coronavirus covid</td>\n",
              "      <td>italy wuhan grocery</td>\n",
              "      <td>stay safe stay</td>\n",
              "    </tr>\n",
              "    <tr>\n",
              "      <th>16</th>\n",
              "      <td>trader joe giant</td>\n",
              "      <td>global oil prices</td>\n",
              "      <td>toilet paper coronavirus</td>\n",
              "      <td>amid covid pandemic</td>\n",
              "      <td>hand sanitizer coronavirus</td>\n",
              "    </tr>\n",
              "    <tr>\n",
              "      <th>17</th>\n",
              "      <td>panic buying hoarding</td>\n",
              "      <td>covid panic buying</td>\n",
              "      <td>covid coronavirus toiletpaper</td>\n",
              "      <td>covid covid covid</td>\n",
              "      <td>coronavirus covid covid</td>\n",
              "    </tr>\n",
              "    <tr>\n",
              "      <th>18</th>\n",
              "      <td>oil price war</td>\n",
              "      <td>falling oil prices</td>\n",
              "      <td>line grocery store</td>\n",
              "      <td>making hand sanitizer</td>\n",
              "      <td>tested positive covid</td>\n",
              "    </tr>\n",
              "    <tr>\n",
              "      <th>19</th>\n",
              "      <td>beginning die coronavirus</td>\n",
              "      <td>online grocery shopping</td>\n",
              "      <td>covid covid corona</td>\n",
              "      <td>toilet paper hand</td>\n",
              "      <td>stay home stay</td>\n",
              "    </tr>\n",
              "    <tr>\n",
              "      <th>20</th>\n",
              "      <td>walmart trader joe</td>\n",
              "      <td>grocery store coronavirus</td>\n",
              "      <td>covid coronavirusupdate covid</td>\n",
              "      <td>grocery store covid</td>\n",
              "      <td>meet increased demand</td>\n",
              "    </tr>\n",
              "    <tr>\n",
              "      <th>21</th>\n",
              "      <td>joe giant died</td>\n",
              "      <td>grocery store covid</td>\n",
              "      <td>stoppanicbuying coronavirus panicshopping</td>\n",
              "      <td>paper hand sanitizer</td>\n",
              "      <td>masks hand sanitizer</td>\n",
              "    </tr>\n",
              "    <tr>\n",
              "      <th>22</th>\n",
              "      <td>died covid recent</td>\n",
              "      <td>amid covid outbreak</td>\n",
              "      <td>coronavirus panicshopping panicbuyinguk</td>\n",
              "      <td>grocery store like</td>\n",
              "      <td>care workers grocery</td>\n",
              "    </tr>\n",
              "    <tr>\n",
              "      <th>23</th>\n",
              "      <td>covid recent days</td>\n",
              "      <td>working grocery store</td>\n",
              "      <td>panicshopping panicbuyinguk coronavirus</td>\n",
              "      <td>grocery store today</td>\n",
              "      <td>workers delivery drivers</td>\n",
              "    </tr>\n",
              "    <tr>\n",
              "      <th>24</th>\n",
              "      <td>coronavirus panic buying</td>\n",
              "      <td>people panic buying</td>\n",
              "      <td>panicbuyinguk coronavirus covid</td>\n",
              "      <td>amid coronavirus pandemic</td>\n",
              "      <td>support local businesses</td>\n",
              "    </tr>\n",
              "    <tr>\n",
              "      <th>25</th>\n",
              "      <td>covid covid covid</td>\n",
              "      <td>grocery store today</td>\n",
              "      <td>coronavirus covid coronavirusupdate</td>\n",
              "      <td>grocery store coronavirus</td>\n",
              "      <td>prevent spread covid</td>\n",
              "    </tr>\n",
              "    <tr>\n",
              "      <th>26</th>\n",
              "      <td>grocery store employees</td>\n",
              "      <td>collapse oil prices</td>\n",
              "      <td>coronavirusupdate covid socialdistanacing</td>\n",
              "      <td>coronavirus covid pandemic</td>\n",
              "      <td>grocery store staff</td>\n",
              "    </tr>\n",
              "    <tr>\n",
              "      <th>27</th>\n",
              "      <td>coronavirus covid covid</td>\n",
              "      <td>grocery store worker</td>\n",
              "      <td>toiletpaper covid coronavirus</td>\n",
              "      <td>line grocery store</td>\n",
              "      <td>committed helping customers</td>\n",
              "    </tr>\n",
              "    <tr>\n",
              "      <th>28</th>\n",
              "      <td>giant died covid</td>\n",
              "      <td>lower oil prices</td>\n",
              "      <td>online shopping behavior</td>\n",
              "      <td>coronavirus covid contest</td>\n",
              "      <td>using hand sanitizer</td>\n",
              "    </tr>\n",
              "    <tr>\n",
              "      <th>29</th>\n",
              "      <td>went grocery store</td>\n",
              "      <td>amid covid pandemic</td>\n",
              "      <td>coronacrisis stopstockpiling stoppanicbuying</td>\n",
              "      <td>covid contest alert</td>\n",
              "      <td>trip grocery store</td>\n",
              "    </tr>\n",
              "  </tbody>\n",
              "</table>\n",
              "</div>\n",
              "      <button class=\"colab-df-convert\" onclick=\"convertToInteractive('df-31f48e7d-4522-4609-89b5-1a310c76b920')\"\n",
              "              title=\"Convert this dataframe to an interactive table.\"\n",
              "              style=\"display:none;\">\n",
              "        \n",
              "  <svg xmlns=\"http://www.w3.org/2000/svg\" height=\"24px\"viewBox=\"0 0 24 24\"\n",
              "       width=\"24px\">\n",
              "    <path d=\"M0 0h24v24H0V0z\" fill=\"none\"/>\n",
              "    <path d=\"M18.56 5.44l.94 2.06.94-2.06 2.06-.94-2.06-.94-.94-2.06-.94 2.06-2.06.94zm-11 1L8.5 8.5l.94-2.06 2.06-.94-2.06-.94L8.5 2.5l-.94 2.06-2.06.94zm10 10l.94 2.06.94-2.06 2.06-.94-2.06-.94-.94-2.06-.94 2.06-2.06.94z\"/><path d=\"M17.41 7.96l-1.37-1.37c-.4-.4-.92-.59-1.43-.59-.52 0-1.04.2-1.43.59L10.3 9.45l-7.72 7.72c-.78.78-.78 2.05 0 2.83L4 21.41c.39.39.9.59 1.41.59.51 0 1.02-.2 1.41-.59l7.78-7.78 2.81-2.81c.8-.78.8-2.07 0-2.86zM5.41 20L4 18.59l7.72-7.72 1.47 1.35L5.41 20z\"/>\n",
              "  </svg>\n",
              "      </button>\n",
              "      \n",
              "  <style>\n",
              "    .colab-df-container {\n",
              "      display:flex;\n",
              "      flex-wrap:wrap;\n",
              "      gap: 12px;\n",
              "    }\n",
              "\n",
              "    .colab-df-convert {\n",
              "      background-color: #E8F0FE;\n",
              "      border: none;\n",
              "      border-radius: 50%;\n",
              "      cursor: pointer;\n",
              "      display: none;\n",
              "      fill: #1967D2;\n",
              "      height: 32px;\n",
              "      padding: 0 0 0 0;\n",
              "      width: 32px;\n",
              "    }\n",
              "\n",
              "    .colab-df-convert:hover {\n",
              "      background-color: #E2EBFA;\n",
              "      box-shadow: 0px 1px 2px rgba(60, 64, 67, 0.3), 0px 1px 3px 1px rgba(60, 64, 67, 0.15);\n",
              "      fill: #174EA6;\n",
              "    }\n",
              "\n",
              "    [theme=dark] .colab-df-convert {\n",
              "      background-color: #3B4455;\n",
              "      fill: #D2E3FC;\n",
              "    }\n",
              "\n",
              "    [theme=dark] .colab-df-convert:hover {\n",
              "      background-color: #434B5C;\n",
              "      box-shadow: 0px 1px 3px 1px rgba(0, 0, 0, 0.15);\n",
              "      filter: drop-shadow(0px 1px 2px rgba(0, 0, 0, 0.3));\n",
              "      fill: #FFFFFF;\n",
              "    }\n",
              "  </style>\n",
              "\n",
              "      <script>\n",
              "        const buttonEl =\n",
              "          document.querySelector('#df-31f48e7d-4522-4609-89b5-1a310c76b920 button.colab-df-convert');\n",
              "        buttonEl.style.display =\n",
              "          google.colab.kernel.accessAllowed ? 'block' : 'none';\n",
              "\n",
              "        async function convertToInteractive(key) {\n",
              "          const element = document.querySelector('#df-31f48e7d-4522-4609-89b5-1a310c76b920');\n",
              "          const dataTable =\n",
              "            await google.colab.kernel.invokeFunction('convertToInteractive',\n",
              "                                                     [key], {});\n",
              "          if (!dataTable) return;\n",
              "\n",
              "          const docLinkHtml = 'Like what you see? Visit the ' +\n",
              "            '<a target=\"_blank\" href=https://colab.research.google.com/notebooks/data_table.ipynb>data table notebook</a>'\n",
              "            + ' to learn more about interactive tables.';\n",
              "          element.innerHTML = '';\n",
              "          dataTable['output_type'] = 'display_data';\n",
              "          await google.colab.output.renderOutput(dataTable, element);\n",
              "          const docLink = document.createElement('div');\n",
              "          docLink.innerHTML = docLinkHtml;\n",
              "          element.appendChild(docLink);\n",
              "        }\n",
              "      </script>\n",
              "    </div>\n",
              "  </div>\n",
              "  "
            ]
          },
          "metadata": {},
          "execution_count": 91
        }
      ],
      "source": [
        "# Выведем таблицу с наиболее популярными trigrams для каждого класса\n",
        "\n",
        "table_trigrams = pd.DataFrame(columns=['Extremely Negative', 'Negative',\n",
        "                              'Neutral', 'Positive', 'Extremely Positive'])\n",
        "table_trigrams['Extremely Negative'] = df_EN3.text\n",
        "table_trigrams['Negative'] = df_N3.text\n",
        "table_trigrams['Neutral'] = df_Neu3.text\n",
        "table_trigrams['Positive'] = df_P3.text\n",
        "table_trigrams['Extremely Positive'] = df_EP3.text\n",
        "\n",
        "table_trigrams"
      ]
    },
    {
      "cell_type": "markdown",
      "source": [
        "#Классификация текстов на основании наиболее популярных для каждого класса trigrams"
      ],
      "metadata": {
        "id": "cX83FJSUhEXX"
      },
      "id": "cX83FJSUhEXX"
    },
    {
      "cell_type": "markdown",
      "source": [
        "Каждый класс будем определять по наличию в нем наиболее популярных trigrams, характерных для данного класса"
      ],
      "metadata": {
        "id": "mhyjNjUbhTf0"
      },
      "id": "mhyjNjUbhTf0"
    },
    {
      "cell_type": "code",
      "execution_count": null,
      "id": "bf5e93ea",
      "metadata": {
        "id": "bf5e93ea"
      },
      "outputs": [],
      "source": [
        "# Для того, чтобы убрать пересечения trigrams,\n",
        "# Переведем списки trigrams в множества\n",
        "\n",
        "col_EN = set(table_trigrams[\"Extremely Negative\"])\n",
        "col_N = set(table_trigrams[\"Negative\"])\n",
        "col_Neu = set(table_trigrams[\"Neutral\"])\n",
        "col_P = set(table_trigrams[\"Positive\"])\n",
        "col_EP = set(table_trigrams[\"Extremely Positive\"])"
      ]
    },
    {
      "cell_type": "code",
      "execution_count": null,
      "id": "46d9332a",
      "metadata": {
        "colab": {
          "base_uri": "https://localhost:8080/"
        },
        "id": "46d9332a",
        "outputId": "604204c9-ade6-4918-906a-e41c77e095d2"
      },
      "outputs": [
        {
          "output_type": "stream",
          "name": "stdout",
          "text": [
            "['paid sick leave', 'saudi arabia russia', 'trader joe giant', 'panic buying covid', 'beginning die coronavirus', 'giant died covid', 'walmart trader joe', 'panic buying hoarding', 'amid covid crisis', 'coronavirus panic buying', 'workers beginning die', 'covid recent days', 'amid covid panic', 'joe giant died', 'died covid recent', 'oil price war', 'grocery workers beginning']\n",
            "17\n"
          ]
        }
      ],
      "source": [
        "# Составим список из trigrams, которые встречаются только\n",
        "# в классе Extremely Negative\n",
        "\n",
        "list_EN = []\n",
        "for i in col_EN:\n",
        "    if i not in col_N:\n",
        "        if i not in col_Neu:\n",
        "            if i not in col_P:\n",
        "                if i not in col_EP:\n",
        "                    list_EN.append(i)\n",
        "print(list_EN)\n",
        "print(len(list_EN))"
      ]
    },
    {
      "cell_type": "code",
      "execution_count": null,
      "id": "af927848",
      "metadata": {
        "colab": {
          "base_uri": "https://localhost:8080/"
        },
        "id": "af927848",
        "outputId": "fd76fee6-1991-4f61-d68a-c8477b4bf937"
      },
      "outputs": [
        {
          "output_type": "stream",
          "name": "stdout",
          "text": [
            "['working grocery store', 'falling oil prices', 'grocery store shelves', 'collapse oil prices', 'global oil prices', 'lower oil prices', 'grocery store worker', 'amid covid outbreak']\n",
            "8\n"
          ]
        }
      ],
      "source": [
        "# Составим список из trigrams, которые встречаются только\n",
        "# в классе Negative\n",
        "\n",
        "list_N = []\n",
        "for i in col_N:\n",
        "    if i not in col_EN:\n",
        "        if i not in col_Neu:\n",
        "            if i not in col_P:\n",
        "                if i not in col_EP:\n",
        "                    list_N.append(i)\n",
        "print(list_N)\n",
        "print(len(list_N))"
      ]
    },
    {
      "cell_type": "code",
      "execution_count": null,
      "id": "4938f2b4",
      "metadata": {
        "colab": {
          "base_uri": "https://localhost:8080/"
        },
        "id": "4938f2b4",
        "outputId": "4552331a-54ee-483f-886a-f28254edb7ef"
      },
      "outputs": [
        {
          "output_type": "stream",
          "name": "stdout",
          "text": [
            "['covid coronavirus toiletpaper', 'grocery store pharmacy', 'panicbuyinguk coronavirus covid', 'coronacrisis stopstockpiling stoppanicbuying', 'coronavirus covid coronavirusupdate', 'online shopping behavior', 'toiletpaper covid coronavirus', 'covid covid corona', 'coronavirusupdate covid socialdistanacing', 'retail store closures', 'covid coronavirus covid', 'covid coronavirusupdate covid', 'panicshopping panicbuyinguk coronavirus', 'stoppanicbuying coronavirus panicshopping', 'coronavirus panicshopping panicbuyinguk', 'toilet paper coronavirus']\n",
            "16\n"
          ]
        }
      ],
      "source": [
        "# Составим список из trigrams, которые встречаются только\n",
        "# в классе Neutral\n",
        "\n",
        "list_Neu = []\n",
        "for i in col_Neu:\n",
        "    if i not in col_EN:\n",
        "        if i not in col_N:\n",
        "            if i not in col_P:\n",
        "                if i not in col_EP:\n",
        "                    list_Neu.append(i)\n",
        "print(list_Neu)\n",
        "print(len(list_Neu))"
      ]
    },
    {
      "cell_type": "code",
      "execution_count": null,
      "id": "020f3fec",
      "metadata": {
        "colab": {
          "base_uri": "https://localhost:8080/"
        },
        "id": "020f3fec",
        "outputId": "172637f6-2f1e-4b51-a01b-37fb2bd352fb"
      },
      "outputs": [
        {
          "output_type": "stream",
          "name": "stdout",
          "text": [
            "['toilet paper hand', 'paper hand sanitizer', 'coronavirus covid pandemic', 'coronavirus covid contest', 'italy wuhan grocery', 'grocery store like', 'covid contest alert', 'sanitizer italy wuhan']\n",
            "8\n"
          ]
        }
      ],
      "source": [
        "# Составим список из trigrams, которые встречаются только\n",
        "# в классе Positive\n",
        "\n",
        "list_P = []\n",
        "for i in col_P:\n",
        "    if i not in col_EN:\n",
        "        if i not in col_N:\n",
        "            if i not in col_Neu:\n",
        "                if i not in col_EP:\n",
        "                    list_P.append(i)\n",
        "print(list_P)\n",
        "print(len(list_P))"
      ]
    },
    {
      "cell_type": "code",
      "execution_count": null,
      "id": "50470b32",
      "metadata": {
        "colab": {
          "base_uri": "https://localhost:8080/"
        },
        "id": "50470b32",
        "outputId": "788aab32-c66c-40ec-95e9-c3359cac67ad"
      },
      "outputs": [
        {
          "output_type": "stream",
          "name": "stdout",
          "text": [
            "['care workers grocery', 'committed helping customers', 'prevent spread covid', 'thank grocery store', 'stay home stay', 'workers delivery drivers', 'support local businesses', 'trip grocery store', 'stay safe stay', 'meet increased demand', 'using hand sanitizer', 'grocery store staff', 'make hand sanitizer', 'masks hand sanitizer', 'health care workers']\n",
            "15\n"
          ]
        }
      ],
      "source": [
        "# Составим список из trigrams, которые встречаются только\n",
        "# в классе Extremely Positive\n",
        "\n",
        "list_EP = []\n",
        "for i in col_EP:\n",
        "    if i not in col_EN:\n",
        "        if i not in col_N:\n",
        "            if i not in col_Neu:\n",
        "                if i not in col_P:\n",
        "                    list_EP.append(i)\n",
        "print(list_EP)\n",
        "print(len(list_EP))"
      ]
    },
    {
      "cell_type": "code",
      "execution_count": null,
      "id": "10363682",
      "metadata": {
        "colab": {
          "base_uri": "https://localhost:8080/",
          "height": 461
        },
        "id": "10363682",
        "outputId": "095b8405-67c1-432f-d6ef-1d77acbcc64c"
      },
      "outputs": [
        {
          "output_type": "stream",
          "name": "stdout",
          "text": [
            "17\n"
          ]
        },
        {
          "output_type": "execute_result",
          "data": {
            "text/plain": [
              "                                               0   \\\n",
              "Extremely Negative                paid sick leave   \n",
              "Negative                    working grocery store   \n",
              "Neutral             covid coronavirus toiletpaper   \n",
              "Positive                        toilet paper hand   \n",
              "Extremely Positive           care workers grocery   \n",
              "\n",
              "                                             1   \\\n",
              "Extremely Negative          saudi arabia russia   \n",
              "Negative                     falling oil prices   \n",
              "Neutral                  grocery store pharmacy   \n",
              "Positive                   paper hand sanitizer   \n",
              "Extremely Positive  committed helping customers   \n",
              "\n",
              "                                                 2   \\\n",
              "Extremely Negative                 trader joe giant   \n",
              "Negative                      grocery store shelves   \n",
              "Neutral             panicbuyinguk coronavirus covid   \n",
              "Positive                 coronavirus covid pandemic   \n",
              "Extremely Positive             prevent spread covid   \n",
              "\n",
              "                                                              3   \\\n",
              "Extremely Negative                            panic buying covid   \n",
              "Negative                                     collapse oil prices   \n",
              "Neutral             coronacrisis stopstockpiling stoppanicbuying   \n",
              "Positive                               coronavirus covid contest   \n",
              "Extremely Positive                           thank grocery store   \n",
              "\n",
              "                                                     4   \\\n",
              "Extremely Negative            beginning die coronavirus   \n",
              "Negative                              global oil prices   \n",
              "Neutral             coronavirus covid coronavirusupdate   \n",
              "Positive                            italy wuhan grocery   \n",
              "Extremely Positive                       stay home stay   \n",
              "\n",
              "                                          5                              6   \\\n",
              "Extremely Negative          giant died covid             walmart trader joe   \n",
              "Negative                    lower oil prices           grocery store worker   \n",
              "Neutral             online shopping behavior  toiletpaper covid coronavirus   \n",
              "Positive                  grocery store like            covid contest alert   \n",
              "Extremely Positive  workers delivery drivers       support local businesses   \n",
              "\n",
              "                                       7   \\\n",
              "Extremely Negative  panic buying hoarding   \n",
              "Negative              amid covid outbreak   \n",
              "Neutral                covid covid corona   \n",
              "Positive            sanitizer italy wuhan   \n",
              "Extremely Positive     trip grocery store   \n",
              "\n",
              "                                                           8   \\\n",
              "Extremely Negative                          amid covid crisis   \n",
              "Negative                                                    0   \n",
              "Neutral             coronavirusupdate covid socialdistanacing   \n",
              "Positive                                                    0   \n",
              "Extremely Positive                             stay safe stay   \n",
              "\n",
              "                                          9                        10  \\\n",
              "Extremely Negative  coronavirus panic buying    workers beginning die   \n",
              "Negative                                   0                        0   \n",
              "Neutral                retail store closures  covid coronavirus covid   \n",
              "Positive                                   0                        0   \n",
              "Extremely Positive     meet increased demand     using hand sanitizer   \n",
              "\n",
              "                                               11  \\\n",
              "Extremely Negative              covid recent days   \n",
              "Negative                                        0   \n",
              "Neutral             covid coronavirusupdate covid   \n",
              "Positive                                        0   \n",
              "Extremely Positive            grocery store staff   \n",
              "\n",
              "                                                         12  \\\n",
              "Extremely Negative                         amid covid panic   \n",
              "Negative                                                  0   \n",
              "Neutral             panicshopping panicbuyinguk coronavirus   \n",
              "Positive                                                  0   \n",
              "Extremely Positive                      make hand sanitizer   \n",
              "\n",
              "                                                           13  \\\n",
              "Extremely Negative                             joe giant died   \n",
              "Negative                                                    0   \n",
              "Neutral             stoppanicbuying coronavirus panicshopping   \n",
              "Positive                                                    0   \n",
              "Extremely Positive                       masks hand sanitizer   \n",
              "\n",
              "                                                         14  \\\n",
              "Extremely Negative                        died covid recent   \n",
              "Negative                                                  0   \n",
              "Neutral             coronavirus panicshopping panicbuyinguk   \n",
              "Positive                                                  0   \n",
              "Extremely Positive                      health care workers   \n",
              "\n",
              "                                          15                         16  \n",
              "Extremely Negative             oil price war  grocery workers beginning  \n",
              "Negative                                   0                          0  \n",
              "Neutral             toilet paper coronavirus                          0  \n",
              "Positive                                   0                          0  \n",
              "Extremely Positive                         0                          0  "
            ],
            "text/html": [
              "\n",
              "  <div id=\"df-b34fb965-ad9c-49d1-b520-5cb7391307b2\">\n",
              "    <div class=\"colab-df-container\">\n",
              "      <div>\n",
              "<style scoped>\n",
              "    .dataframe tbody tr th:only-of-type {\n",
              "        vertical-align: middle;\n",
              "    }\n",
              "\n",
              "    .dataframe tbody tr th {\n",
              "        vertical-align: top;\n",
              "    }\n",
              "\n",
              "    .dataframe thead th {\n",
              "        text-align: right;\n",
              "    }\n",
              "</style>\n",
              "<table border=\"1\" class=\"dataframe\">\n",
              "  <thead>\n",
              "    <tr style=\"text-align: right;\">\n",
              "      <th></th>\n",
              "      <th>0</th>\n",
              "      <th>1</th>\n",
              "      <th>2</th>\n",
              "      <th>3</th>\n",
              "      <th>4</th>\n",
              "      <th>5</th>\n",
              "      <th>6</th>\n",
              "      <th>7</th>\n",
              "      <th>8</th>\n",
              "      <th>9</th>\n",
              "      <th>10</th>\n",
              "      <th>11</th>\n",
              "      <th>12</th>\n",
              "      <th>13</th>\n",
              "      <th>14</th>\n",
              "      <th>15</th>\n",
              "      <th>16</th>\n",
              "    </tr>\n",
              "  </thead>\n",
              "  <tbody>\n",
              "    <tr>\n",
              "      <th>Extremely Negative</th>\n",
              "      <td>paid sick leave</td>\n",
              "      <td>saudi arabia russia</td>\n",
              "      <td>trader joe giant</td>\n",
              "      <td>panic buying covid</td>\n",
              "      <td>beginning die coronavirus</td>\n",
              "      <td>giant died covid</td>\n",
              "      <td>walmart trader joe</td>\n",
              "      <td>panic buying hoarding</td>\n",
              "      <td>amid covid crisis</td>\n",
              "      <td>coronavirus panic buying</td>\n",
              "      <td>workers beginning die</td>\n",
              "      <td>covid recent days</td>\n",
              "      <td>amid covid panic</td>\n",
              "      <td>joe giant died</td>\n",
              "      <td>died covid recent</td>\n",
              "      <td>oil price war</td>\n",
              "      <td>grocery workers beginning</td>\n",
              "    </tr>\n",
              "    <tr>\n",
              "      <th>Negative</th>\n",
              "      <td>working grocery store</td>\n",
              "      <td>falling oil prices</td>\n",
              "      <td>grocery store shelves</td>\n",
              "      <td>collapse oil prices</td>\n",
              "      <td>global oil prices</td>\n",
              "      <td>lower oil prices</td>\n",
              "      <td>grocery store worker</td>\n",
              "      <td>amid covid outbreak</td>\n",
              "      <td>0</td>\n",
              "      <td>0</td>\n",
              "      <td>0</td>\n",
              "      <td>0</td>\n",
              "      <td>0</td>\n",
              "      <td>0</td>\n",
              "      <td>0</td>\n",
              "      <td>0</td>\n",
              "      <td>0</td>\n",
              "    </tr>\n",
              "    <tr>\n",
              "      <th>Neutral</th>\n",
              "      <td>covid coronavirus toiletpaper</td>\n",
              "      <td>grocery store pharmacy</td>\n",
              "      <td>panicbuyinguk coronavirus covid</td>\n",
              "      <td>coronacrisis stopstockpiling stoppanicbuying</td>\n",
              "      <td>coronavirus covid coronavirusupdate</td>\n",
              "      <td>online shopping behavior</td>\n",
              "      <td>toiletpaper covid coronavirus</td>\n",
              "      <td>covid covid corona</td>\n",
              "      <td>coronavirusupdate covid socialdistanacing</td>\n",
              "      <td>retail store closures</td>\n",
              "      <td>covid coronavirus covid</td>\n",
              "      <td>covid coronavirusupdate covid</td>\n",
              "      <td>panicshopping panicbuyinguk coronavirus</td>\n",
              "      <td>stoppanicbuying coronavirus panicshopping</td>\n",
              "      <td>coronavirus panicshopping panicbuyinguk</td>\n",
              "      <td>toilet paper coronavirus</td>\n",
              "      <td>0</td>\n",
              "    </tr>\n",
              "    <tr>\n",
              "      <th>Positive</th>\n",
              "      <td>toilet paper hand</td>\n",
              "      <td>paper hand sanitizer</td>\n",
              "      <td>coronavirus covid pandemic</td>\n",
              "      <td>coronavirus covid contest</td>\n",
              "      <td>italy wuhan grocery</td>\n",
              "      <td>grocery store like</td>\n",
              "      <td>covid contest alert</td>\n",
              "      <td>sanitizer italy wuhan</td>\n",
              "      <td>0</td>\n",
              "      <td>0</td>\n",
              "      <td>0</td>\n",
              "      <td>0</td>\n",
              "      <td>0</td>\n",
              "      <td>0</td>\n",
              "      <td>0</td>\n",
              "      <td>0</td>\n",
              "      <td>0</td>\n",
              "    </tr>\n",
              "    <tr>\n",
              "      <th>Extremely Positive</th>\n",
              "      <td>care workers grocery</td>\n",
              "      <td>committed helping customers</td>\n",
              "      <td>prevent spread covid</td>\n",
              "      <td>thank grocery store</td>\n",
              "      <td>stay home stay</td>\n",
              "      <td>workers delivery drivers</td>\n",
              "      <td>support local businesses</td>\n",
              "      <td>trip grocery store</td>\n",
              "      <td>stay safe stay</td>\n",
              "      <td>meet increased demand</td>\n",
              "      <td>using hand sanitizer</td>\n",
              "      <td>grocery store staff</td>\n",
              "      <td>make hand sanitizer</td>\n",
              "      <td>masks hand sanitizer</td>\n",
              "      <td>health care workers</td>\n",
              "      <td>0</td>\n",
              "      <td>0</td>\n",
              "    </tr>\n",
              "  </tbody>\n",
              "</table>\n",
              "</div>\n",
              "      <button class=\"colab-df-convert\" onclick=\"convertToInteractive('df-b34fb965-ad9c-49d1-b520-5cb7391307b2')\"\n",
              "              title=\"Convert this dataframe to an interactive table.\"\n",
              "              style=\"display:none;\">\n",
              "        \n",
              "  <svg xmlns=\"http://www.w3.org/2000/svg\" height=\"24px\"viewBox=\"0 0 24 24\"\n",
              "       width=\"24px\">\n",
              "    <path d=\"M0 0h24v24H0V0z\" fill=\"none\"/>\n",
              "    <path d=\"M18.56 5.44l.94 2.06.94-2.06 2.06-.94-2.06-.94-.94-2.06-.94 2.06-2.06.94zm-11 1L8.5 8.5l.94-2.06 2.06-.94-2.06-.94L8.5 2.5l-.94 2.06-2.06.94zm10 10l.94 2.06.94-2.06 2.06-.94-2.06-.94-.94-2.06-.94 2.06-2.06.94z\"/><path d=\"M17.41 7.96l-1.37-1.37c-.4-.4-.92-.59-1.43-.59-.52 0-1.04.2-1.43.59L10.3 9.45l-7.72 7.72c-.78.78-.78 2.05 0 2.83L4 21.41c.39.39.9.59 1.41.59.51 0 1.02-.2 1.41-.59l7.78-7.78 2.81-2.81c.8-.78.8-2.07 0-2.86zM5.41 20L4 18.59l7.72-7.72 1.47 1.35L5.41 20z\"/>\n",
              "  </svg>\n",
              "      </button>\n",
              "      \n",
              "  <style>\n",
              "    .colab-df-container {\n",
              "      display:flex;\n",
              "      flex-wrap:wrap;\n",
              "      gap: 12px;\n",
              "    }\n",
              "\n",
              "    .colab-df-convert {\n",
              "      background-color: #E8F0FE;\n",
              "      border: none;\n",
              "      border-radius: 50%;\n",
              "      cursor: pointer;\n",
              "      display: none;\n",
              "      fill: #1967D2;\n",
              "      height: 32px;\n",
              "      padding: 0 0 0 0;\n",
              "      width: 32px;\n",
              "    }\n",
              "\n",
              "    .colab-df-convert:hover {\n",
              "      background-color: #E2EBFA;\n",
              "      box-shadow: 0px 1px 2px rgba(60, 64, 67, 0.3), 0px 1px 3px 1px rgba(60, 64, 67, 0.15);\n",
              "      fill: #174EA6;\n",
              "    }\n",
              "\n",
              "    [theme=dark] .colab-df-convert {\n",
              "      background-color: #3B4455;\n",
              "      fill: #D2E3FC;\n",
              "    }\n",
              "\n",
              "    [theme=dark] .colab-df-convert:hover {\n",
              "      background-color: #434B5C;\n",
              "      box-shadow: 0px 1px 3px 1px rgba(0, 0, 0, 0.15);\n",
              "      filter: drop-shadow(0px 1px 2px rgba(0, 0, 0, 0.3));\n",
              "      fill: #FFFFFF;\n",
              "    }\n",
              "  </style>\n",
              "\n",
              "      <script>\n",
              "        const buttonEl =\n",
              "          document.querySelector('#df-b34fb965-ad9c-49d1-b520-5cb7391307b2 button.colab-df-convert');\n",
              "        buttonEl.style.display =\n",
              "          google.colab.kernel.accessAllowed ? 'block' : 'none';\n",
              "\n",
              "        async function convertToInteractive(key) {\n",
              "          const element = document.querySelector('#df-b34fb965-ad9c-49d1-b520-5cb7391307b2');\n",
              "          const dataTable =\n",
              "            await google.colab.kernel.invokeFunction('convertToInteractive',\n",
              "                                                     [key], {});\n",
              "          if (!dataTable) return;\n",
              "\n",
              "          const docLinkHtml = 'Like what you see? Visit the ' +\n",
              "            '<a target=\"_blank\" href=https://colab.research.google.com/notebooks/data_table.ipynb>data table notebook</a>'\n",
              "            + ' to learn more about interactive tables.';\n",
              "          element.innerHTML = '';\n",
              "          dataTable['output_type'] = 'display_data';\n",
              "          await google.colab.output.renderOutput(dataTable, element);\n",
              "          const docLink = document.createElement('div');\n",
              "          docLink.innerHTML = docLinkHtml;\n",
              "          element.appendChild(docLink);\n",
              "        }\n",
              "      </script>\n",
              "    </div>\n",
              "  </div>\n",
              "  "
            ]
          },
          "metadata": {},
          "execution_count": 99
        }
      ],
      "source": [
        "# Выведем таблицу с trigrams для попытки классификации текстов\n",
        "\n",
        "list_trigrams = (list_EN, list_N, list_Neu, list_P, list_EP)\n",
        "max_len = 0\n",
        "for l in list_trigrams:\n",
        "    if len(l) > max_len:\n",
        "        max_len = len(l)\n",
        "print(max_len)\n",
        "\n",
        "padded = np.array([i + [0]*(max_len-len(i)) for i in list_trigrams])\n",
        "\n",
        "last_table=pd.DataFrame(padded, index = ['Extremely Negative', 'Negative',\n",
        "                        'Neutral', 'Positive', 'Extremely Positive'] )\n",
        "last_table"
      ]
    },
    {
      "cell_type": "code",
      "execution_count": null,
      "id": "0e763481",
      "metadata": {
        "colab": {
          "base_uri": "https://localhost:8080/"
        },
        "id": "0e763481",
        "outputId": "10a3ebcc-0014-4048-e26f-6f428ea8bb88"
      },
      "outputs": [
        {
          "output_type": "stream",
          "name": "stdout",
          "text": [
            "41155\n"
          ]
        }
      ],
      "source": [
        "# Для последующей классификации присвоим текстам порядковые номера trigrams,\n",
        "# которые встретились в текстах. Если trigrams в тексте не встретилась,\n",
        "# привоим тексту \"Nan\"\n",
        "\n",
        "\n",
        "list = list_EN + list_N + list_Neu + list_P + list_EP\n",
        "y_pred = []\n",
        "\n",
        "for doc in train.text:\n",
        "    for num, word in enumerate(list):\n",
        "        if word in doc:\n",
        "            y_pred.append(num)\n",
        "            break\n",
        "    else:\n",
        "        y_pred.append('Nan')\n",
        "\n",
        "print(len(y_pred))"
      ]
    },
    {
      "cell_type": "code",
      "execution_count": null,
      "id": "8525494a",
      "metadata": {
        "colab": {
          "base_uri": "https://localhost:8080/",
          "height": 423
        },
        "id": "8525494a",
        "outputId": "8be6fb02-faa4-4584-a185-17e372222f50"
      },
      "outputs": [
        {
          "output_type": "execute_result",
          "data": {
            "text/plain": [
              "                                                    text               label  \\\n",
              "0                                               and and              Neutral   \n",
              "1      advice talk to your neighbours family to excha...            Positive   \n",
              "2      coronavirus australia woolworths to give elder...            Positive   \n",
              "3      my food stock is not the only one which is emp...            Positive   \n",
              "4      me ready to go at supermarket during the covid...  Extremely Negative   \n",
              "...                                                  ...                 ...   \n",
              "41154  airline pilots offering to stock supermarket s...             Neutral   \n",
              "41155  response to complaint not provided citing covi...  Extremely Negative   \n",
              "41156  you know it s getting tough when is rationing ...            Positive   \n",
              "41157  is it wrong that the smell of hand sanitizer i...             Neutral   \n",
              "41158   well new used rift s are going for  on amazon...            Negative   \n",
              "\n",
              "      y_pred  \n",
              "0        Nan  \n",
              "1        Nan  \n",
              "2         24  \n",
              "3         32  \n",
              "4        Nan  \n",
              "...      ...  \n",
              "41154    Nan  \n",
              "41155    Nan  \n",
              "41156     40  \n",
              "41157    Nan  \n",
              "41158    Nan  \n",
              "\n",
              "[41155 rows x 3 columns]"
            ],
            "text/html": [
              "\n",
              "  <div id=\"df-44e2c72f-f7ec-4652-b67f-b30538c83781\">\n",
              "    <div class=\"colab-df-container\">\n",
              "      <div>\n",
              "<style scoped>\n",
              "    .dataframe tbody tr th:only-of-type {\n",
              "        vertical-align: middle;\n",
              "    }\n",
              "\n",
              "    .dataframe tbody tr th {\n",
              "        vertical-align: top;\n",
              "    }\n",
              "\n",
              "    .dataframe thead th {\n",
              "        text-align: right;\n",
              "    }\n",
              "</style>\n",
              "<table border=\"1\" class=\"dataframe\">\n",
              "  <thead>\n",
              "    <tr style=\"text-align: right;\">\n",
              "      <th></th>\n",
              "      <th>text</th>\n",
              "      <th>label</th>\n",
              "      <th>y_pred</th>\n",
              "    </tr>\n",
              "  </thead>\n",
              "  <tbody>\n",
              "    <tr>\n",
              "      <th>0</th>\n",
              "      <td>and and</td>\n",
              "      <td>Neutral</td>\n",
              "      <td>Nan</td>\n",
              "    </tr>\n",
              "    <tr>\n",
              "      <th>1</th>\n",
              "      <td>advice talk to your neighbours family to excha...</td>\n",
              "      <td>Positive</td>\n",
              "      <td>Nan</td>\n",
              "    </tr>\n",
              "    <tr>\n",
              "      <th>2</th>\n",
              "      <td>coronavirus australia woolworths to give elder...</td>\n",
              "      <td>Positive</td>\n",
              "      <td>24</td>\n",
              "    </tr>\n",
              "    <tr>\n",
              "      <th>3</th>\n",
              "      <td>my food stock is not the only one which is emp...</td>\n",
              "      <td>Positive</td>\n",
              "      <td>32</td>\n",
              "    </tr>\n",
              "    <tr>\n",
              "      <th>4</th>\n",
              "      <td>me ready to go at supermarket during the covid...</td>\n",
              "      <td>Extremely Negative</td>\n",
              "      <td>Nan</td>\n",
              "    </tr>\n",
              "    <tr>\n",
              "      <th>...</th>\n",
              "      <td>...</td>\n",
              "      <td>...</td>\n",
              "      <td>...</td>\n",
              "    </tr>\n",
              "    <tr>\n",
              "      <th>41154</th>\n",
              "      <td>airline pilots offering to stock supermarket s...</td>\n",
              "      <td>Neutral</td>\n",
              "      <td>Nan</td>\n",
              "    </tr>\n",
              "    <tr>\n",
              "      <th>41155</th>\n",
              "      <td>response to complaint not provided citing covi...</td>\n",
              "      <td>Extremely Negative</td>\n",
              "      <td>Nan</td>\n",
              "    </tr>\n",
              "    <tr>\n",
              "      <th>41156</th>\n",
              "      <td>you know it s getting tough when is rationing ...</td>\n",
              "      <td>Positive</td>\n",
              "      <td>40</td>\n",
              "    </tr>\n",
              "    <tr>\n",
              "      <th>41157</th>\n",
              "      <td>is it wrong that the smell of hand sanitizer i...</td>\n",
              "      <td>Neutral</td>\n",
              "      <td>Nan</td>\n",
              "    </tr>\n",
              "    <tr>\n",
              "      <th>41158</th>\n",
              "      <td>well new used rift s are going for  on amazon...</td>\n",
              "      <td>Negative</td>\n",
              "      <td>Nan</td>\n",
              "    </tr>\n",
              "  </tbody>\n",
              "</table>\n",
              "<p>41155 rows × 3 columns</p>\n",
              "</div>\n",
              "      <button class=\"colab-df-convert\" onclick=\"convertToInteractive('df-44e2c72f-f7ec-4652-b67f-b30538c83781')\"\n",
              "              title=\"Convert this dataframe to an interactive table.\"\n",
              "              style=\"display:none;\">\n",
              "        \n",
              "  <svg xmlns=\"http://www.w3.org/2000/svg\" height=\"24px\"viewBox=\"0 0 24 24\"\n",
              "       width=\"24px\">\n",
              "    <path d=\"M0 0h24v24H0V0z\" fill=\"none\"/>\n",
              "    <path d=\"M18.56 5.44l.94 2.06.94-2.06 2.06-.94-2.06-.94-.94-2.06-.94 2.06-2.06.94zm-11 1L8.5 8.5l.94-2.06 2.06-.94-2.06-.94L8.5 2.5l-.94 2.06-2.06.94zm10 10l.94 2.06.94-2.06 2.06-.94-2.06-.94-.94-2.06-.94 2.06-2.06.94z\"/><path d=\"M17.41 7.96l-1.37-1.37c-.4-.4-.92-.59-1.43-.59-.52 0-1.04.2-1.43.59L10.3 9.45l-7.72 7.72c-.78.78-.78 2.05 0 2.83L4 21.41c.39.39.9.59 1.41.59.51 0 1.02-.2 1.41-.59l7.78-7.78 2.81-2.81c.8-.78.8-2.07 0-2.86zM5.41 20L4 18.59l7.72-7.72 1.47 1.35L5.41 20z\"/>\n",
              "  </svg>\n",
              "      </button>\n",
              "      \n",
              "  <style>\n",
              "    .colab-df-container {\n",
              "      display:flex;\n",
              "      flex-wrap:wrap;\n",
              "      gap: 12px;\n",
              "    }\n",
              "\n",
              "    .colab-df-convert {\n",
              "      background-color: #E8F0FE;\n",
              "      border: none;\n",
              "      border-radius: 50%;\n",
              "      cursor: pointer;\n",
              "      display: none;\n",
              "      fill: #1967D2;\n",
              "      height: 32px;\n",
              "      padding: 0 0 0 0;\n",
              "      width: 32px;\n",
              "    }\n",
              "\n",
              "    .colab-df-convert:hover {\n",
              "      background-color: #E2EBFA;\n",
              "      box-shadow: 0px 1px 2px rgba(60, 64, 67, 0.3), 0px 1px 3px 1px rgba(60, 64, 67, 0.15);\n",
              "      fill: #174EA6;\n",
              "    }\n",
              "\n",
              "    [theme=dark] .colab-df-convert {\n",
              "      background-color: #3B4455;\n",
              "      fill: #D2E3FC;\n",
              "    }\n",
              "\n",
              "    [theme=dark] .colab-df-convert:hover {\n",
              "      background-color: #434B5C;\n",
              "      box-shadow: 0px 1px 3px 1px rgba(0, 0, 0, 0.15);\n",
              "      filter: drop-shadow(0px 1px 2px rgba(0, 0, 0, 0.3));\n",
              "      fill: #FFFFFF;\n",
              "    }\n",
              "  </style>\n",
              "\n",
              "      <script>\n",
              "        const buttonEl =\n",
              "          document.querySelector('#df-44e2c72f-f7ec-4652-b67f-b30538c83781 button.colab-df-convert');\n",
              "        buttonEl.style.display =\n",
              "          google.colab.kernel.accessAllowed ? 'block' : 'none';\n",
              "\n",
              "        async function convertToInteractive(key) {\n",
              "          const element = document.querySelector('#df-44e2c72f-f7ec-4652-b67f-b30538c83781');\n",
              "          const dataTable =\n",
              "            await google.colab.kernel.invokeFunction('convertToInteractive',\n",
              "                                                     [key], {});\n",
              "          if (!dataTable) return;\n",
              "\n",
              "          const docLinkHtml = 'Like what you see? Visit the ' +\n",
              "            '<a target=\"_blank\" href=https://colab.research.google.com/notebooks/data_table.ipynb>data table notebook</a>'\n",
              "            + ' to learn more about interactive tables.';\n",
              "          element.innerHTML = '';\n",
              "          dataTable['output_type'] = 'display_data';\n",
              "          await google.colab.output.renderOutput(dataTable, element);\n",
              "          const docLink = document.createElement('div');\n",
              "          docLink.innerHTML = docLinkHtml;\n",
              "          element.appendChild(docLink);\n",
              "        }\n",
              "      </script>\n",
              "    </div>\n",
              "  </div>\n",
              "  "
            ]
          },
          "metadata": {},
          "execution_count": 101
        }
      ],
      "source": [
        "train['y_pred']=y_pred\n",
        "train"
      ]
    },
    {
      "cell_type": "code",
      "execution_count": null,
      "id": "380acbcc",
      "metadata": {
        "id": "380acbcc"
      },
      "outputs": [],
      "source": [
        "# Проведем переиндексацию меток (порядковые номера trigrams) в классы\n",
        "\n",
        "LABEL_TO_ID = {0:'Extremely Negative', 1:'Extremely Negative',\n",
        "               2:'Extremely Negative', 3:'Extremely Negative',\n",
        "               4:'Extremely Negative', 5:'Extremely Negative',\n",
        "               6:'Extremely Negative', 7:'Extremely Negative',\n",
        "               8:'Extremely Negative', 9:'Extremely Negative',\n",
        "               10:'Extremely Negative', 11:'Extremely Negative',\n",
        "               12:'Extremely Negative', 13:'Extremely Negative',\n",
        "               14:'Extremely Negative', 15:'Extremely Negative',\n",
        "               16:'Extremely Negative', 17:'Extremely Negative',\n",
        "               18:'Negative', 19:'Negative', 20:'Negative', 21:'Negative',\n",
        "               22:'Negative', 23:'Negative', 24:'Negative', 25:'Negative',\n",
        "               26:'Neutral', 27:'Neutral', 28:'Neutral', 29:'Neutral',\n",
        "               30:'Neutral', 31:'Neutral', 32:'Neutral', 33:'Neutral',\n",
        "               34:'Neutral', 35:'Neutral', 36:'Neutral', 37:'Neutral',\n",
        "               38:'Neutral', 39:'Neutral', 40:'Neutral', 41:'Neutral',\n",
        "               42:'Positive', 43:'Positive', 44:'Positive', 45:'Positive',\n",
        "               46:'Positive', 47:'Positive', 48:'Positive', 49:'Positive',\n",
        "               50:'Extremely Positive', 51:'Extremely Positive',\n",
        "               52:'Extremely Positive',53:'Extremely Positive',\n",
        "               54:'Extremely Positive', 55:'Extremely Positive',\n",
        "               56:'Extremely Positive', 57:'Extremely Positive',\n",
        "               58:'Extremely Positive', 59:'Extremely Positive',\n",
        "               60:'Extremely Positive', 61:'Extremely Positive',\n",
        "               62:'Extremely Positive', 63:'Extremely Positive',\n",
        "               64:'Extremely Positive'}"
      ]
    },
    {
      "cell_type": "code",
      "execution_count": null,
      "id": "8167f67b",
      "metadata": {
        "id": "8167f67b"
      },
      "outputs": [],
      "source": [
        "train.replace({'y_pred': LABEL_TO_ID}, inplace=True)"
      ]
    },
    {
      "cell_type": "code",
      "execution_count": null,
      "id": "36e69216",
      "metadata": {
        "colab": {
          "base_uri": "https://localhost:8080/"
        },
        "id": "36e69216",
        "outputId": "622c20dd-46a4-4b39-b474-e555c2fb032c"
      },
      "outputs": [
        {
          "output_type": "execute_result",
          "data": {
            "text/plain": [
              "Nan                   39350\n",
              "Negative                742\n",
              "Neutral                 432\n",
              "Extremely Positive      290\n",
              "Extremely Negative      197\n",
              "Positive                144\n",
              "Name: y_pred, dtype: int64"
            ]
          },
          "metadata": {},
          "execution_count": 104
        }
      ],
      "source": [
        "# Проверим, что получилось\n",
        "\n",
        "train.y_pred.value_counts()"
      ]
    },
    {
      "cell_type": "code",
      "source": [
        "train.label.value_counts()"
      ],
      "metadata": {
        "colab": {
          "base_uri": "https://localhost:8080/"
        },
        "id": "ypzTRKyonBtc",
        "outputId": "3544b0b8-f07c-4b06-a1a3-25cbf5a39a8a"
      },
      "id": "ypzTRKyonBtc",
      "execution_count": null,
      "outputs": [
        {
          "output_type": "execute_result",
          "data": {
            "text/plain": [
              "Positive              11422\n",
              "Negative               9917\n",
              "Neutral                7711\n",
              "Extremely Positive     6624\n",
              "Extremely Negative     5481\n",
              "Name: label, dtype: int64"
            ]
          },
          "metadata": {},
          "execution_count": 105
        }
      ]
    },
    {
      "cell_type": "code",
      "execution_count": null,
      "id": "69a3a7de",
      "metadata": {
        "id": "69a3a7de"
      },
      "outputs": [],
      "source": [
        "# Переведем все текстовые метки классов в диапазон значений 0-4\n",
        "# Текстам с меткой Nan (в них отсутствуют выбранные для классификации trigrams,\n",
        "# мы не смогли их классифицировать) присвоим категорию Neutral (2)\n",
        "\n",
        "LABEL_TO_ID = {'Extremely Negative': 0, 'Negative': 1,  'Neutral': 2,\n",
        "              'Positive': 3, 'Extremely Positive': 4, 'Extremely_Positive': 4,\n",
        "              'Nan':2}\n",
        "train.replace({'label': LABEL_TO_ID}, inplace=True)\n",
        "train.replace({'y_pred': LABEL_TO_ID}, inplace=True)"
      ]
    },
    {
      "cell_type": "code",
      "execution_count": null,
      "id": "0a1205d8",
      "metadata": {
        "colab": {
          "base_uri": "https://localhost:8080/"
        },
        "id": "0a1205d8",
        "outputId": "74f88d38-86f9-463d-9032-15468d10f863"
      },
      "outputs": [
        {
          "output_type": "execute_result",
          "data": {
            "text/plain": [
              "2    39782\n",
              "1      742\n",
              "4      290\n",
              "0      197\n",
              "3      144\n",
              "Name: y_pred, dtype: int64"
            ]
          },
          "metadata": {},
          "execution_count": 107
        }
      ],
      "source": [
        "# Проверим, что получилось\n",
        "train.y_pred.value_counts()"
      ]
    },
    {
      "cell_type": "code",
      "source": [
        "# Проверим, что получилось\n",
        "train.label.value_counts()"
      ],
      "metadata": {
        "colab": {
          "base_uri": "https://localhost:8080/"
        },
        "id": "ftiX-zeYoH-e",
        "outputId": "32eb59fb-9ce4-46d2-be76-0b4c544050e5"
      },
      "id": "ftiX-zeYoH-e",
      "execution_count": null,
      "outputs": [
        {
          "output_type": "execute_result",
          "data": {
            "text/plain": [
              "3    11422\n",
              "1     9917\n",
              "2     7711\n",
              "4     6624\n",
              "0     5481\n",
              "Name: label, dtype: int64"
            ]
          },
          "metadata": {},
          "execution_count": 108
        }
      ]
    },
    {
      "cell_type": "code",
      "execution_count": null,
      "id": "4a2e9ada",
      "metadata": {
        "colab": {
          "base_uri": "https://localhost:8080/"
        },
        "id": "4a2e9ada",
        "outputId": "aa2f5104-8491-4d1e-ed0a-266deef4b5d8"
      },
      "outputs": [
        {
          "output_type": "stream",
          "name": "stdout",
          "text": [
            "              precision    recall  f1-score   support\n",
            "\n",
            "           0       0.02      0.61      0.04       197\n",
            "           1       0.02      0.27      0.04       742\n",
            "           2       0.99      0.19      0.32     39782\n",
            "           3       0.01      0.49      0.01       144\n",
            "           4       0.02      0.52      0.04       290\n",
            "\n",
            "    accuracy                           0.20     41155\n",
            "   macro avg       0.21      0.42      0.09     41155\n",
            "weighted avg       0.96      0.20      0.31     41155\n",
            "\n"
          ]
        }
      ],
      "source": [
        "# Посчитаем метрики, получившиеся по итогам нашей наивной классификации\n",
        "\n",
        "print(metrics.classification_report(train.y_pred, train.label))"
      ]
    },
    {
      "cell_type": "markdown",
      "source": [
        "# Выводы"
      ],
      "metadata": {
        "id": "VNL_Cyu9pfQt"
      },
      "id": "VNL_Cyu9pfQt"
    },
    {
      "cell_type": "markdown",
      "id": "6676d980",
      "metadata": {
        "id": "6676d980"
      },
      "source": [
        "В целях попытки классифицировать тексты наивными методами были рассмотрены варианты анализа данных\n",
        "\n",
        "*   по длине предложений\n",
        "*   по наличию особых знаков препинания\n",
        "\n",
        "*   поиску наиболее часто встречающихся слов или групп слов (unigrams, bigrams, trigrams), характерных для каждого класса\n",
        "\n",
        "\n",
        "\n",
        "\n",
        "Классификация по длине предложений признана нецелесообразной ввиду того, что длины предложений в различных классах  незначительно отличаются друг от друга.\n",
        "\n",
        "\n",
        "Классификация на основе наличия особых знаков препинания также признана нецелесообразной из-за того, что каждому классу текстов присущи одни и те же популярные знаки препинания, но с незначительно отличающейся частотой встречаемости.\n",
        "\n",
        "Классификация на основании наиболее популярных слов (unigrams, bigrams) отклонена, так как большинство наиболее популярных слов одинаково для каждого класса.\n",
        "\n",
        "\n",
        "Выбран метод классификации на основании trigrams, так как данные группы слов показались более уникальными для наборов текстов, выявлено больше отличающихся популярных групп слов между классами текстов.\n",
        "\n",
        "\n",
        "Классификация наивными методами (поиск наиболее популярных trigrams) привела к неудовлетворительным результатам (accuracy - 0.20, precision - 0.21, recall - 0.40, f1-score - 0.09) ввиду того, что наиболее популярные в каждом классе текстов trigrams присутствуют только в небольшом объеме данных класса.\n",
        "\n",
        "\n",
        "В целом, классификация данного набора текстов наивными методами видится нецелесообразной ввиду того, что данные не обладают явными отличительными особенностями (по крайней мере, они не выявлены в рамках анализа), которые можно обнаружить наивными методами.\n"
      ]
    },
    {
      "cell_type": "markdown",
      "id": "cb6e36be",
      "metadata": {
        "id": "cb6e36be"
      },
      "source": [
        "К вопросу о применении метрик.\n",
        "В связи с тем, что датасет не сбалансирован (минимальный класс отличается от максимального в 2 раза), метрику «accuracy» (доля верных ответов) использовать нецелесообразно, так как это приведет к завышенной оценке качества работы классификатора. В данном случае самое оптимальное – считать сразу несколько метрик, устойчивых к распределению классов (в данном случае, это — точность, полнота и f-мера) и смотреть на них все.\n",
        "Если нам удобно получить одно число, по которому можно понять, насколько хорошо модель работает, то к нашей задаче лучше всего подходит «macro-avg» (сначала подсчитывается каждая метрика по каждому классу, а потом усредняется). Macro-avg более устойчива к скошенным распределениям классов.  \n",
        "\n",
        "Во всех частях задания показатель accuracy будет приводиться  справочно исходя из условий задачи по достижению данным показателем необходимого значения."
      ]
    }
  ],
  "metadata": {
    "kernelspec": {
      "display_name": "Python 3 (ipykernel)",
      "language": "python",
      "name": "python3"
    },
    "language_info": {
      "codemirror_mode": {
        "name": "ipython",
        "version": 3
      },
      "file_extension": ".py",
      "mimetype": "text/x-python",
      "name": "python",
      "nbconvert_exporter": "python",
      "pygments_lexer": "ipython3",
      "version": "3.9.7"
    },
    "colab": {
      "provenance": [],
      "toc_visible": true,
      "include_colab_link": true
    },
    "gpuClass": "standard"
  },
  "nbformat": 4,
  "nbformat_minor": 5
}