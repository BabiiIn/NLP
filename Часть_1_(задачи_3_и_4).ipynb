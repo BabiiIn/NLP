{
  "cells": [
    {
      "cell_type": "markdown",
      "source": [
        "Часть 1\n",
        "\n",
        "\n",
        "Задание\n",
        "\n",
        "3. Реализовать один из методов векторизации текста и обучить одну из моделей классического ML. Можно использовать любые библитеки\n",
        "4. Предложить метрику, разбить обучающую выборку на обучающую и валидационную и посчитать ее значение для методов, реализованных в данном ноутбуке, и наивного метода(реализован в ноутбуке \"Часть 1 (задания 1,2)\")"
      ],
      "metadata": {
        "id": "m0GJtqb9vNoL"
      }
    },
    {
      "cell_type": "markdown",
      "source": [
        "#Импорт библиотек\n"
      ],
      "metadata": {
        "id": "7D5xMUhroIGS"
      }
    },
    {
      "cell_type": "code",
      "execution_count": null,
      "metadata": {
        "id": "lKGOle2qtdkL"
      },
      "outputs": [],
      "source": [
        "import numpy as np\n",
        "import pandas as pd\n",
        "\n",
        "from sklearn.feature_extraction.text import TfidfTransformer\n",
        "from sklearn.feature_extraction.text import CountVectorizer\n",
        "from sklearn.model_selection import train_test_split\n",
        "from sklearn.pipeline import Pipeline\n",
        "from sklearn.naive_bayes import MultinomialNB\n",
        "from sklearn.linear_model import SGDClassifier\n",
        "from sklearn import metrics\n",
        "from sklearn.svm import SVC"
      ]
    },
    {
      "cell_type": "markdown",
      "metadata": {
        "id": "uKhvxVEgKgYH"
      },
      "source": [
        "# Загрузка и чтение данных"
      ]
    },
    {
      "cell_type": "code",
      "source": [
        "# Читаем подготовленные данные\n",
        "# Предобработка выполнена ранее (ноутбук \"Часть 1 (задания 1 и 2)\")\n",
        "\n",
        "train = pd.read_csv('/content/df.csv').dropna()\n",
        "train.drop(train.columns[0], axis=1, inplace=True)\n",
        "train"
      ],
      "metadata": {
        "colab": {
          "base_uri": "https://localhost:8080/",
          "height": 424
        },
        "id": "4uIr4-vDJI7T",
        "outputId": "7f45f572-e7c9-4b89-bba3-d97b936bd969"
      },
      "execution_count": null,
      "outputs": [
        {
          "output_type": "execute_result",
          "data": {
            "text/plain": [
              "                                                    text               label\n",
              "0                                               and and              Neutral\n",
              "1      advice talk to your neighbours family to excha...            Positive\n",
              "2      coronavirus australia woolworths to give elder...            Positive\n",
              "3      my food stock is not the only one which is emp...            Positive\n",
              "4      me ready to go at supermarket during the covid...  Extremely Negative\n",
              "...                                                  ...                 ...\n",
              "41150  airline pilots offering to stock supermarket s...             Neutral\n",
              "41151  response to complaint not provided citing covi...  Extremely Negative\n",
              "41152  you know it s getting tough when is rationing ...            Positive\n",
              "41153  is it wrong that the smell of hand sanitizer i...             Neutral\n",
              "41154   well new used rift s are going for  on amazon...            Negative\n",
              "\n",
              "[41155 rows x 2 columns]"
            ],
            "text/html": [
              "\n",
              "  <div id=\"df-ef243945-eaf8-45da-be1e-a622235e7f1b\">\n",
              "    <div class=\"colab-df-container\">\n",
              "      <div>\n",
              "<style scoped>\n",
              "    .dataframe tbody tr th:only-of-type {\n",
              "        vertical-align: middle;\n",
              "    }\n",
              "\n",
              "    .dataframe tbody tr th {\n",
              "        vertical-align: top;\n",
              "    }\n",
              "\n",
              "    .dataframe thead th {\n",
              "        text-align: right;\n",
              "    }\n",
              "</style>\n",
              "<table border=\"1\" class=\"dataframe\">\n",
              "  <thead>\n",
              "    <tr style=\"text-align: right;\">\n",
              "      <th></th>\n",
              "      <th>text</th>\n",
              "      <th>label</th>\n",
              "    </tr>\n",
              "  </thead>\n",
              "  <tbody>\n",
              "    <tr>\n",
              "      <th>0</th>\n",
              "      <td>and and</td>\n",
              "      <td>Neutral</td>\n",
              "    </tr>\n",
              "    <tr>\n",
              "      <th>1</th>\n",
              "      <td>advice talk to your neighbours family to excha...</td>\n",
              "      <td>Positive</td>\n",
              "    </tr>\n",
              "    <tr>\n",
              "      <th>2</th>\n",
              "      <td>coronavirus australia woolworths to give elder...</td>\n",
              "      <td>Positive</td>\n",
              "    </tr>\n",
              "    <tr>\n",
              "      <th>3</th>\n",
              "      <td>my food stock is not the only one which is emp...</td>\n",
              "      <td>Positive</td>\n",
              "    </tr>\n",
              "    <tr>\n",
              "      <th>4</th>\n",
              "      <td>me ready to go at supermarket during the covid...</td>\n",
              "      <td>Extremely Negative</td>\n",
              "    </tr>\n",
              "    <tr>\n",
              "      <th>...</th>\n",
              "      <td>...</td>\n",
              "      <td>...</td>\n",
              "    </tr>\n",
              "    <tr>\n",
              "      <th>41150</th>\n",
              "      <td>airline pilots offering to stock supermarket s...</td>\n",
              "      <td>Neutral</td>\n",
              "    </tr>\n",
              "    <tr>\n",
              "      <th>41151</th>\n",
              "      <td>response to complaint not provided citing covi...</td>\n",
              "      <td>Extremely Negative</td>\n",
              "    </tr>\n",
              "    <tr>\n",
              "      <th>41152</th>\n",
              "      <td>you know it s getting tough when is rationing ...</td>\n",
              "      <td>Positive</td>\n",
              "    </tr>\n",
              "    <tr>\n",
              "      <th>41153</th>\n",
              "      <td>is it wrong that the smell of hand sanitizer i...</td>\n",
              "      <td>Neutral</td>\n",
              "    </tr>\n",
              "    <tr>\n",
              "      <th>41154</th>\n",
              "      <td>well new used rift s are going for  on amazon...</td>\n",
              "      <td>Negative</td>\n",
              "    </tr>\n",
              "  </tbody>\n",
              "</table>\n",
              "<p>41155 rows × 2 columns</p>\n",
              "</div>\n",
              "      <button class=\"colab-df-convert\" onclick=\"convertToInteractive('df-ef243945-eaf8-45da-be1e-a622235e7f1b')\"\n",
              "              title=\"Convert this dataframe to an interactive table.\"\n",
              "              style=\"display:none;\">\n",
              "        \n",
              "  <svg xmlns=\"http://www.w3.org/2000/svg\" height=\"24px\"viewBox=\"0 0 24 24\"\n",
              "       width=\"24px\">\n",
              "    <path d=\"M0 0h24v24H0V0z\" fill=\"none\"/>\n",
              "    <path d=\"M18.56 5.44l.94 2.06.94-2.06 2.06-.94-2.06-.94-.94-2.06-.94 2.06-2.06.94zm-11 1L8.5 8.5l.94-2.06 2.06-.94-2.06-.94L8.5 2.5l-.94 2.06-2.06.94zm10 10l.94 2.06.94-2.06 2.06-.94-2.06-.94-.94-2.06-.94 2.06-2.06.94z\"/><path d=\"M17.41 7.96l-1.37-1.37c-.4-.4-.92-.59-1.43-.59-.52 0-1.04.2-1.43.59L10.3 9.45l-7.72 7.72c-.78.78-.78 2.05 0 2.83L4 21.41c.39.39.9.59 1.41.59.51 0 1.02-.2 1.41-.59l7.78-7.78 2.81-2.81c.8-.78.8-2.07 0-2.86zM5.41 20L4 18.59l7.72-7.72 1.47 1.35L5.41 20z\"/>\n",
              "  </svg>\n",
              "      </button>\n",
              "      \n",
              "  <style>\n",
              "    .colab-df-container {\n",
              "      display:flex;\n",
              "      flex-wrap:wrap;\n",
              "      gap: 12px;\n",
              "    }\n",
              "\n",
              "    .colab-df-convert {\n",
              "      background-color: #E8F0FE;\n",
              "      border: none;\n",
              "      border-radius: 50%;\n",
              "      cursor: pointer;\n",
              "      display: none;\n",
              "      fill: #1967D2;\n",
              "      height: 32px;\n",
              "      padding: 0 0 0 0;\n",
              "      width: 32px;\n",
              "    }\n",
              "\n",
              "    .colab-df-convert:hover {\n",
              "      background-color: #E2EBFA;\n",
              "      box-shadow: 0px 1px 2px rgba(60, 64, 67, 0.3), 0px 1px 3px 1px rgba(60, 64, 67, 0.15);\n",
              "      fill: #174EA6;\n",
              "    }\n",
              "\n",
              "    [theme=dark] .colab-df-convert {\n",
              "      background-color: #3B4455;\n",
              "      fill: #D2E3FC;\n",
              "    }\n",
              "\n",
              "    [theme=dark] .colab-df-convert:hover {\n",
              "      background-color: #434B5C;\n",
              "      box-shadow: 0px 1px 3px 1px rgba(0, 0, 0, 0.15);\n",
              "      filter: drop-shadow(0px 1px 2px rgba(0, 0, 0, 0.3));\n",
              "      fill: #FFFFFF;\n",
              "    }\n",
              "  </style>\n",
              "\n",
              "      <script>\n",
              "        const buttonEl =\n",
              "          document.querySelector('#df-ef243945-eaf8-45da-be1e-a622235e7f1b button.colab-df-convert');\n",
              "        buttonEl.style.display =\n",
              "          google.colab.kernel.accessAllowed ? 'block' : 'none';\n",
              "\n",
              "        async function convertToInteractive(key) {\n",
              "          const element = document.querySelector('#df-ef243945-eaf8-45da-be1e-a622235e7f1b');\n",
              "          const dataTable =\n",
              "            await google.colab.kernel.invokeFunction('convertToInteractive',\n",
              "                                                     [key], {});\n",
              "          if (!dataTable) return;\n",
              "\n",
              "          const docLinkHtml = 'Like what you see? Visit the ' +\n",
              "            '<a target=\"_blank\" href=https://colab.research.google.com/notebooks/data_table.ipynb>data table notebook</a>'\n",
              "            + ' to learn more about interactive tables.';\n",
              "          element.innerHTML = '';\n",
              "          dataTable['output_type'] = 'display_data';\n",
              "          await google.colab.output.renderOutput(dataTable, element);\n",
              "          const docLink = document.createElement('div');\n",
              "          docLink.innerHTML = docLinkHtml;\n",
              "          element.appendChild(docLink);\n",
              "        }\n",
              "      </script>\n",
              "    </div>\n",
              "  </div>\n",
              "  "
            ]
          },
          "metadata": {},
          "execution_count": 232
        }
      ]
    },
    {
      "cell_type": "markdown",
      "metadata": {
        "id": "iWFdM0iuKoz5"
      },
      "source": [
        "#Формирование обучающей и валидационной выборок"
      ]
    },
    {
      "cell_type": "code",
      "source": [
        "# Посмотрим распределение классов\n",
        "# Имеем 5 классов, классы несбалансированы\n",
        "\n",
        "train.label.value_counts()"
      ],
      "metadata": {
        "colab": {
          "base_uri": "https://localhost:8080/"
        },
        "id": "-F5Vnr5XzJ_J",
        "outputId": "3e376b1f-cb53-42fa-e156-6662a1e522d9"
      },
      "execution_count": null,
      "outputs": [
        {
          "output_type": "execute_result",
          "data": {
            "text/plain": [
              "Positive              11422\n",
              "Negative               9917\n",
              "Neutral                7711\n",
              "Extremely Positive     6624\n",
              "Extremely Negative     5481\n",
              "Name: label, dtype: int64"
            ]
          },
          "metadata": {},
          "execution_count": 233
        }
      ]
    },
    {
      "cell_type": "code",
      "execution_count": null,
      "metadata": {
        "colab": {
          "base_uri": "https://localhost:8080/"
        },
        "id": "lY9sxzNwLSRf",
        "outputId": "4605efc8-f66b-4e30-8931-0dd5ff89c6ba"
      },
      "outputs": [
        {
          "output_type": "stream",
          "name": "stdout",
          "text": [
            "Количество категорий для классификации: 5\n"
          ]
        }
      ],
      "source": [
        "# Подсчитаем количество категорий для классификации\n",
        "\n",
        "num_classes = len(train.label.value_counts())\n",
        "print('Количество категорий для классификации: {}'.format(num_classes))"
      ]
    },
    {
      "cell_type": "code",
      "source": [
        "# Переведем метки классов в диапазон значение 0-4\n",
        "\n",
        "LABEL_TO_ID = {'Extremely Negative': 0, 'Negative': 1,  'Neutral': 2,\n",
        "               'Positive': 3, 'Extremely Positive': 4}\n",
        "train.replace({'label': LABEL_TO_ID}, inplace=True)"
      ],
      "metadata": {
        "id": "PtSFT3DV_1Pf"
      },
      "execution_count": null,
      "outputs": []
    },
    {
      "cell_type": "code",
      "source": [
        "# Разбиваем выборку на тренировочную и валидационную\n",
        "\n",
        "X_train, X_val, y_train, y_val = train_test_split(train.text,\n",
        "                                                  train.label,\n",
        "                                                  test_size=0.2,\n",
        "                                                  random_state=42\n",
        "                                                  )"
      ],
      "metadata": {
        "id": "nZpqiq3jzy9O"
      },
      "execution_count": null,
      "outputs": []
    },
    {
      "cell_type": "code",
      "source": [
        "# Проверим размерность получившихся выборок\n",
        "\n",
        "X_train.shape, y_train.shape, X_val.shape, y_val.shape"
      ],
      "metadata": {
        "colab": {
          "base_uri": "https://localhost:8080/"
        },
        "id": "bFeLYg0Dzmwa",
        "outputId": "6b50efdb-ea6b-4def-e488-f21331b22fd5"
      },
      "execution_count": null,
      "outputs": [
        {
          "output_type": "execute_result",
          "data": {
            "text/plain": [
              "((32924,), (32924,), (8231,), (8231,))"
            ]
          },
          "metadata": {},
          "execution_count": 237
        }
      ]
    },
    {
      "cell_type": "markdown",
      "source": [
        "#Метод векторизации текстов TF-IDF\n",
        ""
      ],
      "metadata": {
        "id": "UgzTpK9E3v-I"
      }
    },
    {
      "cell_type": "markdown",
      "source": [
        "Извлечение функций из текстовых файлов"
      ],
      "metadata": {
        "id": "0VoUWBz44EHN"
      }
    },
    {
      "cell_type": "code",
      "source": [
        "# Преобразуем текстовые файлы в числовые векторы функций\n",
        "\n",
        "count_vect = CountVectorizer()\n",
        "X_train_counts = count_vect.fit_transform(X_train)\n",
        "X_train_counts.shape"
      ],
      "metadata": {
        "colab": {
          "base_uri": "https://localhost:8080/"
        },
        "id": "1PeFObR133Bb",
        "outputId": "3cd55ba2-8ef1-4734-daaa-7f8c4a4ea351"
      },
      "execution_count": null,
      "outputs": [
        {
          "output_type": "execute_result",
          "data": {
            "text/plain": [
              "(32924, 40905)"
            ]
          },
          "metadata": {},
          "execution_count": 241
        }
      ]
    },
    {
      "cell_type": "code",
      "source": [
        "# Методом TF-IDF получаем эмбеддинги\n",
        "\n",
        "tfidf_transformer = TfidfTransformer()"
      ],
      "metadata": {
        "id": "zXC6rmNh4L_X"
      },
      "execution_count": null,
      "outputs": []
    },
    {
      "cell_type": "markdown",
      "source": [
        "##Классификация методом MultinomialNB"
      ],
      "metadata": {
        "id": "-70HJYTW4PTs"
      }
    },
    {
      "cell_type": "code",
      "source": [
        "# Построим конвейер операций\n",
        "\n",
        "text_clf = Pipeline([('vect', CountVectorizer()),\n",
        "                     ('tfidf', TfidfTransformer()), ('clf', MultinomialNB())])\n",
        "text_clf = text_clf.fit(X_train, y_train)"
      ],
      "metadata": {
        "id": "bKiI-lfC4Y3q"
      },
      "execution_count": null,
      "outputs": []
    },
    {
      "cell_type": "code",
      "source": [
        "# Получим предсказание модели\n",
        "\n",
        "predicted = text_clf.predict(X_val)\n",
        "np.mean(predicted == y_val)"
      ],
      "metadata": {
        "colab": {
          "base_uri": "https://localhost:8080/"
        },
        "id": "lo2Dd8cb4rZJ",
        "outputId": "d6a47311-c73f-475b-92d4-eed26333274c"
      },
      "execution_count": null,
      "outputs": [
        {
          "output_type": "execute_result",
          "data": {
            "text/plain": [
              "0.36824201190620826"
            ]
          },
          "metadata": {},
          "execution_count": 244
        }
      ]
    },
    {
      "cell_type": "code",
      "source": [
        "# Выведем метрики классификации\n",
        "\n",
        "print(metrics.classification_report(predicted, y_val))"
      ],
      "metadata": {
        "colab": {
          "base_uri": "https://localhost:8080/"
        },
        "id": "iEGmmy7N4vXr",
        "outputId": "f3cf4b6d-687a-45c0-d524-a1d55df2f279"
      },
      "execution_count": null,
      "outputs": [
        {
          "output_type": "stream",
          "name": "stdout",
          "text": [
            "              precision    recall  f1-score   support\n",
            "\n",
            "           0       0.01      0.83      0.03        18\n",
            "           1       0.40      0.40      0.40      1999\n",
            "           2       0.08      0.80      0.15       156\n",
            "           3       0.90      0.34      0.50      6027\n",
            "           4       0.02      0.84      0.04        31\n",
            "\n",
            "    accuracy                           0.37      8231\n",
            "   macro avg       0.28      0.64      0.22      8231\n",
            "weighted avg       0.76      0.37      0.46      8231\n",
            "\n"
          ]
        }
      ]
    },
    {
      "cell_type": "markdown",
      "source": [
        "Получили неудовлетворительные результаты."
      ],
      "metadata": {
        "id": "D7eoNPEKyAu8"
      }
    },
    {
      "cell_type": "markdown",
      "source": [
        "##Классификация методом SGDClassifier"
      ],
      "metadata": {
        "id": "rrYHvcgA46yd"
      }
    },
    {
      "cell_type": "code",
      "source": [
        "# Training Support Vector Machines - SVM and calculating its performance\n",
        "\n",
        "text_clf_svm = Pipeline([('vect', CountVectorizer()),\n",
        "                         ('tfidf', TfidfTransformer()),\n",
        "                         ('clf-svm', SGDClassifier(loss='hinge', penalty='l2',\n",
        "                                                   alpha=1e-3, max_iter=5,\n",
        "                                                   random_state=42))])\n",
        "\n",
        "text_clf_svm = text_clf_svm.fit(X_train, y_train)\n",
        "predicted_svm = text_clf_svm.predict(X_val)\n",
        "np.mean(predicted_svm == y_val)"
      ],
      "metadata": {
        "colab": {
          "base_uri": "https://localhost:8080/"
        },
        "id": "43uZtb0549jw",
        "outputId": "69ceff80-32ec-495a-c521-3ccfda2656b7"
      },
      "execution_count": null,
      "outputs": [
        {
          "output_type": "stream",
          "name": "stderr",
          "text": [
            "/usr/local/lib/python3.8/dist-packages/sklearn/linear_model/_stochastic_gradient.py:696: ConvergenceWarning: Maximum number of iteration reached before convergence. Consider increasing max_iter to improve the fit.\n",
            "  warnings.warn(\n"
          ]
        },
        {
          "output_type": "execute_result",
          "data": {
            "text/plain": [
              "0.5355363868302758"
            ]
          },
          "metadata": {},
          "execution_count": 246
        }
      ]
    },
    {
      "cell_type": "code",
      "source": [
        "# Выведем метрики классификации\n",
        "\n",
        "print(metrics.classification_report(predicted_svm, y_val))"
      ],
      "metadata": {
        "colab": {
          "base_uri": "https://localhost:8080/"
        },
        "id": "4xzzNGUU5A4O",
        "outputId": "17e014bc-414b-4ae0-c84a-755008aa72fb"
      },
      "execution_count": null,
      "outputs": [
        {
          "output_type": "stream",
          "name": "stdout",
          "text": [
            "              precision    recall  f1-score   support\n",
            "\n",
            "           0       0.75      0.51      0.61      1583\n",
            "           1       0.37      0.51      0.43      1416\n",
            "           2       0.72      0.57      0.64      1943\n",
            "           3       0.31      0.55      0.39      1294\n",
            "           4       0.79      0.53      0.64      1995\n",
            "\n",
            "    accuracy                           0.54      8231\n",
            "   macro avg       0.59      0.53      0.54      8231\n",
            "weighted avg       0.62      0.54      0.56      8231\n",
            "\n"
          ]
        }
      ]
    },
    {
      "cell_type": "markdown",
      "source": [
        "#Применяемые метрики"
      ],
      "metadata": {
        "id": "nL2bn---5Edd"
      }
    },
    {
      "cell_type": "markdown",
      "source": [
        "В связи с тем, что датасет не сбалансирован, метрику «accuracy» (доля верных ответов) использовать нецелесообразно, так как  может привести к завышенной оценке качества работы классификатора. В данном случае самое оптимальное – считать сразу несколько метрик, устойчивых к распределению классов (в данном случае, это — точность, полнота и f-мера) и смотреть на них все. Если нам удобно получить одно число, по которому можно понять, насколько хорошо модель работает, то к нашей задаче лучше всего подходит «macro-avg» (сначала подсчитывается каждая метрика по каждому классу, а потом усредняется). Macro-avg более устойчива к скошенным распределениям классов.\n",
        "\n",
        "Показатель accuracy приведен справочно."
      ],
      "metadata": {
        "id": "gWfYLvsA5I87"
      }
    },
    {
      "cell_type": "markdown",
      "source": [
        "#Выводы"
      ],
      "metadata": {
        "id": "vSQ8xmZRAZSI"
      }
    },
    {
      "cell_type": "markdown",
      "source": [
        " Применили 2 метода классификации текстов.\n",
        "\n",
        " Метод классификации текста SGDClassifier показал лучшие результаты по сравнению с методом MultinomialNB:\n",
        "\n",
        "\n",
        "*   accuracy составила 0.54 против 0.37;\n",
        "\n",
        "*   precision - 0.59 против 0.28;\n",
        "\n",
        "\n",
        "*   recall - 0.53 против 0.64 (единственный показатель метода SGDClassifier, уступающий методу MultinomialNB)\n",
        "*   f1-score - 0.54 против 0.22\n",
        "\n",
        "\n",
        "Модель лучше предсказывает более многочисленные классы (f1-score по ним составляет 0.61-0.64), f1-score по остальным классам составила 0.39-0.43.\n",
        "\n",
        "\n",
        "Модель SGDClassifier лучше справилась с задачей классификации текстов по сравнению с наивными методами (реализованы без использования ML), отраженными в блокноте \"Часть 1 (задачи 1 и 2)\".\n"
      ],
      "metadata": {
        "id": "8F172WU09Dr6"
      }
    }
  ],
  "metadata": {
    "colab": {
      "provenance": []
    },
    "gpuClass": "standard",
    "kernelspec": {
      "display_name": "Python 3",
      "name": "python3"
    },
    "language_info": {
      "name": "python"
    }
  },
  "nbformat": 4,
  "nbformat_minor": 0
}