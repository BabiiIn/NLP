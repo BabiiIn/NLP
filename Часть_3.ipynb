{
  "cells": [
    {
      "cell_type": "markdown",
      "metadata": {
        "id": "view-in-github",
        "colab_type": "text"
      },
      "source": [
        "<a href=\"https://colab.research.google.com/github/BabiiIn/NLP/blob/main/%D0%A7%D0%B0%D1%81%D1%82%D1%8C_3.ipynb\" target=\"_parent\"><img src=\"https://colab.research.google.com/assets/colab-badge.svg\" alt=\"Open In Colab\"/></a>"
      ]
    },
    {
      "cell_type": "markdown",
      "source": [
        "# **Реализация классической ML-модели поверх векторов из  BERT-модели**"
      ],
      "metadata": {
        "id": "gCgu_yqnVAVX"
      }
    },
    {
      "cell_type": "markdown",
      "source": [
        "Задача 3.\n",
        "1. Обучить модель классического ML на основе векторов, полученной из предобученной BERT- модели.  \n",
        "2. Дообучить предобученную модель на данных из задачи.\n",
        "3. Посчитать метрики.\n"
      ],
      "metadata": {
        "id": "UEUhfehmA2JO"
      }
    },
    {
      "cell_type": "markdown",
      "source": [
        "Работа выполнена с использованием статей:  \n",
        "https://towardsdatascience.com/distilling-bert-how-to-achieve-bert-performance-using-logistic-regression-69a7fc14249d  \n",
        "\n",
        "https://towardsdatascience.com/bert-to-the-rescue-17671379687f"
      ],
      "metadata": {
        "id": "dUzSbP85x2DK"
      }
    },
    {
      "cell_type": "markdown",
      "source": [
        "Основная идея состоит в том, чтобы дообучить на наших данных BERT-модель, затем использовать необработанные прогнозы (т.е. предсказания перед конечной функцией активации) дообученной BERT-модели для обучения классической ML-модели.  \n",
        "Таким образом, чтобы решить поставленную задачу и добиться необходимого accuracy, мы попытаемся добиться высокой производительности BERT-модели на классической ML-модели."
      ],
      "metadata": {
        "id": "TT5M_z3OBmbX"
      }
    },
    {
      "cell_type": "markdown",
      "metadata": {
        "id": "7D5xMUhroIGS"
      },
      "source": [
        "# Импорт библиотек\n"
      ]
    },
    {
      "cell_type": "code",
      "source": [
        "!pip install pytorch_pretrained_bert pytorch-nlp"
      ],
      "metadata": {
        "id": "ufbcWTRIezBr"
      },
      "execution_count": null,
      "outputs": []
    },
    {
      "cell_type": "code",
      "source": [
        "%matplotlib inline\n",
        "import sys\n",
        "import itertools\n",
        "import numpy as np\n",
        "import pandas as pd\n",
        "import random as rn\n",
        "import matplotlib.pyplot as plt\n",
        "import torch\n",
        "import tensorflow as tf\n",
        "\n",
        "from sklearn.utils.extmath import softmax\n",
        "from pytorch_pretrained_bert import BertModel\n",
        "from torch import nn\n",
        "from torchnlp.datasets import imdb_dataset\n",
        "from pytorch_pretrained_bert import BertTokenizer\n",
        "from keras_preprocessing.sequence import pad_sequences\n",
        "from torch.utils.data import TensorDataset, DataLoader\n",
        "from torch.utils.data import RandomSampler, SequentialSampler\n",
        "from torch.optim import Adam\n",
        "from torch.nn.utils import clip_grad_norm_\n",
        "from IPython.display import clear_output\n",
        "from sklearn.feature_extraction.text import CountVectorizer\n",
        "from sklearn.linear_model import LogisticRegression\n",
        "from sklearn.pipeline import make_pipeline\n",
        "from sklearn.metrics import classification_report\n",
        "from sklearn.model_selection import train_test_split\n",
        "\n",
        "%matplotlib inline"
      ],
      "metadata": {
        "id": "BtfESL9Re-FS"
      },
      "execution_count": null,
      "outputs": []
    },
    {
      "cell_type": "code",
      "source": [
        "rn.seed(321)\n",
        "np.random.seed(321)\n",
        "torch.manual_seed(321)\n",
        "torch.cuda.manual_seed(321)\n",
        "torch.backends.cudnn.deterministic = True\n",
        "torch.backends.cudnn.benchmark = False"
      ],
      "metadata": {
        "id": "v0N4KYxatpPu"
      },
      "execution_count": null,
      "outputs": []
    },
    {
      "cell_type": "markdown",
      "metadata": {
        "id": "AruuB0NsowwY"
      },
      "source": [
        "# Загружаем очищенные данные"
      ]
    },
    {
      "cell_type": "markdown",
      "source": [
        "Данные были подготовлены в рамках выполнения Задачи 2"
      ],
      "metadata": {
        "id": "JIlLiJR47Lq5"
      }
    },
    {
      "cell_type": "code",
      "source": [
        "train = pd.read_csv('/content/df.csv').dropna()\n",
        "train.drop(train.columns[0], axis=1, inplace=True)\n",
        "train"
      ],
      "metadata": {
        "id": "L3cJzMJFea9I",
        "colab": {
          "base_uri": "https://localhost:8080/",
          "height": 423
        },
        "outputId": "1a242dec-c81b-419a-dfe8-48a586cb412d"
      },
      "execution_count": null,
      "outputs": [
        {
          "output_type": "execute_result",
          "data": {
            "text/plain": [
              "                                                    text               label\n",
              "0                                               and and              Neutral\n",
              "1      advice talk to your neighbours family to excha...            Positive\n",
              "2      coronavirus australia woolworths to give elder...            Positive\n",
              "3      my food stock is not the only one which is emp...            Positive\n",
              "4      me ready to go at supermarket during the covid...  Extremely Negative\n",
              "...                                                  ...                 ...\n",
              "40863  airline pilots offering to stock supermarket s...             Neutral\n",
              "40864  response to complaint not provided citing covi...  Extremely Negative\n",
              "40865  you know it s getting tough when is rationing ...            Positive\n",
              "40866  is it wrong that the smell of hand sanitizer i...             Neutral\n",
              "40867   well new used rift s are going for  on amazon...            Negative\n",
              "\n",
              "[40868 rows x 2 columns]"
            ],
            "text/html": [
              "\n",
              "  <div id=\"df-254f3b53-a013-4cce-97dc-f6613259bf29\">\n",
              "    <div class=\"colab-df-container\">\n",
              "      <div>\n",
              "<style scoped>\n",
              "    .dataframe tbody tr th:only-of-type {\n",
              "        vertical-align: middle;\n",
              "    }\n",
              "\n",
              "    .dataframe tbody tr th {\n",
              "        vertical-align: top;\n",
              "    }\n",
              "\n",
              "    .dataframe thead th {\n",
              "        text-align: right;\n",
              "    }\n",
              "</style>\n",
              "<table border=\"1\" class=\"dataframe\">\n",
              "  <thead>\n",
              "    <tr style=\"text-align: right;\">\n",
              "      <th></th>\n",
              "      <th>text</th>\n",
              "      <th>label</th>\n",
              "    </tr>\n",
              "  </thead>\n",
              "  <tbody>\n",
              "    <tr>\n",
              "      <th>0</th>\n",
              "      <td>and and</td>\n",
              "      <td>Neutral</td>\n",
              "    </tr>\n",
              "    <tr>\n",
              "      <th>1</th>\n",
              "      <td>advice talk to your neighbours family to excha...</td>\n",
              "      <td>Positive</td>\n",
              "    </tr>\n",
              "    <tr>\n",
              "      <th>2</th>\n",
              "      <td>coronavirus australia woolworths to give elder...</td>\n",
              "      <td>Positive</td>\n",
              "    </tr>\n",
              "    <tr>\n",
              "      <th>3</th>\n",
              "      <td>my food stock is not the only one which is emp...</td>\n",
              "      <td>Positive</td>\n",
              "    </tr>\n",
              "    <tr>\n",
              "      <th>4</th>\n",
              "      <td>me ready to go at supermarket during the covid...</td>\n",
              "      <td>Extremely Negative</td>\n",
              "    </tr>\n",
              "    <tr>\n",
              "      <th>...</th>\n",
              "      <td>...</td>\n",
              "      <td>...</td>\n",
              "    </tr>\n",
              "    <tr>\n",
              "      <th>40863</th>\n",
              "      <td>airline pilots offering to stock supermarket s...</td>\n",
              "      <td>Neutral</td>\n",
              "    </tr>\n",
              "    <tr>\n",
              "      <th>40864</th>\n",
              "      <td>response to complaint not provided citing covi...</td>\n",
              "      <td>Extremely Negative</td>\n",
              "    </tr>\n",
              "    <tr>\n",
              "      <th>40865</th>\n",
              "      <td>you know it s getting tough when is rationing ...</td>\n",
              "      <td>Positive</td>\n",
              "    </tr>\n",
              "    <tr>\n",
              "      <th>40866</th>\n",
              "      <td>is it wrong that the smell of hand sanitizer i...</td>\n",
              "      <td>Neutral</td>\n",
              "    </tr>\n",
              "    <tr>\n",
              "      <th>40867</th>\n",
              "      <td>well new used rift s are going for  on amazon...</td>\n",
              "      <td>Negative</td>\n",
              "    </tr>\n",
              "  </tbody>\n",
              "</table>\n",
              "<p>40868 rows × 2 columns</p>\n",
              "</div>\n",
              "      <button class=\"colab-df-convert\" onclick=\"convertToInteractive('df-254f3b53-a013-4cce-97dc-f6613259bf29')\"\n",
              "              title=\"Convert this dataframe to an interactive table.\"\n",
              "              style=\"display:none;\">\n",
              "        \n",
              "  <svg xmlns=\"http://www.w3.org/2000/svg\" height=\"24px\"viewBox=\"0 0 24 24\"\n",
              "       width=\"24px\">\n",
              "    <path d=\"M0 0h24v24H0V0z\" fill=\"none\"/>\n",
              "    <path d=\"M18.56 5.44l.94 2.06.94-2.06 2.06-.94-2.06-.94-.94-2.06-.94 2.06-2.06.94zm-11 1L8.5 8.5l.94-2.06 2.06-.94-2.06-.94L8.5 2.5l-.94 2.06-2.06.94zm10 10l.94 2.06.94-2.06 2.06-.94-2.06-.94-.94-2.06-.94 2.06-2.06.94z\"/><path d=\"M17.41 7.96l-1.37-1.37c-.4-.4-.92-.59-1.43-.59-.52 0-1.04.2-1.43.59L10.3 9.45l-7.72 7.72c-.78.78-.78 2.05 0 2.83L4 21.41c.39.39.9.59 1.41.59.51 0 1.02-.2 1.41-.59l7.78-7.78 2.81-2.81c.8-.78.8-2.07 0-2.86zM5.41 20L4 18.59l7.72-7.72 1.47 1.35L5.41 20z\"/>\n",
              "  </svg>\n",
              "      </button>\n",
              "      \n",
              "  <style>\n",
              "    .colab-df-container {\n",
              "      display:flex;\n",
              "      flex-wrap:wrap;\n",
              "      gap: 12px;\n",
              "    }\n",
              "\n",
              "    .colab-df-convert {\n",
              "      background-color: #E8F0FE;\n",
              "      border: none;\n",
              "      border-radius: 50%;\n",
              "      cursor: pointer;\n",
              "      display: none;\n",
              "      fill: #1967D2;\n",
              "      height: 32px;\n",
              "      padding: 0 0 0 0;\n",
              "      width: 32px;\n",
              "    }\n",
              "\n",
              "    .colab-df-convert:hover {\n",
              "      background-color: #E2EBFA;\n",
              "      box-shadow: 0px 1px 2px rgba(60, 64, 67, 0.3), 0px 1px 3px 1px rgba(60, 64, 67, 0.15);\n",
              "      fill: #174EA6;\n",
              "    }\n",
              "\n",
              "    [theme=dark] .colab-df-convert {\n",
              "      background-color: #3B4455;\n",
              "      fill: #D2E3FC;\n",
              "    }\n",
              "\n",
              "    [theme=dark] .colab-df-convert:hover {\n",
              "      background-color: #434B5C;\n",
              "      box-shadow: 0px 1px 3px 1px rgba(0, 0, 0, 0.15);\n",
              "      filter: drop-shadow(0px 1px 2px rgba(0, 0, 0, 0.3));\n",
              "      fill: #FFFFFF;\n",
              "    }\n",
              "  </style>\n",
              "\n",
              "      <script>\n",
              "        const buttonEl =\n",
              "          document.querySelector('#df-254f3b53-a013-4cce-97dc-f6613259bf29 button.colab-df-convert');\n",
              "        buttonEl.style.display =\n",
              "          google.colab.kernel.accessAllowed ? 'block' : 'none';\n",
              "\n",
              "        async function convertToInteractive(key) {\n",
              "          const element = document.querySelector('#df-254f3b53-a013-4cce-97dc-f6613259bf29');\n",
              "          const dataTable =\n",
              "            await google.colab.kernel.invokeFunction('convertToInteractive',\n",
              "                                                     [key], {});\n",
              "          if (!dataTable) return;\n",
              "\n",
              "          const docLinkHtml = 'Like what you see? Visit the ' +\n",
              "            '<a target=\"_blank\" href=https://colab.research.google.com/notebooks/data_table.ipynb>data table notebook</a>'\n",
              "            + ' to learn more about interactive tables.';\n",
              "          element.innerHTML = '';\n",
              "          dataTable['output_type'] = 'display_data';\n",
              "          await google.colab.output.renderOutput(dataTable, element);\n",
              "          const docLink = document.createElement('div');\n",
              "          docLink.innerHTML = docLinkHtml;\n",
              "          element.appendChild(docLink);\n",
              "        }\n",
              "      </script>\n",
              "    </div>\n",
              "  </div>\n",
              "  "
            ]
          },
          "metadata": {},
          "execution_count": 4
        }
      ]
    },
    {
      "cell_type": "code",
      "source": [
        "# Количество категорий для классификации\n",
        "num_classes = len(train.label.value_counts())\n",
        "print('Количество категорий для классификации: {}'.format(num_classes))"
      ],
      "metadata": {
        "colab": {
          "base_uri": "https://localhost:8080/"
        },
        "id": "P5TCyNwtFPK6",
        "outputId": "16328c65-9f61-4d73-f149-50a990364707"
      },
      "execution_count": null,
      "outputs": [
        {
          "output_type": "stream",
          "name": "stdout",
          "text": [
            "Количество категорий для классификации: 5\n"
          ]
        }
      ]
    },
    {
      "cell_type": "markdown",
      "metadata": {
        "id": "fRjpdhFrpM04"
      },
      "source": [
        "# Предобработка данных"
      ]
    },
    {
      "cell_type": "markdown",
      "source": [
        "Разобьем исходные данные на 2 части: 20% - part_1 и 80% -part_2.  \n",
        "\n",
        "Данные в размере 20% от выборки (part_1) будем использовать для дообучения BERT-модели на наших данных.  \n",
        "\n",
        "Данные в размере 80% от выборки (part_2) будем использовать для получения из дообученной BERT-модели необработанных logits, которые далее применим для обучения классической ML-модели.\n"
      ],
      "metadata": {
        "id": "ra7MgkGDjmEM"
      }
    },
    {
      "cell_type": "code",
      "source": [
        "# Разбиваем данные на 2 части в пропорции 20/80\n",
        "\n",
        "part_1, part_2 = train_test_split(train, train_size=.2)\n",
        "part_1.shape, part_2.shape"
      ],
      "metadata": {
        "colab": {
          "base_uri": "https://localhost:8080/"
        },
        "id": "lQH8mb-_uFqR",
        "outputId": "c8711e37-a51c-4b96-9514-3115e1079874"
      },
      "execution_count": null,
      "outputs": [
        {
          "output_type": "execute_result",
          "data": {
            "text/plain": [
              "((8173, 2), (32695, 2))"
            ]
          },
          "metadata": {},
          "execution_count": 6
        }
      ]
    },
    {
      "cell_type": "code",
      "source": [
        "# Кодируем категориальные признаки - метки классов\n",
        "df_ohe_y = part_1['label'].copy()\n",
        "y_ohe = pd.get_dummies(df_ohe_y)\n",
        "print('Размерность y_ohe:', y_ohe.shape)"
      ],
      "metadata": {
        "colab": {
          "base_uri": "https://localhost:8080/"
        },
        "id": "Tq0HOZG7vIuV",
        "outputId": "e3541431-c6df-449f-91d1-82c4f0c60f46"
      },
      "execution_count": null,
      "outputs": [
        {
          "output_type": "stream",
          "name": "stdout",
          "text": [
            "Размерность y_ohe: (8173, 5)\n"
          ]
        }
      ]
    },
    {
      "cell_type": "code",
      "source": [
        "# Из первой части данных (part_1) формируем тренировочные и проверочные данные\n",
        "\n",
        "X_train, X_test, y_train, y_test = train_test_split(\n",
        "    part_1[\"text\"].values.tolist(),\n",
        "    y_ohe.values.tolist(),\n",
        "    test_size=.5\n",
        ")\n",
        "len(X_train), len(X_test), len(y_train), len(y_test)"
      ],
      "metadata": {
        "id": "oxyBwuCK3H5Q",
        "colab": {
          "base_uri": "https://localhost:8080/"
        },
        "outputId": "fced7e79-56cf-431b-a6d8-777ea310b562"
      },
      "execution_count": null,
      "outputs": [
        {
          "output_type": "execute_result",
          "data": {
            "text/plain": [
              "(4086, 4087, 4086, 4087)"
            ]
          },
          "metadata": {},
          "execution_count": 8
        }
      ]
    },
    {
      "cell_type": "code",
      "source": [
        "# Создаем токенизатор\n",
        "\n",
        "tokenizer = BertTokenizer.from_pretrained('bert-base-uncased',\n",
        "                                         do_lower_case=True)"
      ],
      "metadata": {
        "id": "KP6MVfbfmQsu",
        "colab": {
          "base_uri": "https://localhost:8080/"
        },
        "outputId": "a6715b88-badc-4633-ecee-2ffbc7632b1a"
      },
      "execution_count": null,
      "outputs": [
        {
          "output_type": "stream",
          "name": "stderr",
          "text": [
            "100%|██████████| 231508/231508 [00:00<00:00, 24268092.83B/s]\n"
          ]
        }
      ]
    },
    {
      "cell_type": "markdown",
      "source": [
        "Токенизируем каждый набор данных, добавляем специальный токен, а затем принимает только первые 512 токенов как для обучающих, так и для тестовых наборов"
      ],
      "metadata": {
        "id": "S0NGeZNs2LQ7"
      }
    },
    {
      "cell_type": "code",
      "source": [
        "train_tokens = list(map(lambda t: ['[CLS]']\n",
        "                   + tokenizer.tokenize(t)[:511], X_train))\n",
        "test_tokens = list(map(lambda t: ['[CLS]']\n",
        "                   + tokenizer.tokenize(t)[:511], X_test))\n",
        "\n",
        "len(train_tokens), len(test_tokens)"
      ],
      "metadata": {
        "colab": {
          "base_uri": "https://localhost:8080/"
        },
        "id": "Wy0IW0vzmQqG",
        "outputId": "0813ca08-8fdb-4bc7-f8e3-20f8a8b3e0e4"
      },
      "execution_count": null,
      "outputs": [
        {
          "output_type": "execute_result",
          "data": {
            "text/plain": [
              "(4086, 4087)"
            ]
          },
          "metadata": {},
          "execution_count": 10
        }
      ]
    },
    {
      "cell_type": "markdown",
      "source": [
        "Преобразуем каждый токен в id, существующий в словаре токенизатора"
      ],
      "metadata": {
        "id": "xWI84FnKBjjs"
      }
    },
    {
      "cell_type": "code",
      "source": [
        "train_tokens_ids = list(map(tokenizer.convert_tokens_to_ids, train_tokens))\n",
        "test_tokens_ids = list(map(tokenizer.convert_tokens_to_ids, test_tokens))"
      ],
      "metadata": {
        "id": "OVtb37IMqn8S"
      },
      "execution_count": null,
      "outputs": []
    },
    {
      "cell_type": "markdown",
      "source": [
        "Дополняем данные до единого размера  - 512 токенов"
      ],
      "metadata": {
        "id": "SGmtFTTLBu9x"
      }
    },
    {
      "cell_type": "code",
      "source": [
        "train_tokens_ids = pad_sequences(train_tokens_ids, maxlen=512,\n",
        "                                truncating=\"post\", padding=\"post\", dtype=\"int\")\n",
        "test_tokens_ids = pad_sequences(test_tokens_ids, maxlen=512, truncating=\"post\",\n",
        "                               padding=\"post\", dtype=\"int\")\n",
        "\n",
        "train_tokens_ids.shape, test_tokens_ids.shape"
      ],
      "metadata": {
        "colab": {
          "base_uri": "https://localhost:8080/"
        },
        "id": "5NkejX5yrG7P",
        "outputId": "23f18011-de0d-4d76-eff5-8e585bbf5382"
      },
      "execution_count": null,
      "outputs": [
        {
          "output_type": "execute_result",
          "data": {
            "text/plain": [
              "((4086, 512), (4087, 512))"
            ]
          },
          "metadata": {},
          "execution_count": 12
        }
      ]
    },
    {
      "cell_type": "code",
      "source": [
        "train_masks = [[float(i > 0) for i in ii] for ii in train_tokens_ids]\n",
        "test_masks = [[float(i > 0) for i in ii] for ii in test_tokens_ids]"
      ],
      "metadata": {
        "id": "xXBDpQYgCUAE"
      },
      "execution_count": null,
      "outputs": []
    },
    {
      "cell_type": "code",
      "source": [
        "# Преобразуем метки классов в numpy-массивы\n",
        "train_y = np.array(y_train)\n",
        "test_y = np.array(y_test)\n",
        "train_y.shape, test_y.shape"
      ],
      "metadata": {
        "colab": {
          "base_uri": "https://localhost:8080/"
        },
        "id": "8m4vZShjrlHy",
        "outputId": "26074a4c-c1ed-4dca-c9ff-dae96d926f6b"
      },
      "execution_count": null,
      "outputs": [
        {
          "output_type": "execute_result",
          "data": {
            "text/plain": [
              "((4086, 5), (4087, 5))"
            ]
          },
          "metadata": {},
          "execution_count": 14
        }
      ]
    },
    {
      "cell_type": "markdown",
      "source": [
        "\n",
        "# Cоздаем Baseline с помощью логистической регрессии"
      ],
      "metadata": {
        "id": "1kc1kucgsrdn"
      }
    },
    {
      "cell_type": "code",
      "source": [
        "# Переводим метки классов в одномерный тензор.\n",
        "y_train_1 = tf.argmax(train_y, axis = 1)\n",
        "print(len(y_train_1))\n",
        "y_test_1 = tf.argmax(test_y, axis = 1)\n",
        "print(len(y_test_1))"
      ],
      "metadata": {
        "colab": {
          "base_uri": "https://localhost:8080/"
        },
        "id": "NxGhyDqKwhwT",
        "outputId": "57699212-9910-4b97-a4be-3fb1cec61bd3"
      },
      "execution_count": null,
      "outputs": [
        {
          "output_type": "stream",
          "name": "stdout",
          "text": [
            "4086\n",
            "4087\n"
          ]
        }
      ]
    },
    {
      "cell_type": "code",
      "source": [
        "# Создаем и обучаем модель с помощью Pipeline\n",
        "baseline_model = make_pipeline(CountVectorizer(ngram_range=(1,3)),\n",
        "                              LogisticRegression()).fit(X_train, y_train_1)"
      ],
      "metadata": {
        "colab": {
          "base_uri": "https://localhost:8080/"
        },
        "id": "-LH3kqaFsSNc",
        "outputId": "9936d3c5-5831-4016-c2e4-fbb42d5614d4"
      },
      "execution_count": null,
      "outputs": [
        {
          "output_type": "stream",
          "name": "stderr",
          "text": [
            "/usr/local/lib/python3.8/dist-packages/sklearn/linear_model/_logistic.py:814: ConvergenceWarning: lbfgs failed to converge (status=1):\n",
            "STOP: TOTAL NO. of ITERATIONS REACHED LIMIT.\n",
            "\n",
            "Increase the number of iterations (max_iter) or scale the data as shown in:\n",
            "    https://scikit-learn.org/stable/modules/preprocessing.html\n",
            "Please also refer to the documentation for alternative solver options:\n",
            "    https://scikit-learn.org/stable/modules/linear_model.html#logistic-regression\n",
            "  n_iter_i = _check_optimize_result(\n"
          ]
        }
      ]
    },
    {
      "cell_type": "code",
      "source": [
        "# Делаем предсказание на исходных данных задачи\n",
        "baseline_predicted = baseline_model.predict(X_test)"
      ],
      "metadata": {
        "id": "0SsdISPnsSEq"
      },
      "execution_count": null,
      "outputs": []
    },
    {
      "cell_type": "code",
      "source": [
        "# Выводим classification_report\n",
        "print(classification_report(y_test_1, baseline_predicted))"
      ],
      "metadata": {
        "colab": {
          "base_uri": "https://localhost:8080/"
        },
        "id": "SgRoqKzNt-Us",
        "outputId": "e1e35673-2146-4e71-9588-920291b15868"
      },
      "execution_count": null,
      "outputs": [
        {
          "output_type": "stream",
          "name": "stdout",
          "text": [
            "              precision    recall  f1-score   support\n",
            "\n",
            "           0       0.54      0.38      0.44       558\n",
            "           1       0.54      0.30      0.39       645\n",
            "           2       0.40      0.36      0.38      1024\n",
            "           3       0.47      0.60      0.52       768\n",
            "           4       0.37      0.48      0.42      1092\n",
            "\n",
            "    accuracy                           0.43      4087\n",
            "   macro avg       0.46      0.42      0.43      4087\n",
            "weighted avg       0.45      0.43      0.43      4087\n",
            "\n"
          ]
        }
      ]
    },
    {
      "cell_type": "markdown",
      "source": [
        "Получаем результаты: Классическая модель ML предсказывает классы с accuracy 0.43 и f1-score 0.43.  \n",
        "Это базовый вариант, здесь мы не используем вектора из предобученной BERT-модели.\n"
      ],
      "metadata": {
        "id": "T5L58493DS-d"
      }
    },
    {
      "cell_type": "markdown",
      "source": [
        "# Тонкая настройка BERT model"
      ],
      "metadata": {
        "id": "UlvOE5_duSix"
      }
    },
    {
      "cell_type": "markdown",
      "source": [
        "Осуществим «тонкую настройку» BERT - добавим дополнительный слой поверх BERT, а затем обучим все это вместе. Таким образом, мы тренируем наш дополнительный слой, а также изменяем (тонко настраиваем) веса BERT."
      ],
      "metadata": {
        "id": "3wODRo7vA2ak"
      }
    },
    {
      "cell_type": "markdown",
      "source": [
        "Результатом тонкой настройки BERT является обученная модель, которая использует BERT и дополнительный линейный слой для обеспечения классификации на 5 классов"
      ],
      "metadata": {
        "id": "GYwvqY1YDpfT"
      }
    },
    {
      "cell_type": "code",
      "source": [
        "# Создаем модель BERT\n",
        "class BertMultiLabelClassifier(nn.Module):\n",
        "    def __init__(self, dropout=0.1):\n",
        "        super(BertMultiLabelClassifier, self).__init__()\n",
        "\n",
        "        self.bert = BertModel.from_pretrained('bert-base-uncased')\n",
        "        self.linear = nn.Linear(768, num_classes)\n",
        "\n",
        "    def forward(self, tokens, masks=None):\n",
        "        _, pooled_output = self.bert(tokens, attention_mask=masks,\n",
        "                                    output_all_encoded_layers=False)\n",
        "        linear_output = self.linear(pooled_output)\n",
        "        return linear_output"
      ],
      "metadata": {
        "id": "Usm8rVvzt-RW"
      },
      "execution_count": null,
      "outputs": []
    },
    {
      "cell_type": "code",
      "source": [
        "device = torch.device(\"cuda\" if torch.cuda.is_available() else \"cpu\")\n",
        "device"
      ],
      "metadata": {
        "colab": {
          "base_uri": "https://localhost:8080/"
        },
        "id": "9MfHVXBut-Or",
        "outputId": "880beb7a-4e5a-4bf3-aa0e-cc51ca7dd322"
      },
      "execution_count": null,
      "outputs": [
        {
          "output_type": "execute_result",
          "data": {
            "text/plain": [
              "device(type='cuda')"
            ]
          },
          "metadata": {},
          "execution_count": 20
        }
      ]
    },
    {
      "cell_type": "code",
      "source": [
        "# Создаем модель и перемещаем ее в GPU\n",
        "\n",
        "bert_clf = BertMultiLabelClassifier()\n",
        "bert_clf = bert_clf.cuda()"
      ],
      "metadata": {
        "id": "f2W15zDKDlHP",
        "colab": {
          "base_uri": "https://localhost:8080/"
        },
        "outputId": "111a1d58-ee18-4b0b-c6e8-624d78c0febf"
      },
      "execution_count": null,
      "outputs": [
        {
          "output_type": "stream",
          "name": "stderr",
          "text": [
            "100%|██████████| 407873900/407873900 [00:05<00:00, 75991771.70B/s]\n"
          ]
        }
      ]
    },
    {
      "cell_type": "code",
      "source": [
        "# Создаем тензоры для передачи в модель\n",
        "\n",
        "train_tokens_tensor = torch.tensor(train_tokens_ids)\n",
        "train_y_tensor = torch.tensor(train_y).float()\n",
        "\n",
        "test_tokens_tensor = torch.tensor(test_tokens_ids)\n",
        "test_y_tensor = torch.tensor(test_y).float()\n",
        "\n",
        "train_masks_tensor = torch.tensor(train_masks)\n",
        "test_masks_tensor = torch.tensor(test_masks)\n",
        "\n",
        "str(torch.cuda.memory_allocated(device)/1000000 ) + 'M'"
      ],
      "metadata": {
        "colab": {
          "base_uri": "https://localhost:8080/",
          "height": 35
        },
        "id": "rz1BOLpLkInb",
        "outputId": "4179b30b-d24a-40e5-bd1a-bcc5b9e2a87a"
      },
      "execution_count": null,
      "outputs": [
        {
          "output_type": "execute_result",
          "data": {
            "text/plain": [
              "'439.077376M'"
            ],
            "application/vnd.google.colaboratory.intrinsic+json": {
              "type": "string"
            }
          },
          "metadata": {},
          "execution_count": 22
        }
      ]
    },
    {
      "cell_type": "code",
      "source": [
        "BATCH_SIZE = 4\n",
        "EPOCHS = 3"
      ],
      "metadata": {
        "id": "Rz0g61NEGai9"
      },
      "execution_count": null,
      "outputs": []
    },
    {
      "cell_type": "code",
      "source": [
        "# Готовим загрузчики данных\n",
        "train_dataset = TensorDataset(train_tokens_tensor, train_masks_tensor,\n",
        "                             train_y_tensor)\n",
        "train_sampler = RandomSampler(train_dataset)\n",
        "train_dataloader = DataLoader(train_dataset, sampler=train_sampler,\n",
        "                             batch_size=BATCH_SIZE)\n",
        "\n",
        "test_dataset = TensorDataset(test_tokens_tensor, test_masks_tensor,\n",
        "                            test_y_tensor)\n",
        "test_sampler = SequentialSampler(test_dataset)\n",
        "test_dataloader = DataLoader(test_dataset, sampler=test_sampler,\n",
        "                            batch_size=BATCH_SIZE)\n"
      ],
      "metadata": {
        "id": "NXzYamPIwODy"
      },
      "execution_count": null,
      "outputs": []
    },
    {
      "cell_type": "code",
      "source": [
        "# Берем оптимизатор Adam\n",
        "optimizer = Adam(bert_clf.parameters(), lr=3e-6)"
      ],
      "metadata": {
        "id": "0EkT2v1vwOGo"
      },
      "execution_count": null,
      "outputs": []
    },
    {
      "cell_type": "code",
      "source": [
        "# Применяем функцию потерь\n",
        "loss_func = nn.BCEWithLogitsLoss().cuda()"
      ],
      "metadata": {
        "id": "dQjmLzXYwrKP"
      },
      "execution_count": null,
      "outputs": []
    },
    {
      "cell_type": "code",
      "source": [
        "# Обучаем модель на 3 эпохах\n",
        "\n",
        "losses = []\n",
        "steps = []\n",
        "step = 0\n",
        "for epoch_num in range(EPOCHS):\n",
        "    bert_clf.train()\n",
        "    train_loss = 0\n",
        "    for step_num, batch_data in enumerate(train_dataloader):\n",
        "        token_ids, masks, labels = tuple(t.to(device) for t in batch_data)\n",
        "        probas = bert_clf(token_ids, masks)    # получаем вероятности\n",
        "\n",
        "        batch_loss = loss_func(probas, labels) # рассчитаем потери\n",
        "        train_loss += batch_loss.item()\n",
        "\n",
        "\n",
        "        bert_clf.zero_grad()      # обнуляем градиенты с предыдущего шага\n",
        "        batch_loss.backward()     # рассчитаем и распространим новые градиенты\n",
        "\n",
        "\n",
        "        clip_grad_norm_(parameters=bert_clf.parameters(), max_norm=1.0)\n",
        "        optimizer.step()     # обновим параметры модели относительно градиентов\n",
        "\n",
        "        clear_output(wait=True)\n",
        "        print('Epoch: ', epoch_num + 1)\n",
        "        print(\"{0}/{1} loss: {2} \".format(step_num, len(X_train) / BATCH_SIZE,\n",
        "                                         train_loss / (step_num + 1)))\n",
        "        losses.append(batch_loss.item())\n",
        "        steps.append(step)\n",
        "        step += 1"
      ],
      "metadata": {
        "colab": {
          "base_uri": "https://localhost:8080/"
        },
        "id": "rbrh0iRewrNZ",
        "outputId": "34e5e148-2549-4728-e738-2a05cd4f0fd8"
      },
      "execution_count": null,
      "outputs": [
        {
          "output_type": "stream",
          "name": "stdout",
          "text": [
            "Epoch:  3\n",
            "1021/1021.5 loss: 0.16568873050110505 \n"
          ]
        }
      ]
    },
    {
      "cell_type": "code",
      "source": [
        "# Тестируем результаты работы модели\n",
        "\n",
        "bert_clf.eval()\n",
        "bert_predicted = []\n",
        "all_logits = []\n",
        "with torch.no_grad():\n",
        "    for step_num, batch_data in enumerate(test_dataloader):\n",
        "\n",
        "        token_ids, masks, labels = tuple(t.to(device) for t in batch_data)\n",
        "\n",
        "        probas = bert_clf(token_ids, masks)\n",
        "        numpy_probas = probas.cpu().detach().numpy()\n",
        "        bert_predicted += list(np.argmax(softmax(numpy_probas), axis=1))"
      ],
      "metadata": {
        "id": "rTZG-uNIwrS8"
      },
      "execution_count": null,
      "outputs": []
    },
    {
      "cell_type": "code",
      "source": [
        "# Проверим как обучилась модель\n",
        "print(classification_report(y_test_1, bert_predicted))"
      ],
      "metadata": {
        "colab": {
          "base_uri": "https://localhost:8080/"
        },
        "id": "pX3BSjc8qEsD",
        "outputId": "4c51344b-89dd-4520-f56f-97dcc8ba8547"
      },
      "execution_count": null,
      "outputs": [
        {
          "output_type": "stream",
          "name": "stdout",
          "text": [
            "              precision    recall  f1-score   support\n",
            "\n",
            "           0       0.55      0.79      0.65       558\n",
            "           1       0.62      0.70      0.66       645\n",
            "           2       0.55      0.48      0.51      1024\n",
            "           3       0.66      0.66      0.66       768\n",
            "           4       0.56      0.46      0.51      1092\n",
            "\n",
            "    accuracy                           0.59      4087\n",
            "   macro avg       0.59      0.62      0.60      4087\n",
            "weighted avg       0.59      0.59      0.58      4087\n",
            "\n"
          ]
        }
      ]
    },
    {
      "cell_type": "markdown",
      "source": [
        "В результате точной настройки BERT на нашем маркированном наборе получили результативность: accuracy 0.59, f1-score - 0.60. Результаты оказались лучше, чем базовый уровень (Baseline)"
      ],
      "metadata": {
        "id": "x1fqQukvIvKp"
      }
    },
    {
      "cell_type": "markdown",
      "source": [
        "# Получим необработанные logits из дообученной BERT-модели на тренировочных данных"
      ],
      "metadata": {
        "id": "HxXzbYTBA1AA"
      }
    },
    {
      "cell_type": "code",
      "source": [
        "# Готовим загрузчики тренировочных данных\n",
        "train_dataset_for_distill = TensorDataset(train_tokens_tensor,\n",
        "                                         train_masks_tensor, train_y_tensor)\n",
        "train_dataloader_for_distill = DataLoader(train_dataset, batch_size=BATCH_SIZE)"
      ],
      "metadata": {
        "id": "TqqhaqrHAipm"
      },
      "execution_count": null,
      "outputs": []
    },
    {
      "cell_type": "code",
      "source": [
        "bert_clf.eval()\n",
        "train_logits = []\n",
        "with torch.no_grad():\n",
        "    for step_num, batch_data in enumerate(train_dataloader_for_distill):\n",
        "\n",
        "        token_ids, masks, labels = tuple(t.to(device) for t in batch_data)\n",
        "\n",
        "        logits = bert_clf(token_ids, masks)\n",
        "        numpy_logits = logits.cpu().detach().numpy()\n",
        "\n",
        "        train_logits.append(numpy_logits)\n",
        "train_logits = np.vstack(train_logits)"
      ],
      "metadata": {
        "id": "KkuuFzbhAinO"
      },
      "execution_count": null,
      "outputs": []
    },
    {
      "cell_type": "code",
      "source": [
        "train_logits.shape"
      ],
      "metadata": {
        "colab": {
          "base_uri": "https://localhost:8080/"
        },
        "id": "zUA6fXBaH87q",
        "outputId": "2f9bde26-341c-43af-f45e-7ab25bb262c4"
      },
      "execution_count": null,
      "outputs": [
        {
          "output_type": "execute_result",
          "data": {
            "text/plain": [
              "(4086, 5)"
            ]
          },
          "metadata": {},
          "execution_count": 62
        }
      ]
    },
    {
      "cell_type": "markdown",
      "source": [
        "# Реализуем классическую ML-модель на необработанных logits из \"тонко настроенной\" BERT-модели"
      ],
      "metadata": {
        "id": "1MyIH9JDKckR"
      }
    },
    {
      "cell_type": "code",
      "source": [
        "from sklearn.linear_model import LinearRegression"
      ],
      "metadata": {
        "id": "BAR2ekiWBC_v"
      },
      "execution_count": null,
      "outputs": []
    },
    {
      "cell_type": "code",
      "source": [
        "distilled_model = make_pipeline(CountVectorizer(ngram_range=(1,3)),\n",
        "                               LinearRegression()).fit(X_train, train_logits)"
      ],
      "metadata": {
        "id": "LK_ufcoxBDCi"
      },
      "execution_count": null,
      "outputs": []
    },
    {
      "cell_type": "code",
      "source": [
        "distilled_predicted_logits = distilled_model.predict(X_test)"
      ],
      "metadata": {
        "id": "7XC147LYBDFR"
      },
      "execution_count": null,
      "outputs": []
    },
    {
      "cell_type": "code",
      "source": [
        "# Выведем classification_report\n",
        "print(classification_report(y_test_1,\n",
        "                           np.argmax(softmax(distilled_predicted_logits),\n",
        "                           axis=1)))"
      ],
      "metadata": {
        "id": "XbFm50HNAihs",
        "colab": {
          "base_uri": "https://localhost:8080/"
        },
        "outputId": "729f73d4-1fc0-428f-9ee5-09af95b8090d"
      },
      "execution_count": null,
      "outputs": [
        {
          "output_type": "stream",
          "name": "stdout",
          "text": [
            "              precision    recall  f1-score   support\n",
            "\n",
            "           0       0.48      0.54      0.51       558\n",
            "           1       0.51      0.56      0.53       645\n",
            "           2       0.39      0.28      0.32      1024\n",
            "           3       0.40      0.72      0.52       768\n",
            "           4       0.41      0.24      0.31      1092\n",
            "\n",
            "    accuracy                           0.43      4087\n",
            "   macro avg       0.44      0.47      0.44      4087\n",
            "weighted avg       0.43      0.43      0.41      4087\n",
            "\n"
          ]
        }
      ]
    },
    {
      "cell_type": "markdown",
      "source": [
        "Результативность работы модели невысокая: accuracy 0.43, f1-score - 0.44. Это не лучше Baseline."
      ],
      "metadata": {
        "id": "iormiTO-KYDV"
      }
    },
    {
      "cell_type": "markdown",
      "source": [
        "#Обучение классической ML-модели с использованием необработанных logits"
      ],
      "metadata": {
        "id": "6sQFibjGBn6d"
      }
    },
    {
      "cell_type": "markdown",
      "source": [
        "В этой части работы мы используем вторую часть датасета (80%) в качестве непомеченного набора и «маркируем» его с помощью нашей тонко настроенной модели BERT"
      ],
      "metadata": {
        "id": "ZEzDge46IzOU"
      }
    },
    {
      "cell_type": "markdown",
      "source": [
        "Здесь мы будем использовать конечный выход BERT в качестве входных данных для  ML-модели."
      ],
      "metadata": {
        "id": "CxPt2FboYlGR"
      }
    },
    {
      "cell_type": "code",
      "source": [
        "unlabeled_data = part_2.text\n",
        "unlabeled_data.shape"
      ],
      "metadata": {
        "id": "rFDwIlLUwOJo",
        "colab": {
          "base_uri": "https://localhost:8080/"
        },
        "outputId": "6e36a358-4736-4f49-b4e4-379aaaa28156"
      },
      "execution_count": null,
      "outputs": [
        {
          "output_type": "execute_result",
          "data": {
            "text/plain": [
              "(32695,)"
            ]
          },
          "metadata": {},
          "execution_count": 68
        }
      ]
    },
    {
      "cell_type": "code",
      "source": [
        "unlabeled_tokens = list(map(lambda t: ['[CLS]']\n",
        "                           + tokenizer.tokenize(t)[:511], unlabeled_data))"
      ],
      "metadata": {
        "id": "-go05ErCBffj"
      },
      "execution_count": null,
      "outputs": []
    },
    {
      "cell_type": "code",
      "source": [
        "unlabeled_tokens_ids = list(map(tokenizer.convert_tokens_to_ids,\n",
        "                               unlabeled_tokens))"
      ],
      "metadata": {
        "id": "9fXR1nXtBfij"
      },
      "execution_count": null,
      "outputs": []
    },
    {
      "cell_type": "code",
      "source": [
        "unlabeled_tokens_ids = pad_sequences(unlabeled_tokens_ids, maxlen=512,\n",
        "                                    truncating=\"post\", padding=\"post\",\n",
        "                                    dtype=\"int\")\n",
        "unlabeled_tokens_ids.shape\n",
        ""
      ],
      "metadata": {
        "colab": {
          "base_uri": "https://localhost:8080/"
        },
        "id": "lyGv7S2vB10k",
        "outputId": "7523131d-742d-4613-9468-d002b8c920d6"
      },
      "execution_count": null,
      "outputs": [
        {
          "output_type": "execute_result",
          "data": {
            "text/plain": [
              "(32695, 512)"
            ]
          },
          "metadata": {},
          "execution_count": 71
        }
      ]
    },
    {
      "cell_type": "code",
      "source": [
        "unlabeled_masks = [[float(i > 0) for i in ii] for ii in unlabeled_tokens_ids]"
      ],
      "metadata": {
        "id": "r19ej_PLB13S"
      },
      "execution_count": null,
      "outputs": []
    },
    {
      "cell_type": "code",
      "source": [
        "unlabeled_tokens_tensor = torch.tensor(unlabeled_tokens_ids)\n",
        "unlabeled_masks_tensor = torch.tensor(unlabeled_masks)"
      ],
      "metadata": {
        "id": "fCVuv-l9B16M"
      },
      "execution_count": null,
      "outputs": []
    },
    {
      "cell_type": "code",
      "source": [
        "unlabeled_dataset = TensorDataset(unlabeled_tokens_tensor,\n",
        "                                 unlabeled_masks_tensor)\n",
        "unlabeled_dataloader = DataLoader(unlabeled_dataset, batch_size=BATCH_SIZE)"
      ],
      "metadata": {
        "id": "2q9eK8VzB18x"
      },
      "execution_count": null,
      "outputs": []
    },
    {
      "cell_type": "markdown",
      "source": [
        "Из немаркированного набора (unlabeled_data) с помощью настроенной модели BERT получаем необработанные logits"
      ],
      "metadata": {
        "id": "m06KzteQ-Eh5"
      }
    },
    {
      "cell_type": "code",
      "source": [
        "bert_clf.eval()\n",
        "unlabeled_logits = []\n",
        "with torch.no_grad():\n",
        "    for step_num, batch_data in enumerate(unlabeled_dataloader):\n",
        "\n",
        "        token_ids, masks = tuple(t.to(device) for t in batch_data)\n",
        "\n",
        "        logits = bert_clf(token_ids, masks)\n",
        "        numpy_logits = logits.cpu().detach().numpy()\n",
        "\n",
        "        unlabeled_logits.append(numpy_logits)\n",
        "        clear_output(wait=True)\n",
        "        print(\"{0}/{1}\".format(step_num, len(unlabeled_data) / BATCH_SIZE))\n",
        "unlabeled_logits = np.vstack(unlabeled_logits)"
      ],
      "metadata": {
        "colab": {
          "base_uri": "https://localhost:8080/"
        },
        "id": "Kp4R4UeLB1_J",
        "outputId": "a135b11c-b633-46c7-85d4-7b15ff11a534"
      },
      "execution_count": null,
      "outputs": [
        {
          "output_type": "stream",
          "name": "stdout",
          "text": [
            "8173/8173.75\n"
          ]
        }
      ]
    },
    {
      "cell_type": "code",
      "source": [
        "unlabeled_logits.shape"
      ],
      "metadata": {
        "colab": {
          "base_uri": "https://localhost:8080/"
        },
        "id": "LUKLvf1CFeOs",
        "outputId": "b94b334b-db3b-4483-d947-2e6072e0cb0d"
      },
      "execution_count": null,
      "outputs": [
        {
          "output_type": "execute_result",
          "data": {
            "text/plain": [
              "(32695, 5)"
            ]
          },
          "metadata": {},
          "execution_count": 77
        }
      ]
    },
    {
      "cell_type": "markdown",
      "source": [
        "Обучаем модель LinearRegression на полученных необработанных logits"
      ],
      "metadata": {
        "id": "dcWSSVp3-U4R"
      }
    },
    {
      "cell_type": "code",
      "source": [
        "unlabeled_model = make_pipeline(CountVectorizer(ngram_range=(1,3)),\n",
        "                               LinearRegression()).fit(unlabeled_data,\n",
        "                               unlabeled_logits)"
      ],
      "metadata": {
        "id": "A1fNOVzGCHn4"
      },
      "execution_count": null,
      "outputs": []
    },
    {
      "cell_type": "markdown",
      "source": [
        "Делаем предсказание на данных X_test из части датасета part_1"
      ],
      "metadata": {
        "id": "HhuqVDG2-6sx"
      }
    },
    {
      "cell_type": "code",
      "source": [
        "unlabele_predicted_logits = unlabeled_model.predict(X_test)"
      ],
      "metadata": {
        "id": "TKQ-kuGYCHrK"
      },
      "execution_count": null,
      "outputs": []
    },
    {
      "cell_type": "code",
      "source": [
        "unlabele_predicted_logits.shape"
      ],
      "metadata": {
        "colab": {
          "base_uri": "https://localhost:8080/"
        },
        "id": "3yrM2Qr1zL2H",
        "outputId": "21e735b3-9d69-4d60-f00e-a7fc78df4265"
      },
      "execution_count": null,
      "outputs": [
        {
          "output_type": "execute_result",
          "data": {
            "text/plain": [
              "(4087, 5)"
            ]
          },
          "metadata": {},
          "execution_count": 80
        }
      ]
    },
    {
      "cell_type": "code",
      "source": [
        "print(classification_report(y_test_1,\n",
        "                           np.argmax(softmax(unlabele_predicted_logits),\n",
        "                           axis=1)))"
      ],
      "metadata": {
        "id": "wq9slTKDCHtf",
        "colab": {
          "base_uri": "https://localhost:8080/"
        },
        "outputId": "ee088f29-cf8c-4383-c36b-bb43846c400a"
      },
      "execution_count": null,
      "outputs": [
        {
          "output_type": "stream",
          "name": "stdout",
          "text": [
            "              precision    recall  f1-score   support\n",
            "\n",
            "           0       0.52      0.63      0.57       558\n",
            "           1       0.53      0.61      0.57       645\n",
            "           2       0.44      0.30      0.36      1024\n",
            "           3       0.44      0.72      0.54       768\n",
            "           4       0.44      0.28      0.35      1092\n",
            "\n",
            "    accuracy                           0.47      4087\n",
            "   macro avg       0.47      0.51      0.48      4087\n",
            "weighted avg       0.47      0.47      0.45      4087\n",
            "\n"
          ]
        }
      ]
    },
    {
      "cell_type": "markdown",
      "source": [
        "Результативность работы модели составила: accuracy 0.47, f1-score - 0.48. Это несколько выше ранее достигнутого результата."
      ],
      "metadata": {
        "id": "cI95Z_Xl6QbA"
      }
    },
    {
      "cell_type": "markdown",
      "source": [
        "К сожалению, требуемую метрику результативности работы модели  accuracy >= 85% достичь не удалось."
      ],
      "metadata": {
        "id": "jrmXjArU6YmX"
      }
    },
    {
      "cell_type": "markdown",
      "source": [
        "#Итоговые метрики всех моделей, реализованных в проекте (Части 1, 2 и 3)"
      ],
      "metadata": {
        "id": "DItu1ar5Pjpb"
      }
    },
    {
      "cell_type": "code",
      "source": [
        "# Выведем таблицу результатов работы всех моделей.\n",
        "\n",
        "table=pd.DataFrame(columns = ['Accuracy', 'f1-score'],\n",
        "                   index = ['Наивная модель', 'MultinomialNB', 'SGDClassifier',\n",
        "                            'Модель 1 LSTM', 'Модель 2 LSTM',\n",
        "                            'Модель 3 с двумя LSTM', 'Модель 4 с двумя LSTM',\n",
        "                            'Модель 5 с RNN,LSTM', 'Модель 6 с GRU',\n",
        "                            'Модель 7 Bidirectional LSTM', 'SimpleRNN', 'LSTM',\n",
        "                            'GRU', 'LinearRegression на векторах BERT', 'Дообученная LinearRegression на векторах BERT'\n",
        "                           ]\n",
        "                  )"
      ],
      "metadata": {
        "id": "KCMoDUqiPxWe"
      },
      "execution_count": null,
      "outputs": []
    },
    {
      "cell_type": "code",
      "source": [
        "table.loc['Наивная модель'] = [0.20, 0.09]\n",
        "table.loc['MultinomialNB'] = [0.37, 0.22]\n",
        "table.loc['SGDClassifier'] = [0.54, 0.54]\n",
        "table.loc['Модель 1 LSTM'] = [0.65, 0.66]\n",
        "table.loc['Модель 2 LSTM'] = [0.62, 0.63]\n",
        "table.loc['Модель 3 с двумя LSTM'] = [0.61, 0.62]\n",
        "table.loc['Модель 4 с двумя LSTM'] = [0.63, 0.64]\n",
        "table.loc['Модель 5 с RNN,LSTM'] = [0.63, 0.64]\n",
        "table.loc['Модель 6 с GRU'] = [0.28, 0.09]\n",
        "table.loc['Модель 7 Bidirectional LSTM'] = [0.62, 0.63]\n",
        "table.loc['SimpleRNN'] = [0.25, 0.12]\n",
        "table.loc['LSTM'] = [0.72, 0.72]\n",
        "table.loc['GRU'] = [0.70, 0.71]\n",
        "table.loc['LinearRegression на векторах BERT'] = [0.43, 0.44]\n",
        "table.loc['Дообученная LinearRegression на векторах BERT'] = [0.47, 0.48]"
      ],
      "metadata": {
        "id": "RBEO6tPoQVEI"
      },
      "execution_count": null,
      "outputs": []
    },
    {
      "cell_type": "code",
      "source": [
        "table"
      ],
      "metadata": {
        "colab": {
          "base_uri": "https://localhost:8080/",
          "height": 519
        },
        "id": "PIZCIo0bUXue",
        "outputId": "2857cd6f-560c-4206-8102-e489c6e68061"
      },
      "execution_count": null,
      "outputs": [
        {
          "output_type": "execute_result",
          "data": {
            "text/plain": [
              "                                              Accuracy f1-score\n",
              "Наивная модель                                     0.2     0.09\n",
              "MultinomialNB                                     0.37     0.22\n",
              "SGDClassifier                                     0.54     0.54\n",
              "Модель 1 LSTM                                     0.65     0.66\n",
              "Модель 2 LSTM                                     0.62     0.63\n",
              "Модель 3 с двумя LSTM                             0.61     0.62\n",
              "Модель 4 с двумя LSTM                             0.63     0.64\n",
              "Модель 5 с RNN,LSTM                               0.63     0.64\n",
              "Модель 6 с GRU                                    0.28     0.09\n",
              "Модель 7 Bidirectional LSTM                       0.62     0.63\n",
              "SimpleRNN                                         0.25     0.12\n",
              "LSTM                                              0.72     0.72\n",
              "GRU                                                0.7     0.71\n",
              "LinearRegression на векторах BERT                 0.43     0.44\n",
              "Дообученная LinearRegression на векторах BERT     0.47     0.48"
            ],
            "text/html": [
              "\n",
              "  <div id=\"df-904ec332-107b-476c-8afa-1fc7605b37a5\">\n",
              "    <div class=\"colab-df-container\">\n",
              "      <div>\n",
              "<style scoped>\n",
              "    .dataframe tbody tr th:only-of-type {\n",
              "        vertical-align: middle;\n",
              "    }\n",
              "\n",
              "    .dataframe tbody tr th {\n",
              "        vertical-align: top;\n",
              "    }\n",
              "\n",
              "    .dataframe thead th {\n",
              "        text-align: right;\n",
              "    }\n",
              "</style>\n",
              "<table border=\"1\" class=\"dataframe\">\n",
              "  <thead>\n",
              "    <tr style=\"text-align: right;\">\n",
              "      <th></th>\n",
              "      <th>Accuracy</th>\n",
              "      <th>f1-score</th>\n",
              "    </tr>\n",
              "  </thead>\n",
              "  <tbody>\n",
              "    <tr>\n",
              "      <th>Наивная модель</th>\n",
              "      <td>0.2</td>\n",
              "      <td>0.09</td>\n",
              "    </tr>\n",
              "    <tr>\n",
              "      <th>MultinomialNB</th>\n",
              "      <td>0.37</td>\n",
              "      <td>0.22</td>\n",
              "    </tr>\n",
              "    <tr>\n",
              "      <th>SGDClassifier</th>\n",
              "      <td>0.54</td>\n",
              "      <td>0.54</td>\n",
              "    </tr>\n",
              "    <tr>\n",
              "      <th>Модель 1 LSTM</th>\n",
              "      <td>0.65</td>\n",
              "      <td>0.66</td>\n",
              "    </tr>\n",
              "    <tr>\n",
              "      <th>Модель 2 LSTM</th>\n",
              "      <td>0.62</td>\n",
              "      <td>0.63</td>\n",
              "    </tr>\n",
              "    <tr>\n",
              "      <th>Модель 3 с двумя LSTM</th>\n",
              "      <td>0.61</td>\n",
              "      <td>0.62</td>\n",
              "    </tr>\n",
              "    <tr>\n",
              "      <th>Модель 4 с двумя LSTM</th>\n",
              "      <td>0.63</td>\n",
              "      <td>0.64</td>\n",
              "    </tr>\n",
              "    <tr>\n",
              "      <th>Модель 5 с RNN,LSTM</th>\n",
              "      <td>0.63</td>\n",
              "      <td>0.64</td>\n",
              "    </tr>\n",
              "    <tr>\n",
              "      <th>Модель 6 с GRU</th>\n",
              "      <td>0.28</td>\n",
              "      <td>0.09</td>\n",
              "    </tr>\n",
              "    <tr>\n",
              "      <th>Модель 7 Bidirectional LSTM</th>\n",
              "      <td>0.62</td>\n",
              "      <td>0.63</td>\n",
              "    </tr>\n",
              "    <tr>\n",
              "      <th>SimpleRNN</th>\n",
              "      <td>0.25</td>\n",
              "      <td>0.12</td>\n",
              "    </tr>\n",
              "    <tr>\n",
              "      <th>LSTM</th>\n",
              "      <td>0.72</td>\n",
              "      <td>0.72</td>\n",
              "    </tr>\n",
              "    <tr>\n",
              "      <th>GRU</th>\n",
              "      <td>0.7</td>\n",
              "      <td>0.71</td>\n",
              "    </tr>\n",
              "    <tr>\n",
              "      <th>LinearRegression на векторах BERT</th>\n",
              "      <td>0.43</td>\n",
              "      <td>0.44</td>\n",
              "    </tr>\n",
              "    <tr>\n",
              "      <th>Дообученная LinearRegression на векторах BERT</th>\n",
              "      <td>0.47</td>\n",
              "      <td>0.48</td>\n",
              "    </tr>\n",
              "  </tbody>\n",
              "</table>\n",
              "</div>\n",
              "      <button class=\"colab-df-convert\" onclick=\"convertToInteractive('df-904ec332-107b-476c-8afa-1fc7605b37a5')\"\n",
              "              title=\"Convert this dataframe to an interactive table.\"\n",
              "              style=\"display:none;\">\n",
              "        \n",
              "  <svg xmlns=\"http://www.w3.org/2000/svg\" height=\"24px\"viewBox=\"0 0 24 24\"\n",
              "       width=\"24px\">\n",
              "    <path d=\"M0 0h24v24H0V0z\" fill=\"none\"/>\n",
              "    <path d=\"M18.56 5.44l.94 2.06.94-2.06 2.06-.94-2.06-.94-.94-2.06-.94 2.06-2.06.94zm-11 1L8.5 8.5l.94-2.06 2.06-.94-2.06-.94L8.5 2.5l-.94 2.06-2.06.94zm10 10l.94 2.06.94-2.06 2.06-.94-2.06-.94-.94-2.06-.94 2.06-2.06.94z\"/><path d=\"M17.41 7.96l-1.37-1.37c-.4-.4-.92-.59-1.43-.59-.52 0-1.04.2-1.43.59L10.3 9.45l-7.72 7.72c-.78.78-.78 2.05 0 2.83L4 21.41c.39.39.9.59 1.41.59.51 0 1.02-.2 1.41-.59l7.78-7.78 2.81-2.81c.8-.78.8-2.07 0-2.86zM5.41 20L4 18.59l7.72-7.72 1.47 1.35L5.41 20z\"/>\n",
              "  </svg>\n",
              "      </button>\n",
              "      \n",
              "  <style>\n",
              "    .colab-df-container {\n",
              "      display:flex;\n",
              "      flex-wrap:wrap;\n",
              "      gap: 12px;\n",
              "    }\n",
              "\n",
              "    .colab-df-convert {\n",
              "      background-color: #E8F0FE;\n",
              "      border: none;\n",
              "      border-radius: 50%;\n",
              "      cursor: pointer;\n",
              "      display: none;\n",
              "      fill: #1967D2;\n",
              "      height: 32px;\n",
              "      padding: 0 0 0 0;\n",
              "      width: 32px;\n",
              "    }\n",
              "\n",
              "    .colab-df-convert:hover {\n",
              "      background-color: #E2EBFA;\n",
              "      box-shadow: 0px 1px 2px rgba(60, 64, 67, 0.3), 0px 1px 3px 1px rgba(60, 64, 67, 0.15);\n",
              "      fill: #174EA6;\n",
              "    }\n",
              "\n",
              "    [theme=dark] .colab-df-convert {\n",
              "      background-color: #3B4455;\n",
              "      fill: #D2E3FC;\n",
              "    }\n",
              "\n",
              "    [theme=dark] .colab-df-convert:hover {\n",
              "      background-color: #434B5C;\n",
              "      box-shadow: 0px 1px 3px 1px rgba(0, 0, 0, 0.15);\n",
              "      filter: drop-shadow(0px 1px 2px rgba(0, 0, 0, 0.3));\n",
              "      fill: #FFFFFF;\n",
              "    }\n",
              "  </style>\n",
              "\n",
              "      <script>\n",
              "        const buttonEl =\n",
              "          document.querySelector('#df-904ec332-107b-476c-8afa-1fc7605b37a5 button.colab-df-convert');\n",
              "        buttonEl.style.display =\n",
              "          google.colab.kernel.accessAllowed ? 'block' : 'none';\n",
              "\n",
              "        async function convertToInteractive(key) {\n",
              "          const element = document.querySelector('#df-904ec332-107b-476c-8afa-1fc7605b37a5');\n",
              "          const dataTable =\n",
              "            await google.colab.kernel.invokeFunction('convertToInteractive',\n",
              "                                                     [key], {});\n",
              "          if (!dataTable) return;\n",
              "\n",
              "          const docLinkHtml = 'Like what you see? Visit the ' +\n",
              "            '<a target=\"_blank\" href=https://colab.research.google.com/notebooks/data_table.ipynb>data table notebook</a>'\n",
              "            + ' to learn more about interactive tables.';\n",
              "          element.innerHTML = '';\n",
              "          dataTable['output_type'] = 'display_data';\n",
              "          await google.colab.output.renderOutput(dataTable, element);\n",
              "          const docLink = document.createElement('div');\n",
              "          docLink.innerHTML = docLinkHtml;\n",
              "          element.appendChild(docLink);\n",
              "        }\n",
              "      </script>\n",
              "    </div>\n",
              "  </div>\n",
              "  "
            ]
          },
          "metadata": {},
          "execution_count": 23
        }
      ]
    },
    {
      "cell_type": "markdown",
      "source": [
        "Из всех рассмотренных в Задаче (Части 1, 2 и 3) методов наилучшие результаты достигнуты при использовании  предварительно обученных векторных представлений слов GloVe моделью LSTM (f1-score 0.72, accuracy 0.72).  \n",
        "К сожалению, моделью классического ML на основе веторов из предобученной BERT- модели (в том числе с дообучением) улучшить данный результат не удалось."
      ],
      "metadata": {
        "id": "eVi1bkD6Vd3Q"
      }
    }
  ],
  "metadata": {
    "colab": {
      "provenance": [],
      "toc_visible": true,
      "include_colab_link": true
    },
    "gpuClass": "standard",
    "kernelspec": {
      "display_name": "Python 3",
      "name": "python3"
    },
    "language_info": {
      "name": "python"
    },
    "accelerator": "GPU"
  },
  "nbformat": 4,
  "nbformat_minor": 0
}